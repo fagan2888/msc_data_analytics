{
 "cells": [
  {
   "cell_type": "code",
   "execution_count": 1,
   "metadata": {
    "collapsed": false
   },
   "outputs": [
    {
     "name": "stderr",
     "output_type": "stream",
     "text": [
      "/opt/local/Library/Frameworks/Python.framework/Versions/2.7/lib/python2.7/site-packages/pandas/util/decorators.py:81: FutureWarning: the 'cols' keyword is deprecated, use 'columns' instead\n",
      "  warnings.warn(msg, FutureWarning)\n"
     ]
    },
    {
     "data": {
      "text/html": [
       "<div style=\"max-height:1000px;max-width:1500px;overflow:auto;\">\n",
       "<table border=\"1\" class=\"dataframe\">\n",
       "  <thead>\n",
       "    <tr style=\"text-align: right;\">\n",
       "      <th>test_type</th>\n",
       "      <th> A</th>\n",
       "      <th> B</th>\n",
       "      <th> C</th>\n",
       "      <th> D</th>\n",
       "    </tr>\n",
       "    <tr>\n",
       "      <th>approach_orientation</th>\n",
       "      <th></th>\n",
       "      <th></th>\n",
       "      <th></th>\n",
       "      <th></th>\n",
       "    </tr>\n",
       "  </thead>\n",
       "  <tbody>\n",
       "    <tr>\n",
       "      <th> DistanceToPhone</th>\n",
       "      <td> 2.237885</td>\n",
       "      <td> 2.471167</td>\n",
       "      <td> 3.503679</td>\n",
       "      <td> 2.254365</td>\n",
       "    </tr>\n",
       "    <tr>\n",
       "      <th> RateOfChange</th>\n",
       "      <td> 3.890833</td>\n",
       "      <td> 2.956600</td>\n",
       "      <td> 3.642808</td>\n",
       "      <td> 3.216731</td>\n",
       "    </tr>\n",
       "  </tbody>\n",
       "</table>\n",
       "</div>"
      ],
      "text/plain": [
       "test_type                    A         B         C         D\n",
       "approach_orientation                                        \n",
       " DistanceToPhone      2.237885  2.471167  3.503679  2.254365\n",
       " RateOfChange         3.890833  2.956600  3.642808  3.216731"
      ]
     },
     "execution_count": 1,
     "metadata": {},
     "output_type": "execute_result"
    }
   ],
   "source": [
    "import pandas as pd\n",
    "import matplotlib\n",
    "import numpy as np\n",
    "import matplotlib.pylab as pylab\n",
    "pylab.rcParams['figure.figsize'] = (16.0, 12.0)\n",
    "results = pd.read_csv('ApproachStats.csv')\n",
    "results.pivot_table(index='approach_orientation', values='total_time', cols='test_type', aggfunc='mean')"
   ]
  },
  {
   "cell_type": "code",
   "execution_count": null,
   "metadata": {
    "collapsed": false
   },
   "outputs": [],
   "source": []
  },
  {
   "cell_type": "code",
   "execution_count": 10,
   "metadata": {
    "collapsed": false
   },
   "outputs": [
    {
     "data": {
      "text/html": [
       "<div style=\"max-height:1000px;max-width:1500px;overflow:auto;\">\n",
       "<table border=\"1\" class=\"dataframe\">\n",
       "  <thead>\n",
       "    <tr style=\"text-align: right;\">\n",
       "      <th>user_id</th>\n",
       "      <th>0</th>\n",
       "      <th>100</th>\n",
       "      <th>101</th>\n",
       "      <th>102</th>\n",
       "      <th>103</th>\n",
       "      <th>104</th>\n",
       "      <th>106</th>\n",
       "    </tr>\n",
       "    <tr>\n",
       "      <th>layer_1_pct</th>\n",
       "      <th></th>\n",
       "      <th></th>\n",
       "      <th></th>\n",
       "      <th></th>\n",
       "      <th></th>\n",
       "      <th></th>\n",
       "      <th></th>\n",
       "    </tr>\n",
       "  </thead>\n",
       "  <tbody>\n",
       "    <tr>\n",
       "      <th> Z</th>\n",
       "      <td> 130</td>\n",
       "      <td> 130</td>\n",
       "      <td> 130</td>\n",
       "      <td> 130</td>\n",
       "      <td> 130</td>\n",
       "      <td> 130</td>\n",
       "      <td> 130</td>\n",
       "    </tr>\n",
       "  </tbody>\n",
       "</table>\n",
       "</div>"
      ],
      "text/plain": [
       "user_id      0    100  101  102  103  104  106\n",
       "layer_1_pct                                   \n",
       " Z           130  130  130  130  130  130  130"
      ]
     },
     "execution_count": 10,
     "metadata": {},
     "output_type": "execute_result"
    }
   ],
   "source": [
    "results.pivot_table(index=['layer_1_pct'], values='total_transitions', cols='user_id', aggfunc='count')"
   ]
  },
  {
   "cell_type": "code",
   "execution_count": 17,
   "metadata": {
    "collapsed": false
   },
   "outputs": [
    {
     "ename": "DataError",
     "evalue": "No numeric types to aggregate",
     "output_type": "error",
     "traceback": [
      "\u001b[0;31m---------------------------------------------------------------------------\u001b[0m\n\u001b[0;31mDataError\u001b[0m                                 Traceback (most recent call last)",
      "\u001b[0;32m<ipython-input-17-d2fc30ce724d>\u001b[0m in \u001b[0;36m<module>\u001b[0;34m()\u001b[0m\n\u001b[0;32m----> 1\u001b[0;31m \u001b[0mresults\u001b[0m\u001b[0;34m.\u001b[0m\u001b[0mpivot_table\u001b[0m\u001b[0;34m(\u001b[0m\u001b[0mindex\u001b[0m\u001b[0;34m=\u001b[0m\u001b[0;34m[\u001b[0m\u001b[0;34m'approach_orientation'\u001b[0m\u001b[0;34m,\u001b[0m\u001b[0;34m'continuous_animation'\u001b[0m\u001b[0;34m]\u001b[0m\u001b[0;34m,\u001b[0m \u001b[0mvalues\u001b[0m\u001b[0;34m=\u001b[0m\u001b[0;34m'target_entries'\u001b[0m\u001b[0;34m,\u001b[0m \u001b[0mcols\u001b[0m\u001b[0;34m=\u001b[0m\u001b[0;34m'user_id'\u001b[0m\u001b[0;34m,\u001b[0m \u001b[0maggfunc\u001b[0m\u001b[0;34m=\u001b[0m\u001b[0;34m'mean'\u001b[0m\u001b[0;34m)\u001b[0m\u001b[0;34m\u001b[0m\u001b[0m\n\u001b[0m",
      "\u001b[0;32m/opt/local/Library/Frameworks/Python.framework/Versions/2.7/lib/python2.7/site-packages/pandas/util/decorators.pyc\u001b[0m in \u001b[0;36mwrapper\u001b[0;34m(*args, **kwargs)\u001b[0m\n\u001b[1;32m     86\u001b[0m                 \u001b[0;32melse\u001b[0m\u001b[0;34m:\u001b[0m\u001b[0;34m\u001b[0m\u001b[0m\n\u001b[1;32m     87\u001b[0m                     \u001b[0mkwargs\u001b[0m\u001b[0;34m[\u001b[0m\u001b[0mnew_arg_name\u001b[0m\u001b[0;34m]\u001b[0m \u001b[0;34m=\u001b[0m \u001b[0mnew_arg_value\u001b[0m\u001b[0;34m\u001b[0m\u001b[0m\n\u001b[0;32m---> 88\u001b[0;31m             \u001b[0;32mreturn\u001b[0m \u001b[0mfunc\u001b[0m\u001b[0;34m(\u001b[0m\u001b[0;34m*\u001b[0m\u001b[0margs\u001b[0m\u001b[0;34m,\u001b[0m \u001b[0;34m**\u001b[0m\u001b[0mkwargs\u001b[0m\u001b[0;34m)\u001b[0m\u001b[0;34m\u001b[0m\u001b[0m\n\u001b[0m\u001b[1;32m     89\u001b[0m         \u001b[0;32mreturn\u001b[0m \u001b[0mwrapper\u001b[0m\u001b[0;34m\u001b[0m\u001b[0m\n\u001b[1;32m     90\u001b[0m     \u001b[0;32mreturn\u001b[0m \u001b[0m_deprecate_kwarg\u001b[0m\u001b[0;34m\u001b[0m\u001b[0m\n",
      "\u001b[0;32m/opt/local/Library/Frameworks/Python.framework/Versions/2.7/lib/python2.7/site-packages/pandas/util/decorators.pyc\u001b[0m in \u001b[0;36mwrapper\u001b[0;34m(*args, **kwargs)\u001b[0m\n\u001b[1;32m     86\u001b[0m                 \u001b[0;32melse\u001b[0m\u001b[0;34m:\u001b[0m\u001b[0;34m\u001b[0m\u001b[0m\n\u001b[1;32m     87\u001b[0m                     \u001b[0mkwargs\u001b[0m\u001b[0;34m[\u001b[0m\u001b[0mnew_arg_name\u001b[0m\u001b[0;34m]\u001b[0m \u001b[0;34m=\u001b[0m \u001b[0mnew_arg_value\u001b[0m\u001b[0;34m\u001b[0m\u001b[0m\n\u001b[0;32m---> 88\u001b[0;31m             \u001b[0;32mreturn\u001b[0m \u001b[0mfunc\u001b[0m\u001b[0;34m(\u001b[0m\u001b[0;34m*\u001b[0m\u001b[0margs\u001b[0m\u001b[0;34m,\u001b[0m \u001b[0;34m**\u001b[0m\u001b[0mkwargs\u001b[0m\u001b[0;34m)\u001b[0m\u001b[0;34m\u001b[0m\u001b[0m\n\u001b[0m\u001b[1;32m     89\u001b[0m         \u001b[0;32mreturn\u001b[0m \u001b[0mwrapper\u001b[0m\u001b[0;34m\u001b[0m\u001b[0m\n\u001b[1;32m     90\u001b[0m     \u001b[0;32mreturn\u001b[0m \u001b[0m_deprecate_kwarg\u001b[0m\u001b[0;34m\u001b[0m\u001b[0m\n",
      "\u001b[0;32m/opt/local/Library/Frameworks/Python.framework/Versions/2.7/lib/python2.7/site-packages/pandas/tools/pivot.pyc\u001b[0m in \u001b[0;36mpivot_table\u001b[0;34m(data, values, index, columns, aggfunc, fill_value, margins, dropna)\u001b[0m\n\u001b[1;32m    113\u001b[0m \u001b[0;34m\u001b[0m\u001b[0m\n\u001b[1;32m    114\u001b[0m     \u001b[0mgrouped\u001b[0m \u001b[0;34m=\u001b[0m \u001b[0mdata\u001b[0m\u001b[0;34m.\u001b[0m\u001b[0mgroupby\u001b[0m\u001b[0;34m(\u001b[0m\u001b[0mkeys\u001b[0m\u001b[0;34m)\u001b[0m\u001b[0;34m\u001b[0m\u001b[0m\n\u001b[0;32m--> 115\u001b[0;31m     \u001b[0magged\u001b[0m \u001b[0;34m=\u001b[0m \u001b[0mgrouped\u001b[0m\u001b[0;34m.\u001b[0m\u001b[0magg\u001b[0m\u001b[0;34m(\u001b[0m\u001b[0maggfunc\u001b[0m\u001b[0;34m)\u001b[0m\u001b[0;34m\u001b[0m\u001b[0m\n\u001b[0m\u001b[1;32m    116\u001b[0m \u001b[0;34m\u001b[0m\u001b[0m\n\u001b[1;32m    117\u001b[0m     \u001b[0mtable\u001b[0m \u001b[0;34m=\u001b[0m \u001b[0magged\u001b[0m\u001b[0;34m\u001b[0m\u001b[0m\n",
      "\u001b[0;32m/opt/local/Library/Frameworks/Python.framework/Versions/2.7/lib/python2.7/site-packages/pandas/core/groupby.pyc\u001b[0m in \u001b[0;36magg\u001b[0;34m(self, func, *args, **kwargs)\u001b[0m\n\u001b[1;32m    674\u001b[0m     \u001b[0;34m@\u001b[0m\u001b[0mAppender\u001b[0m\u001b[0;34m(\u001b[0m\u001b[0m_agg_doc\u001b[0m\u001b[0;34m)\u001b[0m\u001b[0;34m\u001b[0m\u001b[0m\n\u001b[1;32m    675\u001b[0m     \u001b[0;32mdef\u001b[0m \u001b[0magg\u001b[0m\u001b[0;34m(\u001b[0m\u001b[0mself\u001b[0m\u001b[0;34m,\u001b[0m \u001b[0mfunc\u001b[0m\u001b[0;34m,\u001b[0m \u001b[0;34m*\u001b[0m\u001b[0margs\u001b[0m\u001b[0;34m,\u001b[0m \u001b[0;34m**\u001b[0m\u001b[0mkwargs\u001b[0m\u001b[0;34m)\u001b[0m\u001b[0;34m:\u001b[0m\u001b[0;34m\u001b[0m\u001b[0m\n\u001b[0;32m--> 676\u001b[0;31m         \u001b[0;32mreturn\u001b[0m \u001b[0mself\u001b[0m\u001b[0;34m.\u001b[0m\u001b[0maggregate\u001b[0m\u001b[0;34m(\u001b[0m\u001b[0mfunc\u001b[0m\u001b[0;34m,\u001b[0m \u001b[0;34m*\u001b[0m\u001b[0margs\u001b[0m\u001b[0;34m,\u001b[0m \u001b[0;34m**\u001b[0m\u001b[0mkwargs\u001b[0m\u001b[0;34m)\u001b[0m\u001b[0;34m\u001b[0m\u001b[0m\n\u001b[0m\u001b[1;32m    677\u001b[0m \u001b[0;34m\u001b[0m\u001b[0m\n\u001b[1;32m    678\u001b[0m     \u001b[0;32mdef\u001b[0m \u001b[0m_iterate_slices\u001b[0m\u001b[0;34m(\u001b[0m\u001b[0mself\u001b[0m\u001b[0;34m)\u001b[0m\u001b[0;34m:\u001b[0m\u001b[0;34m\u001b[0m\u001b[0m\n",
      "\u001b[0;32m/opt/local/Library/Frameworks/Python.framework/Versions/2.7/lib/python2.7/site-packages/pandas/core/groupby.pyc\u001b[0m in \u001b[0;36maggregate\u001b[0;34m(self, arg, *args, **kwargs)\u001b[0m\n\u001b[1;32m   2613\u001b[0m     \u001b[0;32mdef\u001b[0m \u001b[0maggregate\u001b[0m\u001b[0;34m(\u001b[0m\u001b[0mself\u001b[0m\u001b[0;34m,\u001b[0m \u001b[0marg\u001b[0m\u001b[0;34m,\u001b[0m \u001b[0;34m*\u001b[0m\u001b[0margs\u001b[0m\u001b[0;34m,\u001b[0m \u001b[0;34m**\u001b[0m\u001b[0mkwargs\u001b[0m\u001b[0;34m)\u001b[0m\u001b[0;34m:\u001b[0m\u001b[0;34m\u001b[0m\u001b[0m\n\u001b[1;32m   2614\u001b[0m         \u001b[0;32mif\u001b[0m \u001b[0misinstance\u001b[0m\u001b[0;34m(\u001b[0m\u001b[0marg\u001b[0m\u001b[0;34m,\u001b[0m \u001b[0mcompat\u001b[0m\u001b[0;34m.\u001b[0m\u001b[0mstring_types\u001b[0m\u001b[0;34m)\u001b[0m\u001b[0;34m:\u001b[0m\u001b[0;34m\u001b[0m\u001b[0m\n\u001b[0;32m-> 2615\u001b[0;31m             \u001b[0;32mreturn\u001b[0m \u001b[0mgetattr\u001b[0m\u001b[0;34m(\u001b[0m\u001b[0mself\u001b[0m\u001b[0;34m,\u001b[0m \u001b[0marg\u001b[0m\u001b[0;34m)\u001b[0m\u001b[0;34m(\u001b[0m\u001b[0;34m*\u001b[0m\u001b[0margs\u001b[0m\u001b[0;34m,\u001b[0m \u001b[0;34m**\u001b[0m\u001b[0mkwargs\u001b[0m\u001b[0;34m)\u001b[0m\u001b[0;34m\u001b[0m\u001b[0m\n\u001b[0m\u001b[1;32m   2616\u001b[0m \u001b[0;34m\u001b[0m\u001b[0m\n\u001b[1;32m   2617\u001b[0m         \u001b[0mresult\u001b[0m \u001b[0;34m=\u001b[0m \u001b[0mOrderedDict\u001b[0m\u001b[0;34m(\u001b[0m\u001b[0;34m)\u001b[0m\u001b[0;34m\u001b[0m\u001b[0m\n",
      "\u001b[0;32m/opt/local/Library/Frameworks/Python.framework/Versions/2.7/lib/python2.7/site-packages/pandas/core/groupby.pyc\u001b[0m in \u001b[0;36mmean\u001b[0;34m(self)\u001b[0m\n\u001b[1;32m    689\u001b[0m         \"\"\"\n\u001b[1;32m    690\u001b[0m         \u001b[0;32mtry\u001b[0m\u001b[0;34m:\u001b[0m\u001b[0;34m\u001b[0m\u001b[0m\n\u001b[0;32m--> 691\u001b[0;31m             \u001b[0;32mreturn\u001b[0m \u001b[0mself\u001b[0m\u001b[0;34m.\u001b[0m\u001b[0m_cython_agg_general\u001b[0m\u001b[0;34m(\u001b[0m\u001b[0;34m'mean'\u001b[0m\u001b[0;34m)\u001b[0m\u001b[0;34m\u001b[0m\u001b[0m\n\u001b[0m\u001b[1;32m    692\u001b[0m         \u001b[0;32mexcept\u001b[0m \u001b[0mGroupByError\u001b[0m\u001b[0;34m:\u001b[0m\u001b[0;34m\u001b[0m\u001b[0m\n\u001b[1;32m    693\u001b[0m             \u001b[0;32mraise\u001b[0m\u001b[0;34m\u001b[0m\u001b[0m\n",
      "\u001b[0;32m/opt/local/Library/Frameworks/Python.framework/Versions/2.7/lib/python2.7/site-packages/pandas/core/groupby.pyc\u001b[0m in \u001b[0;36m_cython_agg_general\u001b[0;34m(self, how, numeric_only)\u001b[0m\n\u001b[1;32m   2533\u001b[0m \u001b[0;34m\u001b[0m\u001b[0m\n\u001b[1;32m   2534\u001b[0m     \u001b[0;32mdef\u001b[0m \u001b[0m_cython_agg_general\u001b[0m\u001b[0;34m(\u001b[0m\u001b[0mself\u001b[0m\u001b[0;34m,\u001b[0m \u001b[0mhow\u001b[0m\u001b[0;34m,\u001b[0m \u001b[0mnumeric_only\u001b[0m\u001b[0;34m=\u001b[0m\u001b[0mTrue\u001b[0m\u001b[0;34m)\u001b[0m\u001b[0;34m:\u001b[0m\u001b[0;34m\u001b[0m\u001b[0m\n\u001b[0;32m-> 2535\u001b[0;31m         \u001b[0mnew_items\u001b[0m\u001b[0;34m,\u001b[0m \u001b[0mnew_blocks\u001b[0m \u001b[0;34m=\u001b[0m \u001b[0mself\u001b[0m\u001b[0;34m.\u001b[0m\u001b[0m_cython_agg_blocks\u001b[0m\u001b[0;34m(\u001b[0m\u001b[0mhow\u001b[0m\u001b[0;34m,\u001b[0m \u001b[0mnumeric_only\u001b[0m\u001b[0;34m=\u001b[0m\u001b[0mnumeric_only\u001b[0m\u001b[0;34m)\u001b[0m\u001b[0;34m\u001b[0m\u001b[0m\n\u001b[0m\u001b[1;32m   2536\u001b[0m         \u001b[0;32mreturn\u001b[0m \u001b[0mself\u001b[0m\u001b[0;34m.\u001b[0m\u001b[0m_wrap_agged_blocks\u001b[0m\u001b[0;34m(\u001b[0m\u001b[0mnew_items\u001b[0m\u001b[0;34m,\u001b[0m \u001b[0mnew_blocks\u001b[0m\u001b[0;34m)\u001b[0m\u001b[0;34m\u001b[0m\u001b[0m\n\u001b[1;32m   2537\u001b[0m \u001b[0;34m\u001b[0m\u001b[0m\n",
      "\u001b[0;32m/opt/local/Library/Frameworks/Python.framework/Versions/2.7/lib/python2.7/site-packages/pandas/core/groupby.pyc\u001b[0m in \u001b[0;36m_cython_agg_blocks\u001b[0;34m(self, how, numeric_only)\u001b[0m\n\u001b[1;32m   2583\u001b[0m \u001b[0;34m\u001b[0m\u001b[0m\n\u001b[1;32m   2584\u001b[0m         \u001b[0;32mif\u001b[0m \u001b[0mlen\u001b[0m\u001b[0;34m(\u001b[0m\u001b[0mnew_blocks\u001b[0m\u001b[0;34m)\u001b[0m \u001b[0;34m==\u001b[0m \u001b[0;36m0\u001b[0m\u001b[0;34m:\u001b[0m\u001b[0;34m\u001b[0m\u001b[0m\n\u001b[0;32m-> 2585\u001b[0;31m             \u001b[0;32mraise\u001b[0m \u001b[0mDataError\u001b[0m\u001b[0;34m(\u001b[0m\u001b[0;34m'No numeric types to aggregate'\u001b[0m\u001b[0;34m)\u001b[0m\u001b[0;34m\u001b[0m\u001b[0m\n\u001b[0m\u001b[1;32m   2586\u001b[0m \u001b[0;34m\u001b[0m\u001b[0m\n\u001b[1;32m   2587\u001b[0m         \u001b[0;32mreturn\u001b[0m \u001b[0mdata\u001b[0m\u001b[0;34m.\u001b[0m\u001b[0mitems\u001b[0m\u001b[0;34m,\u001b[0m \u001b[0mnew_blocks\u001b[0m\u001b[0;34m\u001b[0m\u001b[0m\n",
      "\u001b[0;31mDataError\u001b[0m: No numeric types to aggregate"
     ]
    }
   ],
   "source": [
    "results.pivot_table(index=['approach_orientation','continuous_animation'], values='target_entries', cols='user_id', aggfunc='mean')"
   ]
  },
  {
   "cell_type": "code",
   "execution_count": 4,
   "metadata": {
    "collapsed": false
   },
   "outputs": [
    {
     "data": {
      "text/html": [
       "<div style=\"max-height:1000px;max-width:1500px;overflow:auto;\">\n",
       "<table border=\"1\" class=\"dataframe\">\n",
       "  <thead>\n",
       "    <tr style=\"text-align: right;\">\n",
       "      <th>user_id</th>\n",
       "      <th>0</th>\n",
       "      <th>100</th>\n",
       "      <th>101</th>\n",
       "      <th>102</th>\n",
       "      <th>103</th>\n",
       "      <th>104</th>\n",
       "      <th>106</th>\n",
       "    </tr>\n",
       "    <tr>\n",
       "      <th>continuous_animation</th>\n",
       "      <th></th>\n",
       "      <th></th>\n",
       "      <th></th>\n",
       "      <th></th>\n",
       "      <th></th>\n",
       "      <th></th>\n",
       "      <th></th>\n",
       "    </tr>\n",
       "  </thead>\n",
       "  <tbody>\n",
       "    <tr>\n",
       "      <th> Circle</th>\n",
       "      <td> 0.890346</td>\n",
       "      <td> 1.227923</td>\n",
       "      <td> 1.336135</td>\n",
       "      <td> 0.996250</td>\n",
       "      <td> 1.464250</td>\n",
       "      <td> 1.752115</td>\n",
       "      <td> 1.306288</td>\n",
       "    </tr>\n",
       "    <tr>\n",
       "      <th> Fading</th>\n",
       "      <td> 0.905519</td>\n",
       "      <td> 1.622654</td>\n",
       "      <td> 1.420154</td>\n",
       "      <td> 1.153558</td>\n",
       "      <td> 1.422673</td>\n",
       "      <td> 0.936538</td>\n",
       "      <td> 0.915923</td>\n",
       "    </tr>\n",
       "    <tr>\n",
       "      <th> None</th>\n",
       "      <td> 0.827615</td>\n",
       "      <td> 0.570462</td>\n",
       "      <td> 0.936000</td>\n",
       "      <td> 1.015000</td>\n",
       "      <td> 3.559538</td>\n",
       "      <td> 0.792731</td>\n",
       "      <td> 0.984731</td>\n",
       "    </tr>\n",
       "  </tbody>\n",
       "</table>\n",
       "</div>"
      ],
      "text/plain": [
       "user_id                    0         100       101       102       103  \\\n",
       "continuous_animation                                                     \n",
       " Circle               0.890346  1.227923  1.336135  0.996250  1.464250   \n",
       " Fading               0.905519  1.622654  1.420154  1.153558  1.422673   \n",
       " None                 0.827615  0.570462  0.936000  1.015000  3.559538   \n",
       "\n",
       "user_id                    104       106  \n",
       "continuous_animation                      \n",
       " Circle               1.752115  1.306288  \n",
       " Fading               0.936538  0.915923  \n",
       " None                 0.792731  0.984731  "
      ]
     },
     "execution_count": 4,
     "metadata": {},
     "output_type": "execute_result"
    }
   ],
   "source": [
    "results.pivot_table(index=['continuous_animation'], values='total_time_in_non_targets', cols='user_id', aggfunc='mean')"
   ]
  },
  {
   "cell_type": "code",
   "execution_count": 5,
   "metadata": {
    "collapsed": false
   },
   "outputs": [
    {
     "data": {
      "text/html": [
       "<div style=\"max-height:1000px;max-width:1500px;overflow:auto;\">\n",
       "<table border=\"1\" class=\"dataframe\">\n",
       "  <thead>\n",
       "    <tr style=\"text-align: right;\">\n",
       "      <th>user_id</th>\n",
       "      <th>0</th>\n",
       "      <th>100</th>\n",
       "      <th>101</th>\n",
       "      <th>102</th>\n",
       "      <th>103</th>\n",
       "      <th>104</th>\n",
       "      <th>106</th>\n",
       "    </tr>\n",
       "    <tr>\n",
       "      <th>continuous_animation</th>\n",
       "      <th></th>\n",
       "      <th></th>\n",
       "      <th></th>\n",
       "      <th></th>\n",
       "      <th></th>\n",
       "      <th></th>\n",
       "      <th></th>\n",
       "    </tr>\n",
       "  </thead>\n",
       "  <tbody>\n",
       "    <tr>\n",
       "      <th> Circle</th>\n",
       "      <td> 0.890346</td>\n",
       "      <td> 1.186635</td>\n",
       "      <td> 1.110404</td>\n",
       "      <td> 0.864423</td>\n",
       "      <td> 1.260404</td>\n",
       "      <td> 1.541846</td>\n",
       "      <td> 1.291865</td>\n",
       "    </tr>\n",
       "    <tr>\n",
       "      <th> Fading</th>\n",
       "      <td> 0.867846</td>\n",
       "      <td> 1.076231</td>\n",
       "      <td> 1.230808</td>\n",
       "      <td> 1.036385</td>\n",
       "      <td> 1.218423</td>\n",
       "      <td> 0.842692</td>\n",
       "      <td> 0.881135</td>\n",
       "    </tr>\n",
       "    <tr>\n",
       "      <th> None</th>\n",
       "      <td> 0.801846</td>\n",
       "      <td> 0.570462</td>\n",
       "      <td> 0.795615</td>\n",
       "      <td> 0.814538</td>\n",
       "      <td> 2.198115</td>\n",
       "      <td> 0.579462</td>\n",
       "      <td> 0.870692</td>\n",
       "    </tr>\n",
       "  </tbody>\n",
       "</table>\n",
       "</div>"
      ],
      "text/plain": [
       "user_id                    0         100       101       102       103  \\\n",
       "continuous_animation                                                     \n",
       " Circle               0.890346  1.186635  1.110404  0.864423  1.260404   \n",
       " Fading               0.867846  1.076231  1.230808  1.036385  1.218423   \n",
       " None                 0.801846  0.570462  0.795615  0.814538  2.198115   \n",
       "\n",
       "user_id                    104       106  \n",
       "continuous_animation                      \n",
       " Circle               1.541846  1.291865  \n",
       " Fading               0.842692  0.881135  \n",
       " None                 0.579462  0.870692  "
      ]
     },
     "execution_count": 5,
     "metadata": {},
     "output_type": "execute_result"
    }
   ],
   "source": [
    "results.pivot_table(index=['continuous_animation'], values='max_time_in_non_target', cols='user_id', aggfunc='mean')"
   ]
  },
  {
   "cell_type": "code",
   "execution_count": 6,
   "metadata": {
    "collapsed": false
   },
   "outputs": [
    {
     "data": {
      "text/html": [
       "<div style=\"max-height:1000px;max-width:1500px;overflow:auto;\">\n",
       "<table border=\"1\" class=\"dataframe\">\n",
       "  <thead>\n",
       "    <tr style=\"text-align: right;\">\n",
       "      <th>user_id</th>\n",
       "      <th>0</th>\n",
       "      <th>100</th>\n",
       "      <th>101</th>\n",
       "      <th>102</th>\n",
       "      <th>103</th>\n",
       "      <th>104</th>\n",
       "      <th>106</th>\n",
       "    </tr>\n",
       "    <tr>\n",
       "      <th>continuous_animation</th>\n",
       "      <th></th>\n",
       "      <th></th>\n",
       "      <th></th>\n",
       "      <th></th>\n",
       "      <th></th>\n",
       "      <th></th>\n",
       "      <th></th>\n",
       "    </tr>\n",
       "  </thead>\n",
       "  <tbody>\n",
       "    <tr>\n",
       "      <th> Circle</th>\n",
       "      <td> 0.830</td>\n",
       "      <td> 1.0465</td>\n",
       "      <td> 0.9880</td>\n",
       "      <td> 0.7275</td>\n",
       "      <td> 1.2830</td>\n",
       "      <td> 1.133</td>\n",
       "      <td> 1.1020</td>\n",
       "    </tr>\n",
       "    <tr>\n",
       "      <th> Fading</th>\n",
       "      <td> 0.750</td>\n",
       "      <td> 0.8200</td>\n",
       "      <td> 0.8700</td>\n",
       "      <td> 0.8420</td>\n",
       "      <td> 1.0820</td>\n",
       "      <td> 0.690</td>\n",
       "      <td> 0.7400</td>\n",
       "    </tr>\n",
       "    <tr>\n",
       "      <th> None</th>\n",
       "      <td> 0.622</td>\n",
       "      <td> 0.5105</td>\n",
       "      <td> 0.6725</td>\n",
       "      <td> 0.6170</td>\n",
       "      <td> 1.3325</td>\n",
       "      <td> 0.525</td>\n",
       "      <td> 0.7225</td>\n",
       "    </tr>\n",
       "  </tbody>\n",
       "</table>\n",
       "</div>"
      ],
      "text/plain": [
       "user_id                 0       100     101     102     103    104     106\n",
       "continuous_animation                                                      \n",
       " Circle               0.830  1.0465  0.9880  0.7275  1.2830  1.133  1.1020\n",
       " Fading               0.750  0.8200  0.8700  0.8420  1.0820  0.690  0.7400\n",
       " None                 0.622  0.5105  0.6725  0.6170  1.3325  0.525  0.7225"
      ]
     },
     "execution_count": 6,
     "metadata": {},
     "output_type": "execute_result"
    }
   ],
   "source": [
    "results.pivot_table(index=['continuous_animation'], values='total_time_in_non_targets', cols='user_id', aggfunc='median')"
   ]
  },
  {
   "cell_type": "code",
   "execution_count": 7,
   "metadata": {
    "collapsed": false
   },
   "outputs": [
    {
     "data": {
      "text/html": [
       "<div style=\"max-height:1000px;max-width:1500px;overflow:auto;\">\n",
       "<table border=\"1\" class=\"dataframe\">\n",
       "  <thead>\n",
       "    <tr style=\"text-align: right;\">\n",
       "      <th>user_id</th>\n",
       "      <th>0</th>\n",
       "      <th>100</th>\n",
       "      <th>101</th>\n",
       "      <th>102</th>\n",
       "      <th>103</th>\n",
       "      <th>104</th>\n",
       "      <th>106</th>\n",
       "    </tr>\n",
       "    <tr>\n",
       "      <th>approach_orientation</th>\n",
       "      <th></th>\n",
       "      <th></th>\n",
       "      <th></th>\n",
       "      <th></th>\n",
       "      <th></th>\n",
       "      <th></th>\n",
       "      <th></th>\n",
       "    </tr>\n",
       "  </thead>\n",
       "  <tbody>\n",
       "    <tr>\n",
       "      <th> DistanceToPhone</th>\n",
       "      <td> 0.705179</td>\n",
       "      <td> 0.720654</td>\n",
       "      <td> 0.697038</td>\n",
       "      <td> 0.839885</td>\n",
       "      <td> 1.283718</td>\n",
       "      <td> 0.645897</td>\n",
       "      <td> 0.813744</td>\n",
       "    </tr>\n",
       "    <tr>\n",
       "      <th> RateOfChange</th>\n",
       "      <td> 1.101346</td>\n",
       "      <td> 1.467115</td>\n",
       "      <td> 1.693462</td>\n",
       "      <td> 1.048250</td>\n",
       "      <td> 1.652308</td>\n",
       "      <td> 1.705423</td>\n",
       "      <td> 1.387731</td>\n",
       "    </tr>\n",
       "  </tbody>\n",
       "</table>\n",
       "</div>"
      ],
      "text/plain": [
       "user_id                    0         100       101       102       103  \\\n",
       "approach_orientation                                                     \n",
       " DistanceToPhone      0.705179  0.720654  0.697038  0.839885  1.283718   \n",
       " RateOfChange         1.101346  1.467115  1.693462  1.048250  1.652308   \n",
       "\n",
       "user_id                    104       106  \n",
       "approach_orientation                      \n",
       " DistanceToPhone      0.645897  0.813744  \n",
       " RateOfChange         1.705423  1.387731  "
      ]
     },
     "execution_count": 7,
     "metadata": {},
     "output_type": "execute_result"
    }
   ],
   "source": [
    "results.pivot_table(index='approach_orientation', values='max_time_in_non_target', cols='user_id', aggfunc='mean')"
   ]
  },
  {
   "cell_type": "code",
   "execution_count": 8,
   "metadata": {
    "collapsed": false
   },
   "outputs": [
    {
     "data": {
      "text/html": [
       "<div style=\"max-height:1000px;max-width:1500px;overflow:auto;\">\n",
       "<table border=\"1\" class=\"dataframe\">\n",
       "  <thead>\n",
       "    <tr style=\"text-align: right;\">\n",
       "      <th>user_id</th>\n",
       "      <th>0</th>\n",
       "      <th>100</th>\n",
       "      <th>101</th>\n",
       "      <th>102</th>\n",
       "      <th>103</th>\n",
       "      <th>104</th>\n",
       "      <th>106</th>\n",
       "    </tr>\n",
       "    <tr>\n",
       "      <th>approach_orientation</th>\n",
       "      <th></th>\n",
       "      <th></th>\n",
       "      <th></th>\n",
       "      <th></th>\n",
       "      <th></th>\n",
       "      <th></th>\n",
       "      <th></th>\n",
       "    </tr>\n",
       "  </thead>\n",
       "  <tbody>\n",
       "    <tr>\n",
       "      <th> DistanceToPhone</th>\n",
       "      <td> 0.5895</td>\n",
       "      <td> 0.5870</td>\n",
       "      <td> 0.573</td>\n",
       "      <td> 0.5825</td>\n",
       "      <td> 0.802</td>\n",
       "      <td> 0.50</td>\n",
       "      <td> 0.72</td>\n",
       "    </tr>\n",
       "    <tr>\n",
       "      <th> RateOfChange</th>\n",
       "      <td> 0.9645</td>\n",
       "      <td> 1.1355</td>\n",
       "      <td> 1.373</td>\n",
       "      <td> 0.9300</td>\n",
       "      <td> 1.471</td>\n",
       "      <td> 1.28</td>\n",
       "      <td> 1.24</td>\n",
       "    </tr>\n",
       "  </tbody>\n",
       "</table>\n",
       "</div>"
      ],
      "text/plain": [
       "user_id                  0       100    101     102    103   104   106\n",
       "approach_orientation                                                  \n",
       " DistanceToPhone      0.5895  0.5870  0.573  0.5825  0.802  0.50  0.72\n",
       " RateOfChange         0.9645  1.1355  1.373  0.9300  1.471  1.28  1.24"
      ]
     },
     "execution_count": 8,
     "metadata": {},
     "output_type": "execute_result"
    }
   ],
   "source": [
    "results.pivot_table(index='approach_orientation', values='max_time_in_non_target', cols='user_id', aggfunc='median')"
   ]
  },
  {
   "cell_type": "code",
   "execution_count": 11,
   "metadata": {
    "collapsed": false
   },
   "outputs": [
    {
     "data": {
      "text/html": [
       "<div style=\"max-height:1000px;max-width:1500px;overflow:auto;\">\n",
       "<table border=\"1\" class=\"dataframe\">\n",
       "  <thead>\n",
       "    <tr style=\"text-align: right;\">\n",
       "      <th></th>\n",
       "      <th>user_id</th>\n",
       "      <th>0</th>\n",
       "      <th>100</th>\n",
       "      <th>101</th>\n",
       "      <th>102</th>\n",
       "      <th>103</th>\n",
       "      <th>104</th>\n",
       "    </tr>\n",
       "    <tr>\n",
       "      <th>approach_orientation</th>\n",
       "      <th>continuous_animation</th>\n",
       "      <th></th>\n",
       "      <th></th>\n",
       "      <th></th>\n",
       "      <th></th>\n",
       "      <th></th>\n",
       "      <th></th>\n",
       "    </tr>\n",
       "  </thead>\n",
       "  <tbody>\n",
       "    <tr>\n",
       "      <th rowspan=\"3\" valign=\"top\"> DistanceToPhone</th>\n",
       "      <th> Circle</th>\n",
       "      <td> 0.647423</td>\n",
       "      <td> 0.830885</td>\n",
       "      <td> 0.714231</td>\n",
       "      <td> 0.703692</td>\n",
       "      <td> 0.853885</td>\n",
       "      <td> 0.708462</td>\n",
       "    </tr>\n",
       "    <tr>\n",
       "      <th> Fading</th>\n",
       "      <td> 0.666269</td>\n",
       "      <td> 0.760615</td>\n",
       "      <td> 0.581269</td>\n",
       "      <td> 1.001423</td>\n",
       "      <td> 0.799154</td>\n",
       "      <td> 0.649769</td>\n",
       "    </tr>\n",
       "    <tr>\n",
       "      <th> None</th>\n",
       "      <td> 0.801846</td>\n",
       "      <td> 0.570462</td>\n",
       "      <td> 0.795615</td>\n",
       "      <td> 0.814538</td>\n",
       "      <td> 2.198115</td>\n",
       "      <td> 0.579462</td>\n",
       "    </tr>\n",
       "    <tr>\n",
       "      <th rowspan=\"2\" valign=\"top\"> RateOfChange</th>\n",
       "      <th> Circle</th>\n",
       "      <td> 1.133269</td>\n",
       "      <td> 1.542385</td>\n",
       "      <td> 1.506577</td>\n",
       "      <td> 1.025154</td>\n",
       "      <td> 1.666923</td>\n",
       "      <td> 2.375231</td>\n",
       "    </tr>\n",
       "    <tr>\n",
       "      <th> Fading</th>\n",
       "      <td> 1.069423</td>\n",
       "      <td> 1.391846</td>\n",
       "      <td> 1.880346</td>\n",
       "      <td> 1.071346</td>\n",
       "      <td> 1.637692</td>\n",
       "      <td> 1.035615</td>\n",
       "    </tr>\n",
       "  </tbody>\n",
       "</table>\n",
       "</div>"
      ],
      "text/plain": [
       "user_id                                         0         100       101  \\\n",
       "approach_orientation continuous_animation                                 \n",
       " DistanceToPhone      Circle               0.647423  0.830885  0.714231   \n",
       "                      Fading               0.666269  0.760615  0.581269   \n",
       "                      None                 0.801846  0.570462  0.795615   \n",
       " RateOfChange         Circle               1.133269  1.542385  1.506577   \n",
       "                      Fading               1.069423  1.391846  1.880346   \n",
       "\n",
       "user_id                                         102       103       104  \n",
       "approach_orientation continuous_animation                                \n",
       " DistanceToPhone      Circle               0.703692  0.853885  0.708462  \n",
       "                      Fading               1.001423  0.799154  0.649769  \n",
       "                      None                 0.814538  2.198115  0.579462  \n",
       " RateOfChange         Circle               1.025154  1.666923  2.375231  \n",
       "                      Fading               1.071346  1.637692  1.035615  "
      ]
     },
     "execution_count": 11,
     "metadata": {},
     "output_type": "execute_result"
    }
   ],
   "source": [
    "results.pivot_table(index=['approach_orientation','continuous_animation'], values='max_time_in_non_target', cols='user_id', aggfunc='mean')"
   ]
  },
  {
   "cell_type": "code",
   "execution_count": 10,
   "metadata": {
    "collapsed": false
   },
   "outputs": [
    {
     "data": {
      "text/html": [
       "<div style=\"max-height:1000px;max-width:1500px;overflow:auto;\">\n",
       "<table border=\"1\" class=\"dataframe\">\n",
       "  <thead>\n",
       "    <tr style=\"text-align: right;\">\n",
       "      <th></th>\n",
       "      <th>user_id</th>\n",
       "      <th>0</th>\n",
       "      <th>100</th>\n",
       "      <th>101</th>\n",
       "      <th>102</th>\n",
       "      <th>103</th>\n",
       "      <th>104</th>\n",
       "      <th>106</th>\n",
       "    </tr>\n",
       "    <tr>\n",
       "      <th>continuous_animation</th>\n",
       "      <th>approach_orientation</th>\n",
       "      <th></th>\n",
       "      <th></th>\n",
       "      <th></th>\n",
       "      <th></th>\n",
       "      <th></th>\n",
       "      <th></th>\n",
       "      <th></th>\n",
       "    </tr>\n",
       "  </thead>\n",
       "  <tbody>\n",
       "    <tr>\n",
       "      <th rowspan=\"2\" valign=\"top\"> Circle</th>\n",
       "      <th> DistanceToPhone</th>\n",
       "      <td> 2.324231</td>\n",
       "      <td> 2.531385</td>\n",
       "      <td> 2.416538</td>\n",
       "      <td> 2.649808</td>\n",
       "      <td> 3.013385</td>\n",
       "      <td> 2.558692</td>\n",
       "      <td> 2.582462</td>\n",
       "    </tr>\n",
       "    <tr>\n",
       "      <th> RateOfChange</th>\n",
       "      <td> 2.764231</td>\n",
       "      <td> 3.244538</td>\n",
       "      <td> 3.765769</td>\n",
       "      <td> 2.683462</td>\n",
       "      <td> 3.600308</td>\n",
       "      <td> 4.524231</td>\n",
       "      <td> 3.398269</td>\n",
       "    </tr>\n",
       "    <tr>\n",
       "      <th rowspan=\"2\" valign=\"top\"> Fading</th>\n",
       "      <th> DistanceToPhone</th>\n",
       "      <td> 2.172500</td>\n",
       "      <td> 2.497923</td>\n",
       "      <td> 2.091154</td>\n",
       "      <td> 3.048615</td>\n",
       "      <td> 2.600500</td>\n",
       "      <td> 2.440385</td>\n",
       "      <td> 2.398077</td>\n",
       "    </tr>\n",
       "    <tr>\n",
       "      <th> RateOfChange</th>\n",
       "      <td> 2.738462</td>\n",
       "      <td> 3.917500</td>\n",
       "      <td> 3.989231</td>\n",
       "      <td> 2.772692</td>\n",
       "      <td> 3.685308</td>\n",
       "      <td> 2.840000</td>\n",
       "      <td> 2.684038</td>\n",
       "    </tr>\n",
       "    <tr>\n",
       "      <th> None</th>\n",
       "      <th> DistanceToPhone</th>\n",
       "      <td> 1.954231</td>\n",
       "      <td> 2.166077</td>\n",
       "      <td> 2.205962</td>\n",
       "      <td> 2.218077</td>\n",
       "      <td> 4.897154</td>\n",
       "      <td> 2.076154</td>\n",
       "      <td> 2.148077</td>\n",
       "    </tr>\n",
       "  </tbody>\n",
       "</table>\n",
       "</div>"
      ],
      "text/plain": [
       "user_id                                         0         100       101  \\\n",
       "continuous_animation approach_orientation                                 \n",
       " Circle               DistanceToPhone      2.324231  2.531385  2.416538   \n",
       "                      RateOfChange         2.764231  3.244538  3.765769   \n",
       " Fading               DistanceToPhone      2.172500  2.497923  2.091154   \n",
       "                      RateOfChange         2.738462  3.917500  3.989231   \n",
       " None                 DistanceToPhone      1.954231  2.166077  2.205962   \n",
       "\n",
       "user_id                                         102       103       104  \\\n",
       "continuous_animation approach_orientation                                 \n",
       " Circle               DistanceToPhone      2.649808  3.013385  2.558692   \n",
       "                      RateOfChange         2.683462  3.600308  4.524231   \n",
       " Fading               DistanceToPhone      3.048615  2.600500  2.440385   \n",
       "                      RateOfChange         2.772692  3.685308  2.840000   \n",
       " None                 DistanceToPhone      2.218077  4.897154  2.076154   \n",
       "\n",
       "user_id                                         106  \n",
       "continuous_animation approach_orientation            \n",
       " Circle               DistanceToPhone      2.582462  \n",
       "                      RateOfChange         3.398269  \n",
       " Fading               DistanceToPhone      2.398077  \n",
       "                      RateOfChange         2.684038  \n",
       " None                 DistanceToPhone      2.148077  "
      ]
     },
     "execution_count": 10,
     "metadata": {},
     "output_type": "execute_result"
    }
   ],
   "source": [
    "results.pivot_table(index=['continuous_animation','approach_orientation'], values='total_time', cols='user_id', aggfunc='mean')"
   ]
  },
  {
   "cell_type": "code",
   "execution_count": 11,
   "metadata": {
    "collapsed": false
   },
   "outputs": [
    {
     "data": {
      "text/plain": [
       "<matplotlib.axes.AxesSubplot at 0x1053d7a10>"
      ]
     },
     "execution_count": 11,
     "metadata": {},
     "output_type": "execute_result"
    },
    {
     "data": {
      "image/png": "[encoded data removed]",
      "text/plain": [
       "<matplotlib.figure.Figure at 0x105387d90>"
      ]
     },
     "metadata": {},
     "output_type": "display_data"
    }
   ],
   "source": [
    "results.boxplot(column=['total_time'],by=['user_id'], vert=False)"
   ]
  },
  {
   "cell_type": "code",
   "execution_count": null,
   "metadata": {
    "collapsed": false
   },
   "outputs": [],
   "source": []
  }
 ],
 "metadata": {
  "kernelspec": {
   "display_name": "Python 2",
   "language": "python",
   "name": "python2"
  },
  "language_info": {
   "codemirror_mode": {
    "name": "ipython",
    "version": 2
   },
   "file_extension": ".py",
   "mimetype": "text/x-python",
   "name": "python",
   "nbconvert_exporter": "python",
   "pygments_lexer": "ipython2",
   "version": "2.7.10"
  }
 },
 "nbformat": 4,
 "nbformat_minor": 0
}
