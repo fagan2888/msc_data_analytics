{
 "cells": [
  {
   "cell_type": "code",
   "execution_count": 28,
   "metadata": {
    "collapsed": false
   },
   "outputs": [
    {
     "name": "stdout",
     "output_type": "stream",
     "text": [
      "101766\n",
      "101766\n"
     ]
    },
    {
     "data": {
      "text/plain": [
       "Index([u'Patient ID', u'readmission_lessthan30', u'readmission_morethan30',\n",
       "       u'num_lab_procedures', u'num_procedures', u'num_medications',\n",
       "       u'time_in_hospital', u'race', u'gender', u'age', u'readmissions',\n",
       "       u'readmitted', u'Gender_Female', u'Gender_Male',\n",
       "       u'Gender_Unknown/Invalid', u'Age_adult', u'Age_child_young',\n",
       "       u'Age_elderly', u'Age_unknown', u'Race_AfricanAmerican',\n",
       "       u'Race_Caucasian', u'Race_Other'],\n",
       "      dtype='object')"
      ]
     },
     "execution_count": 28,
     "metadata": {},
     "output_type": "execute_result"
    }
   ],
   "source": [
    "%matplotlib inline\n",
    "#import matplotlib.pyplot as plt\n",
    "#import numpy as np\n",
    "\n",
    "import seaborn as sns\n",
    "from scipy import stats, integrate\n",
    "\n",
    "import pandas as pd\n",
    "\n",
    "import patsy \n",
    "# For running regressions and R-type formulas\n",
    "import statsmodels\n",
    "import statsmodels.api as sm\n",
    "# R type regression formulas\n",
    "import statsmodels.formula.api as smf\n",
    "\n",
    "parseddata = '/Users/mariaathena/Dropbox (Personal)/00 Imperial College/1602 Healthcare & Medical Analytics/Assignment (individual)/Data (csv)/parsed_healthcare_data.csv'\n",
    "df = pd.read_csv(parseddata)\n",
    "\n",
    "print len(df)\n",
    "df.readmissions = df.readmissions.fillna('NA')\n",
    "print len(df)\n",
    "df.columns"
   ]
  },
  {
   "cell_type": "code",
   "execution_count": 29,
   "metadata": {
    "collapsed": false
   },
   "outputs": [],
   "source": [
    "# Create sub dataframes\n",
    "#df_readm_age = df.loc[(df['age']) & (df['readmissions'] == 'NA')]\n",
    "#df_readm_children = df_readm_age\n",
    "#df_try = df.loc[(df['readmissions'] == 'NA')]\n",
    "#df_pos = df.loc[(df[\"metadata.polarity\"] == \"Positive\") & (df[COUNT_OF_TOUCH_EVENTS] > 0)] # Remove data points with no touch events\n",
    "#df_pos_us_detect = df_pos[df_pos[ULTRASOUND_PROX_DATA_AT_FIRST_TOUCH]] # Remove data points which have no ultrasound detected at first touch\n",
    "#df_neg_no_touch = df.loc[(df[\"metadata.polarity\"] == \"Negative\") & (df[\"metadata.touch_event\"] == \"None\")]\n",
    "#df_neg_touch = df.loc[(df[\"metadata.polarity\"] == \"Negative\") & (df[\"metadata.touch_event\"] != \"None\")]"
   ]
  },
  {
   "cell_type": "code",
   "execution_count": 30,
   "metadata": {
    "collapsed": false
   },
   "outputs": [
    {
     "data": {
      "image/png": "[encoded data removed]",
      "text/plain": [
       "<matplotlib.figure.Figure at 0x114012d50>"
      ]
     },
     "metadata": {},
     "output_type": "display_data"
    }
   ],
   "source": [
    "# Histogram Population Density by Age Group\n",
    "sns.countplot(df.readmissions, data=df, hue='age', palette=\"Greens_d\");"
   ]
  },
  {
   "cell_type": "code",
   "execution_count": 31,
   "metadata": {
    "collapsed": false
   },
   "outputs": [
    {
     "data": {
      "image/png": "[encoded data removed]",
      "text/plain": [
       "<matplotlib.figure.Figure at 0x114012050>"
      ]
     },
     "metadata": {},
     "output_type": "display_data"
    }
   ],
   "source": [
    "# Histogram Population Density by Age Group\n",
    "sns.countplot(df.race, data=df, hue='readmissions', palette=\"Greens_d\");"
   ]
  },
  {
   "cell_type": "code",
   "execution_count": 32,
   "metadata": {
    "collapsed": false
   },
   "outputs": [
    {
     "data": {
      "text/html": [
       "<div>\n",
       "<table border=\"1\" class=\"dataframe\">\n",
       "  <thead>\n",
       "    <tr style=\"text-align: right;\">\n",
       "      <th></th>\n",
       "      <th>count</th>\n",
       "      <th>mean</th>\n",
       "      <th>std</th>\n",
       "      <th>min</th>\n",
       "      <th>25%</th>\n",
       "      <th>50%</th>\n",
       "      <th>75%</th>\n",
       "      <th>max</th>\n",
       "    </tr>\n",
       "  </thead>\n",
       "  <tbody>\n",
       "    <tr>\n",
       "      <th>readmission_lessthan30</th>\n",
       "      <td>101766.0</td>\n",
       "      <td>0.111599</td>\n",
       "      <td>0.314874</td>\n",
       "      <td>0.0</td>\n",
       "      <td>0.0</td>\n",
       "      <td>0.0</td>\n",
       "      <td>0.0</td>\n",
       "      <td>1.0</td>\n",
       "    </tr>\n",
       "    <tr>\n",
       "      <th>readmission_morethan30</th>\n",
       "      <td>101766.0</td>\n",
       "      <td>0.349282</td>\n",
       "      <td>0.476745</td>\n",
       "      <td>0.0</td>\n",
       "      <td>0.0</td>\n",
       "      <td>0.0</td>\n",
       "      <td>1.0</td>\n",
       "      <td>1.0</td>\n",
       "    </tr>\n",
       "    <tr>\n",
       "      <th>num_lab_procedures</th>\n",
       "      <td>101766.0</td>\n",
       "      <td>43.095641</td>\n",
       "      <td>19.674362</td>\n",
       "      <td>1.0</td>\n",
       "      <td>31.0</td>\n",
       "      <td>44.0</td>\n",
       "      <td>57.0</td>\n",
       "      <td>132.0</td>\n",
       "    </tr>\n",
       "    <tr>\n",
       "      <th>num_medications</th>\n",
       "      <td>101766.0</td>\n",
       "      <td>16.021844</td>\n",
       "      <td>8.127566</td>\n",
       "      <td>1.0</td>\n",
       "      <td>10.0</td>\n",
       "      <td>15.0</td>\n",
       "      <td>20.0</td>\n",
       "      <td>81.0</td>\n",
       "    </tr>\n",
       "    <tr>\n",
       "      <th>time_in_hospital</th>\n",
       "      <td>101766.0</td>\n",
       "      <td>4.395987</td>\n",
       "      <td>2.985108</td>\n",
       "      <td>1.0</td>\n",
       "      <td>2.0</td>\n",
       "      <td>4.0</td>\n",
       "      <td>6.0</td>\n",
       "      <td>14.0</td>\n",
       "    </tr>\n",
       "  </tbody>\n",
       "</table>\n",
       "</div>"
      ],
      "text/plain": [
       "                           count       mean        std  min   25%   50%   75%  \\\n",
       "readmission_lessthan30  101766.0   0.111599   0.314874  0.0   0.0   0.0   0.0   \n",
       "readmission_morethan30  101766.0   0.349282   0.476745  0.0   0.0   0.0   1.0   \n",
       "num_lab_procedures      101766.0  43.095641  19.674362  1.0  31.0  44.0  57.0   \n",
       "num_medications         101766.0  16.021844   8.127566  1.0  10.0  15.0  20.0   \n",
       "time_in_hospital        101766.0   4.395987   2.985108  1.0   2.0   4.0   6.0   \n",
       "\n",
       "                          max  \n",
       "readmission_lessthan30    1.0  \n",
       "readmission_morethan30    1.0  \n",
       "num_lab_procedures      132.0  \n",
       "num_medications          81.0  \n",
       "time_in_hospital         14.0  "
      ]
     },
     "execution_count": 32,
     "metadata": {},
     "output_type": "execute_result"
    }
   ],
   "source": [
    "mini_df = df[['readmission_lessthan30', 'readmission_morethan30', 'num_lab_procedures', 'num_medications', 'time_in_hospital']]\n",
    "mini_df.describe().T"
   ]
  },
  {
   "cell_type": "markdown",
   "metadata": {},
   "source": [
    "#### ~ 11% of the patients in the dataset are readmitted less than 30 after being released.\n",
    "#### ~ 35% of the patients in the dataset are readmitted 30 after being released."
   ]
  },
  {
   "cell_type": "code",
   "execution_count": 36,
   "metadata": {
    "collapsed": false
   },
   "outputs": [],
   "source": [
    "# Design matrices (endog & exog)\n",
    "# http://statsmodels.sourceforge.net/devel/gettingstarted.html\n",
    "y, X = patsy.dmatrices('readmitted ~ num_medications + time_in_hospital + Age_adult + Age_child_young + Age_elderly', data=df, return_type='dataframe')"
   ]
  },
  {
   "cell_type": "code",
   "execution_count": 37,
   "metadata": {
    "collapsed": false
   },
   "outputs": [
    {
     "name": "stdout",
     "output_type": "stream",
     "text": [
      "Optimization terminated successfully.\n",
      "         Current function value: 0.687872\n",
      "         Iterations 5\n",
      "                           Logit Regression Results                           \n",
      "==============================================================================\n",
      "Dep. Variable:             readmitted   No. Observations:               101766\n",
      "Model:                          Logit   Df Residuals:                   101760\n",
      "Method:                           MLE   Df Model:                            5\n",
      "Date:                Fri, 01 Apr 2016   Pseudo R-squ.:                0.003205\n",
      "Time:                        11:52:44   Log-Likelihood:                -70002.\n",
      "converged:                       True   LL-Null:                       -70227.\n",
      "                                        LLR p-value:                 4.560e-95\n",
      "====================================================================================\n",
      "                       coef    std err          z      P>|z|      [95.0% Conf. Int.]\n",
      "------------------------------------------------------------------------------------\n",
      "Intercept           -1.6214      0.205     -7.901      0.000        -2.024    -1.219\n",
      "num_medications      0.0075      0.001      8.451      0.000         0.006     0.009\n",
      "time_in_hospital     0.0231      0.002      9.656      0.000         0.018     0.028\n",
      "Age_adult            1.1976      0.205      5.829      0.000         0.795     1.600\n",
      "Age_child_young      1.1785      0.209      5.629      0.000         0.768     1.589\n",
      "Age_elderly          1.3020      0.205      6.337      0.000         0.899     1.705\n",
      "====================================================================================\n"
     ]
    }
   ],
   "source": [
    "# Logit Model\n",
    "logit_mod = sm.Logit(y, X)    # Describe model\n",
    "logit_res = logit_mod.fit()       # Fit model\n",
    "print logit_res.summary()   # Summarize model"
   ]
  },
  {
   "cell_type": "code",
   "execution_count": 38,
   "metadata": {
    "collapsed": false
   },
   "outputs": [
    {
     "name": "stdout",
     "output_type": "stream",
     "text": [
      "Optimization terminated successfully.\n",
      "         Current function value: 0.816683\n",
      "         Iterations 7\n",
      "                          Poisson Regression Results                          \n",
      "==============================================================================\n",
      "Dep. Variable:             readmitted   No. Observations:               101766\n",
      "Model:                        Poisson   Df Residuals:                   101760\n",
      "Method:                           MLE   Df Model:                            5\n",
      "Date:                Fri, 01 Apr 2016   Pseudo R-squ.:                0.001471\n",
      "Time:                        11:52:59   Log-Likelihood:                -83111.\n",
      "converged:                       True   LL-Null:                       -83233.\n",
      "                                        LLR p-value:                 6.953e-51\n",
      "====================================================================================\n",
      "                       coef    std err          z      P>|z|      [95.0% Conf. Int.]\n",
      "------------------------------------------------------------------------------------\n",
      "Intercept           -1.7693      0.186     -9.526      0.000        -2.133    -1.405\n",
      "num_medications      0.0039      0.001      6.177      0.000         0.003     0.005\n",
      "time_in_hospital     0.0121      0.002      7.054      0.000         0.009     0.015\n",
      "Age_adult            0.8527      0.186      4.587      0.000         0.488     1.217\n",
      "Age_child_young      0.8403      0.188      4.461      0.000         0.471     1.209\n",
      "Age_elderly          0.9088      0.186      4.889      0.000         0.544     1.273\n",
      "====================================================================================\n"
     ]
    }
   ],
   "source": [
    "mod = sm.Poisson(y, X)    # Describe model\n",
    "res = mod.fit()       # Fit model\n",
    "print res.summary()   # Summarize model"
   ]
  },
  {
   "cell_type": "code",
   "execution_count": null,
   "metadata": {
    "collapsed": true
   },
   "outputs": [],
   "source": []
  }
 ],
 "metadata": {
  "kernelspec": {
   "display_name": "Python 2",
   "language": "python",
   "name": "python2"
  },
  "language_info": {
   "codemirror_mode": {
    "name": "ipython",
    "version": 2
   },
   "file_extension": ".py",
   "mimetype": "text/x-python",
   "name": "python",
   "nbconvert_exporter": "python",
   "pygments_lexer": "ipython2",
   "version": "2.7.10"
  }
 },
 "nbformat": 4,
 "nbformat_minor": 0
}
