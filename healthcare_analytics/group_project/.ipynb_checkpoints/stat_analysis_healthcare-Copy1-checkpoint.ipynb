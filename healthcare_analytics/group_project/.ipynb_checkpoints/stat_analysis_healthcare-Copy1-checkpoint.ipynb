{
 "cells": [
  {
   "cell_type": "code",
   "execution_count": 125,
   "metadata": {
    "collapsed": false
   },
   "outputs": [
    {
     "name": "stdout",
     "output_type": "stream",
     "text": [
      "101766\n",
      "46902\n"
     ]
    },
    {
     "data": {
      "text/plain": [
       "Index([u'Patient ID', u'readmission_lessthan30', u'readmission_morethan30',\n",
       "       u'num_lab_procedures', u'num_procedures', u'num_medications',\n",
       "       u'time_in_hospital', u'race', u'gender', u'age', u'readmissions',\n",
       "       u'Gender_Female', u'Gender_Male', u'Gender_Unknown/Invalid',\n",
       "       u'Age_adult', u'Age_child_young', u'Age_elderly', u'Age_unknown',\n",
       "       u'Race_AfricanAmerican', u'Race_Caucasian', u'Race_Other'],\n",
       "      dtype='object')"
      ]
     },
     "execution_count": 125,
     "metadata": {},
     "output_type": "execute_result"
    }
   ],
   "source": [
    "import seaborn as sns\n",
    "from scipy import stats, integrate\n",
    "import matplotlib.pyplot as plt\n",
    "\n",
    "import numpy as np\n",
    "import pandas as pd\n",
    "\n",
    "import patsy \n",
    "# For running regressions and R-type formulas\n",
    "import statsmodels\n",
    "import statsmodels.api as sm\n",
    "# R type regression formulas\n",
    "import statsmodels.formula.api as smf\n",
    "\n",
    "parseddata = '/Users/mariaathena/Dropbox (Personal)/00 Imperial College/1602 Healthcare & Medical Analytics/Assignment (individual)/Data (csv)/parsed_healthcare_data.csv'\n",
    "df = pd.read_csv(parseddata)\n",
    "\n",
    "print len(df)\n",
    "df = df.dropna()\n",
    "print len(df)\n",
    "df.columns"
   ]
  },
  {
   "cell_type": "code",
   "execution_count": 126,
   "metadata": {
    "collapsed": false
   },
   "outputs": [],
   "source": [
    "#df1 = df[df.age == 'child' & 'elderly']"
   ]
  },
  {
   "cell_type": "code",
   "execution_count": 127,
   "metadata": {
    "collapsed": false
   },
   "outputs": [
    {
     "data": {
      "image/png": "[encoded data removed]",
      "text/plain": [
       "<matplotlib.figure.Figure at 0x10ca8bad0>"
      ]
     },
     "metadata": {},
     "output_type": "display_data"
    }
   ],
   "source": [
    "# Histogram Population Density by Age Group\n",
    "sns.countplot(df.age, data=df, palette=\"Greens_d\");"
   ]
  },
  {
   "cell_type": "code",
   "execution_count": 128,
   "metadata": {
    "collapsed": false
   },
   "outputs": [
    {
     "data": {
      "image/png": "[encoded data removed]",
      "text/plain": [
       "<matplotlib.figure.Figure at 0x10d937290>"
      ]
     },
     "metadata": {},
     "output_type": "display_data"
    }
   ],
   "source": [
    "# Histogram Population Density by Age Group\n",
    "sns.countplot(df.race, data=df, palette=\"Greens_d\");"
   ]
  },
  {
   "cell_type": "code",
   "execution_count": 129,
   "metadata": {
    "collapsed": false
   },
   "outputs": [
    {
     "data": {
      "text/html": [
       "<div>\n",
       "<table border=\"1\" class=\"dataframe\">\n",
       "  <thead>\n",
       "    <tr style=\"text-align: right;\">\n",
       "      <th></th>\n",
       "      <th>count</th>\n",
       "      <th>mean</th>\n",
       "      <th>std</th>\n",
       "      <th>min</th>\n",
       "      <th>25%</th>\n",
       "      <th>50%</th>\n",
       "      <th>75%</th>\n",
       "      <th>max</th>\n",
       "    </tr>\n",
       "  </thead>\n",
       "  <tbody>\n",
       "    <tr>\n",
       "      <th>readmission_lessthan30</th>\n",
       "      <td>46902.0</td>\n",
       "      <td>0.242143</td>\n",
       "      <td>0.428385</td>\n",
       "      <td>0.0</td>\n",
       "      <td>0.0</td>\n",
       "      <td>0.0</td>\n",
       "      <td>0.0</td>\n",
       "      <td>1.0</td>\n",
       "    </tr>\n",
       "    <tr>\n",
       "      <th>readmission_morethan30</th>\n",
       "      <td>46902.0</td>\n",
       "      <td>0.757857</td>\n",
       "      <td>0.428385</td>\n",
       "      <td>0.0</td>\n",
       "      <td>1.0</td>\n",
       "      <td>1.0</td>\n",
       "      <td>1.0</td>\n",
       "      <td>1.0</td>\n",
       "    </tr>\n",
       "    <tr>\n",
       "      <th>num_lab_procedures</th>\n",
       "      <td>46902.0</td>\n",
       "      <td>43.930898</td>\n",
       "      <td>19.497857</td>\n",
       "      <td>1.0</td>\n",
       "      <td>33.0</td>\n",
       "      <td>45.0</td>\n",
       "      <td>58.0</td>\n",
       "      <td>132.0</td>\n",
       "    </tr>\n",
       "    <tr>\n",
       "      <th>num_medications</th>\n",
       "      <td>46902.0</td>\n",
       "      <td>16.432988</td>\n",
       "      <td>7.741725</td>\n",
       "      <td>1.0</td>\n",
       "      <td>11.0</td>\n",
       "      <td>15.0</td>\n",
       "      <td>20.0</td>\n",
       "      <td>81.0</td>\n",
       "    </tr>\n",
       "    <tr>\n",
       "      <th>time_in_hospital</th>\n",
       "      <td>46902.0</td>\n",
       "      <td>4.561575</td>\n",
       "      <td>3.000066</td>\n",
       "      <td>1.0</td>\n",
       "      <td>2.0</td>\n",
       "      <td>4.0</td>\n",
       "      <td>6.0</td>\n",
       "      <td>14.0</td>\n",
       "    </tr>\n",
       "  </tbody>\n",
       "</table>\n",
       "</div>"
      ],
      "text/plain": [
       "                          count       mean        std  min   25%   50%   75%  \\\n",
       "readmission_lessthan30  46902.0   0.242143   0.428385  0.0   0.0   0.0   0.0   \n",
       "readmission_morethan30  46902.0   0.757857   0.428385  0.0   1.0   1.0   1.0   \n",
       "num_lab_procedures      46902.0  43.930898  19.497857  1.0  33.0  45.0  58.0   \n",
       "num_medications         46902.0  16.432988   7.741725  1.0  11.0  15.0  20.0   \n",
       "time_in_hospital        46902.0   4.561575   3.000066  1.0   2.0   4.0   6.0   \n",
       "\n",
       "                          max  \n",
       "readmission_lessthan30    1.0  \n",
       "readmission_morethan30    1.0  \n",
       "num_lab_procedures      132.0  \n",
       "num_medications          81.0  \n",
       "time_in_hospital         14.0  "
      ]
     },
     "execution_count": 129,
     "metadata": {},
     "output_type": "execute_result"
    }
   ],
   "source": [
    "mini_df = df[['readmission_lessthan30', 'readmission_morethan30', 'num_lab_procedures', 'num_medications', 'time_in_hospital']]\n",
    "mini_df.describe().T"
   ]
  },
  {
   "cell_type": "markdown",
   "metadata": {},
   "source": [
    "#### ~ 11% of the patients in the dataset are readmitted less than 30 after being released.\n",
    "#### ~ 35% of the patients in the dataset are readmitted 30 after being released."
   ]
  },
  {
   "cell_type": "code",
   "execution_count": 130,
   "metadata": {
    "collapsed": false
   },
   "outputs": [
    {
     "name": "stdout",
     "output_type": "stream",
     "text": [
      "Optimization terminated successfully.\n",
      "         Current function value: 0.584665\n",
      "         Iterations 7\n",
      "                            Poisson Regression Results                            \n",
      "==================================================================================\n",
      "Dep. Variable:     readmission_lessthan30   No. Observations:                46902\n",
      "Model:                            Poisson   Df Residuals:                    46895\n",
      "Method:                               MLE   Df Model:                            6\n",
      "Date:                    Thu, 31 Mar 2016   Pseudo R-squ.:                0.001524\n",
      "Time:                            23:39:00   Log-Likelihood:                -27422.\n",
      "converged:                           True   LL-Null:                       -27464.\n",
      "                                            LLR p-value:                 6.167e-16\n",
      "======================================================================================\n",
      "                         coef    std err          z      P>|z|      [95.0% Conf. Int.]\n",
      "--------------------------------------------------------------------------------------\n",
      "Intercept             -2.3255      0.578     -4.025      0.000        -3.458    -1.193\n",
      "num_lab_procedures    -0.0006      0.001     -1.266      0.206        -0.002     0.000\n",
      "num_medications        0.0055      0.001      4.031      0.000         0.003     0.008\n",
      "time_in_hospital       0.0167      0.004      4.742      0.000         0.010     0.024\n",
      "Age_adult              0.7352      0.578      1.273      0.203        -0.397     1.867\n",
      "Age_child_young        0.9300      0.581      1.602      0.109        -0.208     2.068\n",
      "Age_elderly            0.7924      0.578      1.372      0.170        -0.340     1.925\n",
      "======================================================================================\n"
     ]
    }
   ],
   "source": [
    "# Design matrices (endog & exog)\n",
    "# http://statsmodels.sourceforge.net/devel/gettingstarted.html\n",
    "y, X = patsy.dmatrices('readmission_lessthan30 ~ num_lab_procedures + num_medications + time_in_hospital + Age_adult + Age_child_young + Age_elderly', data=df, return_type='dataframe')\n",
    "\n",
    "mod = sm.Poisson(y, X)    # Describe model\n",
    "res = mod.fit()       # Fit model\n",
    "print res.summary()   # Summarize model"
   ]
  },
  {
   "cell_type": "code",
   "execution_count": 131,
   "metadata": {
    "collapsed": false
   },
   "outputs": [
    {
     "name": "stdout",
     "output_type": "stream",
     "text": [
      "Optimization terminated successfully.\n",
      "         Current function value: 0.552354\n",
      "         Iterations 6\n",
      "                             Logit Regression Results                             \n",
      "==================================================================================\n",
      "Dep. Variable:     readmission_lessthan30   No. Observations:                46902\n",
      "Model:                              Logit   Df Residuals:                    46895\n",
      "Method:                               MLE   Df Model:                            6\n",
      "Date:                    Thu, 31 Mar 2016   Pseudo R-squ.:                0.002139\n",
      "Time:                            23:39:00   Log-Likelihood:                -25906.\n",
      "converged:                           True   LL-Null:                       -25962.\n",
      "                                            LLR p-value:                 1.207e-21\n",
      "======================================================================================\n",
      "                         coef    std err          z      P>|z|      [95.0% Conf. Int.]\n",
      "--------------------------------------------------------------------------------------\n",
      "Intercept             -2.2358      0.610     -3.663      0.000        -3.432    -1.040\n",
      "num_lab_procedures    -0.0009      0.001     -1.462      0.144        -0.002     0.000\n",
      "num_medications        0.0074      0.002      4.641      0.000         0.004     0.010\n",
      "time_in_hospital       0.0223      0.004      5.459      0.000         0.014     0.030\n",
      "Age_adult              0.8663      0.610      1.420      0.156        -0.330     2.062\n",
      "Age_child_young        1.1276      0.614      1.837      0.066        -0.076     2.331\n",
      "Age_elderly            0.9418      0.610      1.544      0.123        -0.254     2.138\n",
      "======================================================================================\n"
     ]
    }
   ],
   "source": [
    "# Logit Model\n",
    "logit_mod = sm.Logit(y, X)    # Describe model\n",
    "logit_res = logit_mod.fit()       # Fit model\n",
    "print logit_res.summary()   # Summarize model"
   ]
  }
 ],
 "metadata": {
  "kernelspec": {
   "display_name": "Python 2",
   "language": "python",
   "name": "python2"
  },
  "language_info": {
   "codemirror_mode": {
    "name": "ipython",
    "version": 2
   },
   "file_extension": ".py",
   "mimetype": "text/x-python",
   "name": "python",
   "nbconvert_exporter": "python",
   "pygments_lexer": "ipython2",
   "version": "2.7.10"
  }
 },
 "nbformat": 4,
 "nbformat_minor": 0
}
