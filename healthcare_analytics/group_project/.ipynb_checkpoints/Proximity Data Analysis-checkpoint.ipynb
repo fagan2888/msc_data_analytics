{
 "cells": [
  {
   "cell_type": "markdown",
   "metadata": {},
   "source": [
    "# Setup"
   ]
  },
  {
   "cell_type": "markdown",
   "metadata": {},
   "source": [
    "###Import"
   ]
  },
  {
   "cell_type": "code",
   "execution_count": 6,
   "metadata": {
    "collapsed": true
   },
   "outputs": [],
   "source": [
    "import pandas as pd\n",
    "import numpy as np\n",
    "import re"
   ]
  },
  {
   "cell_type": "markdown",
   "metadata": {},
   "source": [
    "###Pull data from mongodb"
   ]
  },
  {
   "cell_type": "code",
   "execution_count": 7,
   "metadata": {
    "collapsed": false
   },
   "outputs": [
    {
     "name": "stdout",
     "output_type": "stream",
     "text": [
      "Constants file successfully loaded\n",
      "Returned 759 records\n"
     ]
    }
   ],
   "source": [
    "import ProximityUserTest\n",
    "reload(ProximityUserTest)\n",
    "results = ProximityUserTest.UserTestRecords()\n",
    "results.read_constants_from_file('./myConstants.json')\n",
    "criterion = \"\"\"{'metadata.custom.location':'SF_LEXINGTON'}\"\"\"\n",
    "results.add_records_from_db(eval(criterion))"
   ]
  },
  {
   "cell_type": "markdown",
   "metadata": {},
   "source": [
    "###Compute metrics"
   ]
  },
  {
   "cell_type": "code",
   "execution_count": 8,
   "metadata": {
    "collapsed": true
   },
   "outputs": [],
   "source": [
    "ULTRASOUND_DETECTION_THRESHOLD = 40 # mm\n",
    "results.compute_metrics(ULTRASOUND_DETECTION_THRESHOLD)\n",
    "\n",
    "df = results.as_df()"
   ]
  },
  {
   "cell_type": "markdown",
   "metadata": {},
   "source": [
    "### Set temporary variables"
   ]
  },
  {
   "cell_type": "code",
   "execution_count": 9,
   "metadata": {
    "collapsed": false
   },
   "outputs": [],
   "source": [
    "COUNT_OF_TOUCH_EVENTS               = \"results.metrics.prox.at_touch.count\"\n",
    "ULTRASOUND_DIST_AT_FIRST_TOUCH      = \"results.metrics.prox.at_touch.us.first.r\"\n",
    "ULTRASOUND_PROX_DATA_AT_FIRST_TOUCH = \"results.metrics.prox.at_touch.us.first.detected\"\n",
    "ULTRASOUND_PROX_DATA_ALL_TOUCHES    = \"results.metrics.prox.at_touch.us.all.detected\"\n",
    "ULTRASOUND_PROX_NEAR_AT_FIRST_TOUCH = \"results.metrics.prox.at_touch.us.first.lt_threshold\"\n",
    "ULTRASOUND_PROX_NEAR_ALL_TOUCHES    = \"results.metrics.prox.at_touch.us.all.lt_threshold\"\n",
    "INFRARED_PROX_NEAR_AT_FIRST_TOUCH   = \"results.metrics.prox.at_touch.ir.first.lt_threshold\"\n",
    "INFRARED_PROX_NEAR_ALL_TOUCHES      = \"results.metrics.prox.at_touch.ir.all.lt_threshold\""
   ]
  },
  {
   "cell_type": "markdown",
   "metadata": {},
   "source": [
    "### Separate data into subdatasets"
   ]
  },
  {
   "cell_type": "code",
   "execution_count": 12,
   "metadata": {
    "collapsed": false
   },
   "outputs": [],
   "source": [
    "# Create sub dataframes\n",
    "df_pos = df.loc[(df[\"metadata.polarity\"] == \"Positive\") & (df[COUNT_OF_TOUCH_EVENTS] > 0)] # Remove data points with no touch events\n",
    "df_pos_us_detect = df_pos[df_pos[ULTRASOUND_PROX_DATA_AT_FIRST_TOUCH]] # Remove data points which have no ultrasound detected at first touch\n",
    "df_neg_no_touch = df.loc[(df[\"metadata.polarity\"] == \"Negative\") & (df[\"metadata.touch_event\"] == \"None\")]\n",
    "df_neg_touch = df.loc[(df[\"metadata.polarity\"] == \"Negative\") & (df[\"metadata.touch_event\"] != \"None\")]"
   ]
  },
  {
   "cell_type": "markdown",
   "metadata": {},
   "source": [
    "###Aggregate functions for analysis"
   ]
  },
  {
   "cell_type": "code",
   "execution_count": 13,
   "metadata": {
    "collapsed": false
   },
   "outputs": [
    {
     "ename": "NameError",
     "evalue": "name 'agg_func_sum_touches' is not defined",
     "output_type": "error",
     "traceback": [
      "\u001b[0;31m---------------------------------------------------------------------------\u001b[0m",
      "\u001b[0;31mNameError\u001b[0m                                 Traceback (most recent call last)",
      "\u001b[0;32m<ipython-input-13-10968f1b7659>\u001b[0m in \u001b[0;36m<module>\u001b[0;34m()\u001b[0m\n\u001b[0;32m----> 1\u001b[0;31m \u001b[0magg_func_sum_touches\u001b[0m\u001b[0;34m\u001b[0m\u001b[0m\n\u001b[0m\u001b[1;32m      2\u001b[0m \u001b[0magg_func_sum_of_length_of_arrays\u001b[0m \u001b[0;34m=\u001b[0m \u001b[0;32mlambda\u001b[0m \u001b[0mx\u001b[0m\u001b[0;34m:\u001b[0m \u001b[0msum\u001b[0m\u001b[0;34m(\u001b[0m\u001b[0;34m[\u001b[0m\u001b[0mlen\u001b[0m\u001b[0;34m(\u001b[0m\u001b[0my\u001b[0m\u001b[0;34m)\u001b[0m \u001b[0;32mfor\u001b[0m \u001b[0my\u001b[0m \u001b[0;32min\u001b[0m \u001b[0mx\u001b[0m\u001b[0;34m]\u001b[0m\u001b[0;34m)\u001b[0m\u001b[0;34m\u001b[0m\u001b[0m\n\u001b[1;32m      3\u001b[0m \u001b[0magg_func_sum_of_number_of_true_elements_in_arrays\u001b[0m  \u001b[0;34m=\u001b[0m \u001b[0;32mlambda\u001b[0m \u001b[0mx\u001b[0m\u001b[0;34m:\u001b[0m \u001b[0msum\u001b[0m\u001b[0;34m(\u001b[0m\u001b[0;34m[\u001b[0m\u001b[0mlen\u001b[0m\u001b[0;34m(\u001b[0m\u001b[0my\u001b[0m\u001b[0;34m.\u001b[0m\u001b[0mnonzero\u001b[0m\u001b[0;34m(\u001b[0m\u001b[0;34m)\u001b[0m\u001b[0;34m[\u001b[0m\u001b[0;36m0\u001b[0m\u001b[0;34m]\u001b[0m\u001b[0;34m)\u001b[0m \u001b[0;32mfor\u001b[0m \u001b[0my\u001b[0m \u001b[0;32min\u001b[0m \u001b[0mx\u001b[0m\u001b[0;34m]\u001b[0m\u001b[0;34m)\u001b[0m\u001b[0;34m\u001b[0m\u001b[0m\n\u001b[1;32m      4\u001b[0m \u001b[0magg_func_count_records_with_val_greater_than_zero\u001b[0m \u001b[0;34m=\u001b[0m \u001b[0;32mlambda\u001b[0m \u001b[0mx\u001b[0m\u001b[0;34m:\u001b[0m \u001b[0mlen\u001b[0m\u001b[0;34m(\u001b[0m\u001b[0;34m(\u001b[0m\u001b[0mx\u001b[0m \u001b[0;34m>\u001b[0m \u001b[0;36m0\u001b[0m\u001b[0;34m)\u001b[0m\u001b[0;34m.\u001b[0m\u001b[0mnonzero\u001b[0m\u001b[0;34m(\u001b[0m\u001b[0;34m)\u001b[0m\u001b[0;34m[\u001b[0m\u001b[0;36m0\u001b[0m\u001b[0;34m]\u001b[0m\u001b[0;34m)\u001b[0m\u001b[0;34m\u001b[0m\u001b[0m\n\u001b[1;32m      5\u001b[0m \u001b[0magg_func_count_records_with_val_true\u001b[0m \u001b[0;34m=\u001b[0m \u001b[0;32mlambda\u001b[0m \u001b[0mx\u001b[0m\u001b[0;34m:\u001b[0m \u001b[0mlen\u001b[0m\u001b[0;34m(\u001b[0m\u001b[0;34m(\u001b[0m\u001b[0mx\u001b[0m \u001b[0;34m==\u001b[0m \u001b[0mTrue\u001b[0m\u001b[0;34m)\u001b[0m\u001b[0;34m.\u001b[0m\u001b[0mnonzero\u001b[0m\u001b[0;34m(\u001b[0m\u001b[0;34m)\u001b[0m\u001b[0;34m[\u001b[0m\u001b[0;36m0\u001b[0m\u001b[0;34m]\u001b[0m\u001b[0;34m)\u001b[0m\u001b[0;34m\u001b[0m\u001b[0m\n",
      "\u001b[0;31mNameError\u001b[0m: name 'agg_func_sum_touches' is not defined"
     ]
    }
   ],
   "source": [
    "agg_func_sum_touches\n",
    "agg_func_sum_of_length_of_arrays = lambda x: sum([len(y) for y in x])\n",
    "agg_func_sum_of_number_of_true_elements_in_arrays  = lambda x: sum([len(y.nonzero()[0]) for y in x])\n",
    "agg_func_count_records_with_val_greater_than_zero = lambda x: len((x > 0).nonzero()[0])\n",
    "agg_func_count_records_with_val_true = lambda x: len((x == True).nonzero()[0])"
   ]
  },
  {
   "cell_type": "markdown",
   "metadata": {},
   "source": [
    "###Identify touch location"
   ]
  },
  {
   "cell_type": "code",
   "execution_count": null,
   "metadata": {
    "collapsed": false
   },
   "outputs": [],
   "source": [
    "TOUCH_ROW = 'touch_row'\n",
    "TOUCH_COL = 'touch_column'\n",
    "TOUCH_ANGLE = 'touch_angle'\n",
    "match_pattern = r'.+(Grid (?P<'+TOUCH_ROW+'>\\d)(?P<'+TOUCH_COL+'>\\w))'\n",
    "match_pattern_row = r'.+(Grid (?P<'+TOUCH_ROW+'>\\d)\\w)'\n",
    "match_pattern_column = r'.+(Grid \\d(?P<'+TOUCH_COL+'>\\w))'\n",
    "match_pattern_angle = r'.+fingers at (?P<'+TOUCH_ANGLE+'>\\d+) deg.+'\n",
    "touch_matches_row = df_neg_touch['metadata.grip'].apply(lambda x: re.match(match_pattern_row,x).groupdict()[TOUCH_ROW])\n",
    "touch_matches_col = df_neg_touch['metadata.grip'].apply(lambda x: re.match(match_pattern_column,x).groupdict()[TOUCH_COL])\n",
    "touch_matches_angle = df_neg_touch['metadata.grip'].apply(lambda x: re.match(match_pattern_angle,x).groupdict()[TOUCH_ANGLE])\n",
    "df_neg_touch['touch_row'] = touch_matches_row\n",
    "df_neg_touch['touch_col'] = touch_matches_col\n",
    "df_neg_touch['touch_angle'] = touch_matches_angle"
   ]
  },
  {
   "cell_type": "markdown",
   "metadata": {},
   "source": [
    "### Set up plotting environment"
   ]
  },
  {
   "cell_type": "code",
   "execution_count": null,
   "metadata": {
    "collapsed": false
   },
   "outputs": [],
   "source": [
    "# Optional -- this makes the graphs look nicer\n",
    "import seaborn as sns\n",
    "reload(sns)\n",
    "# This only works in jupyter -- you'll have to export your plots to a file if you use the ipython console\n",
    "%pylab inline\n",
    "titleargs = {'fontsize': 12}\n",
    "sns.set(font_scale=1.25)\n",
    "sns.set_style(\"whitegrid\")\n",
    "sns.despine\n",
    "rcParams['font.family'] = 'monospace'\n",
    "pylab.rcParams['figure.figsize'] = (12.0, 10.0)"
   ]
  },
  {
   "cell_type": "markdown",
   "metadata": {},
   "source": [
    "# Performance charts"
   ]
  },
  {
   "cell_type": "markdown",
   "metadata": {},
   "source": [
    "###Ratio of records with ultrasound data at touch event vs those with no ultrasound data"
   ]
  },
  {
   "cell_type": "code",
   "execution_count": null,
   "metadata": {
    "collapsed": false
   },
   "outputs": [],
   "source": [
    "# Barplot of counts (not normalized)\n",
    "grouped_pos = df_pos.groupby(\n",
    "    [\"metadata.initial_condition\",\n",
    "     \"metadata.reflector\",\n",
    "     \"metadata.touch_event\",\n",
    "     ULTRASOUND_PROX_DATA_AT_FIRST_TOUCH])\n",
    "grouped_pos_us_detected = grouped_pos['_id'].count().unstack(ULTRASOUND_PROX_DATA_AT_FIRST_TOUCH).fillna(0)\n",
    "barplot = grouped_pos_us_detected.plot(kind='barh', stacked=True, legend=True)\n",
    "barplot.set_ylabel('Initial condition, Reflector, Touch event')\n",
    "barplot.set_xlabel('Count of tests')\n",
    "barplot.set_title('Count of ultrasound detections at first touch\\nFalse: no ultrasound data, True: ultrasound data')\n",
    "plt.tight_layout()\n",
    "plt.savefig(results.PLOT_FOLDER+'Count_of_ultrasound_detections_at_first_touch.png',dpi=200)"
   ]
  },
  {
   "cell_type": "code",
   "execution_count": null,
   "metadata": {
    "collapsed": false
   },
   "outputs": [],
   "source": [
    "# Barplot of ratios (normalized)\n",
    "grouped_pos = df_pos.groupby(\n",
    "    [\"metadata.initial_condition\",\n",
    "     \"metadata.reflector\",\n",
    "     \"metadata.touch_event\",\n",
    "     ULTRASOUND_PROX_DATA_AT_FIRST_TOUCH])\n",
    "grouped_pos_us_detected = grouped_pos['_id'].count().unstack(ULTRASOUND_PROX_DATA_AT_FIRST_TOUCH).fillna(0)\n",
    "barplot = grouped_pos_us_detected.div(grouped_pos_us_detected.sum(1),axis=0).plot(kind='barh', stacked=True, legend=True)\n",
    "barplot.set_ylabel('Initial condition, Reflector, Touch event')\n",
    "barplot.set_ylabel('')\n",
    "barplot.set_xlabel('')\n",
    "barplot.set_title('Distribution of ultrasound detections at first touch\\nFalse: no ultrasound data, True: ultrasound data')\n",
    "plt.tight_layout()\n",
    "plt.savefig(results.PLOT_FOLDER+'Ultrasound_detections_distribution.png',dpi=200)"
   ]
  },
  {
   "cell_type": "markdown",
   "metadata": {},
   "source": [
    "### Ratio of records with ultrasound proximity detected (depends on threshold)"
   ]
  },
  {
   "cell_type": "code",
   "execution_count": null,
   "metadata": {
    "collapsed": false
   },
   "outputs": [],
   "source": [
    "# Barplot of counts (not normalized)\n",
    "grouped_pos = df_pos.groupby(\n",
    "    [\"metadata.initial_condition\",\n",
    "     \"metadata.reflector\",\n",
    "     \"metadata.touch_event\",\n",
    "     ULTRASOUND_PROX_NEAR_AT_FIRST_TOUCH])\n",
    "grouped_pos_us_detected = grouped_pos['_id'].count().unstack(ULTRASOUND_PROX_NEAR_AT_FIRST_TOUCH).fillna(0)\n",
    "barplot = grouped_pos_us_detected.plot(kind='barh', stacked=True, legend=True)\n",
    "barplot.set_ylabel('Initial condition, Reflector, Touch event')\n",
    "barplot.set_xlabel('Count of tests')\n",
    "barplot.set_title('Count of ultrasound proximity at first touch\\nFalse: proximity failure, True: proximity success')\n",
    "plt.tight_layout()\n",
    "plt.savefig(results.PLOT_FOLDER+'Count_of_ultrasound_proximity_at_first_touch.png',dpi=200)"
   ]
  },
  {
   "cell_type": "code",
   "execution_count": null,
   "metadata": {
    "collapsed": false
   },
   "outputs": [],
   "source": [
    "# Barplot of ratios (normalized)\n",
    "grouped_pos = df_pos.groupby(\n",
    "    [\"metadata.initial_condition\",\n",
    "     \"metadata.reflector\",\n",
    "     \"metadata.touch_event\",\n",
    "     ULTRASOUND_PROX_NEAR_AT_FIRST_TOUCH])\n",
    "grouped_pos_us_detected = grouped_pos['_id'].count().unstack(ULTRASOUND_PROX_NEAR_AT_FIRST_TOUCH).fillna(0)\n",
    "barplot = grouped_pos_us_detected.div(grouped_pos_us_detected.sum(1),axis=0).plot(kind='barh', stacked=True, legend=True)\n",
    "barplot.set_ylabel('Initial condition, Reflector, Touch event')\n",
    "barplot.set_xlabel('')\n",
    "barplot.set_title('Distribution of ultrasound proximity at first touch\\nFalse: proximity failure, True: proximity success')\n",
    "plt.tight_layout()\n",
    "plt.savefig(results.PLOT_FOLDER+'Distribution_of_ultrasound_proximity_at_first_touch.png',dpi=200)"
   ]
  },
  {
   "cell_type": "markdown",
   "metadata": {},
   "source": [
    "### Ratio of records with infrared proximity detected"
   ]
  },
  {
   "cell_type": "code",
   "execution_count": null,
   "metadata": {
    "collapsed": false
   },
   "outputs": [],
   "source": [
    "grouped_pos = df_pos.groupby(\n",
    "    [\"metadata.initial_condition\",\n",
    "     \"metadata.reflector\",\n",
    "     \"metadata.touch_event\",\n",
    "     INFRARED_PROX_NEAR_AT_FIRST_TOUCH])\n",
    "grouped_pos_us_detected = grouped_pos['_id'].count().unstack(INFRARED_PROX_NEAR_AT_FIRST_TOUCH).fillna(0)\n",
    "barplot = grouped_pos_us_detected.plot(kind='barh', stacked=True, legend=True)\n",
    "barplot.set_ylabel('Initial condition, Reflector, Touch event')\n",
    "barplot.set_xlabel('Count of tests')\n",
    "barplot.set_title('Count of infrared proximity at first touch\\nFalse: proximity failure, True: proximity success')\n",
    "plt.tight_layout()\n",
    "plt.savefig(results.PLOT_FOLDER+'Count_of_infrared_proximity_at_first_touch.png',dpi=200)"
   ]
  },
  {
   "cell_type": "code",
   "execution_count": null,
   "metadata": {
    "collapsed": false
   },
   "outputs": [],
   "source": [
    "grouped_pos = df_pos.groupby(\n",
    "    [\"metadata.initial_condition\",\n",
    "     \"metadata.reflector\",\n",
    "     \"metadata.touch_event\",\n",
    "     INFRARED_PROX_NEAR_AT_FIRST_TOUCH])\n",
    "grouped_pos_us_detected = grouped_pos['_id'].count().unstack(INFRARED_PROX_NEAR_AT_FIRST_TOUCH).fillna(0)\n",
    "barplot = grouped_pos_us_detected.div(grouped_pos_us_detected.sum(1),axis=0).plot(kind='barh', stacked=True, legend=True)\n",
    "barplot.set_ylabel('Initial condition, Reflector, Touch event')\n",
    "barplot.set_xlabel('')\n",
    "barplot.set_title('Distribution of infrared proximity at first touch\\nFalse: proximity failure, True: proximity success')\n",
    "plt.tight_layout()\n",
    "plt.savefig(results.PLOT_FOLDER+'Distribution_of_infrared_proximity_at_first_touch.png',dpi=200)"
   ]
  },
  {
   "cell_type": "markdown",
   "metadata": {},
   "source": [
    "### Performance comparison based on head-approach methods"
   ]
  },
  {
   "cell_type": "code",
   "execution_count": null,
   "metadata": {
    "collapsed": false
   },
   "outputs": [],
   "source": [
    "detection_count_comp = df_pos.pivot_table(values=[ULTRASOUND_PROX_DATA_AT_FIRST_TOUCH,\n",
    "                                                  ULTRASOUND_PROX_NEAR_AT_FIRST_TOUCH,\n",
    "                                                  INFRARED_PROX_NEAR_AT_FIRST_TOUCH],\n",
    "                  columns=[\"metadata.touch_event\"],\n",
    "                  aggfunc=agg_func_count_records_with_val_true)\n",
    "all_count_comp = df_pos.pivot_table(values=[ULTRASOUND_PROX_DATA_AT_FIRST_TOUCH,\n",
    "                                              ULTRASOUND_PROX_NEAR_AT_FIRST_TOUCH,\n",
    "                                              INFRARED_PROX_NEAR_AT_FIRST_TOUCH],\n",
    "                  columns=[\"metadata.touch_event\"],\n",
    "                  aggfunc=len)\n",
    "barplot = (detection_count_comp / all_count_comp).plot(kind='barh', stacked=False, legend=True)"
   ]
  },
  {
   "cell_type": "markdown",
   "metadata": {},
   "source": [
    "### Performance comparison based on initial condition"
   ]
  },
  {
   "cell_type": "code",
   "execution_count": null,
   "metadata": {
    "collapsed": false
   },
   "outputs": [],
   "source": [
    "df_pos_normal_approach = df_pos[(df_pos['metadata.touch_event'] == 'Ear only') | (df_pos['metadata.touch_event'] == 'Ear and cheek')]\n",
    "detection_count_comp = df_pos_normal_approach.pivot_table(values=[ULTRASOUND_PROX_DATA_AT_FIRST_TOUCH,\n",
    "                                                                  ULTRASOUND_PROX_NEAR_AT_FIRST_TOUCH,\n",
    "                                                                  INFRARED_PROX_NEAR_AT_FIRST_TOUCH],\n",
    "                  columns=[\"metadata.initial_condition\"],\n",
    "                  aggfunc=agg_func_count_records_with_val_true)\n",
    "all_count_comp = df_pos_normal_approach.pivot_table(values=[ULTRASOUND_PROX_DATA_AT_FIRST_TOUCH,\n",
    "                                                  ULTRASOUND_PROX_NEAR_AT_FIRST_TOUCH,\n",
    "                                                  INFRARED_PROX_NEAR_AT_FIRST_TOUCH],\n",
    "                  columns=[\"metadata.initial_condition\"],\n",
    "                  aggfunc=len)\n",
    "barplot = (detection_count_comp / all_count_comp).plot(kind='barh', stacked=False, legend=True)"
   ]
  },
  {
   "cell_type": "markdown",
   "metadata": {},
   "source": [
    "### Performance comparison based on headgear"
   ]
  },
  {
   "cell_type": "code",
   "execution_count": null,
   "metadata": {
    "collapsed": false
   },
   "outputs": [],
   "source": [
    "df_pos_normal_approach = df_pos[(df_pos['metadata.touch_event'] == 'Ear only') | (df_pos['metadata.touch_event'] == 'Ear and cheek')]\n",
    "detection_count_comp = df_pos_normal_approach.pivot_table(values=[ULTRASOUND_PROX_DATA_AT_FIRST_TOUCH,\n",
    "                                                                  ULTRASOUND_PROX_NEAR_AT_FIRST_TOUCH,\n",
    "                                                                  INFRARED_PROX_NEAR_AT_FIRST_TOUCH],\n",
    "                  columns=[\"metadata.reflector\"],\n",
    "                  aggfunc=agg_func_count_records_with_val_true)\n",
    "all_count_comp = df_pos_normal_approach.pivot_table(values=[ULTRASOUND_PROX_DATA_AT_FIRST_TOUCH,\n",
    "                                                              ULTRASOUND_PROX_NEAR_AT_FIRST_TOUCH,\n",
    "                                                              INFRARED_PROX_NEAR_AT_FIRST_TOUCH],\n",
    "                  columns=[\"metadata.reflector\"],\n",
    "                  aggfunc=len)\n",
    "barplot = (detection_count_comp / all_count_comp).plot(kind='barh', stacked=False, legend=True)\n",
    "\n"
   ]
  },
  {
   "cell_type": "markdown",
   "metadata": {},
   "source": [
    "# Sanity checks (tables)"
   ]
  },
  {
   "cell_type": "markdown",
   "metadata": {},
   "source": [
    "### Total number of records in database"
   ]
  },
  {
   "cell_type": "code",
   "execution_count": null,
   "metadata": {
    "collapsed": false,
    "scrolled": true
   },
   "outputs": [],
   "source": [
    "df.pivot_table(index=['metadata.polarity','metadata.reflector','metadata.touch_event','metadata.initial_condition','metadata.grip'],\n",
    "               values='_id',\n",
    "               columns=['metadata.system.firmware.serialno','metadata.system.engine.version'],\n",
    "               aggfunc=len)"
   ]
  },
  {
   "cell_type": "markdown",
   "metadata": {},
   "source": [
    "### Number of records which include at least one touch event"
   ]
  },
  {
   "cell_type": "code",
   "execution_count": null,
   "metadata": {
    "collapsed": false
   },
   "outputs": [],
   "source": [
    "df.pivot_table(index=['metadata.polarity','metadata.reflector','metadata.touch_event','metadata.initial_condition','metadata.grip'],\n",
    "               values=COUNT_OF_TOUCH_EVENTS,\n",
    "               columns=['metadata.system.firmware.serialno','metadata.system.engine.version'],\n",
    "               aggfunc=agg_func_count_records_with_val_greater_than_zero)"
   ]
  },
  {
   "cell_type": "markdown",
   "metadata": {},
   "source": [
    "# Miscellaneous"
   ]
  },
  {
   "cell_type": "markdown",
   "metadata": {},
   "source": [
    "###Violin plots of distance at touch (ultrasound)"
   ]
  },
  {
   "cell_type": "code",
   "execution_count": null,
   "metadata": {
    "collapsed": false
   },
   "outputs": [],
   "source": [
    "this_df = df_pos_us_detect\n",
    "\n",
    "group_param = 'metadata.initial_condition'\n",
    "param_name = 'metadata.reflector'\n",
    "\n",
    "unique_params = this_df[param_name].unique()\n",
    "unique_params_cnt = len(unique_params)\n",
    "fig, all_axes = plt.subplots(unique_params_cnt, 1)\n",
    "# Matplotlib is ridiculous and returns a scalar instead of an array if the number of plots is one, hence:\n",
    "if type(all_axes) != type(np.array([])):\n",
    "    all_axes = np.asarray([all_axes])\n",
    "\n",
    "for idx, this_param in enumerate(unique_params):\n",
    "    subset_idx = (this_df[param_name] == this_param)\n",
    "    vp = sns.violinplot(vals=this_df[ULTRASOUND_DIST_AT_FIRST_TOUCH][subset_idx],\n",
    "                       groupby=this_df[group_param][subset_idx],\n",
    "                       inner=\"stick\",\n",
    "                       vert=False,\n",
    "                       cut=1,\n",
    "                       bw=.1,\n",
    "                       ax=all_axes[idx])\n",
    "    vp.set_xlim([0,130])\n",
    "    vp.legend()\n",
    "    subplot_title = param_name + ': ' + this_param\n",
    "    if idx == 0:\n",
    "        subplot_title = 'Distribution of '+ULTRASOUND_DIST_AT_FIRST_TOUCH+'\\n'+subplot_title\n",
    "    vp.set_title(subplot_title)\n",
    "    vp.set_xlabel('Distance [mm]')\n",
    "    vp.set_ylabel(group_param)\n",
    "plt.tight_layout() \n",
    "plt.savefig('cool_violins.png',dpi=200)"
   ]
  },
  {
   "cell_type": "code",
   "execution_count": null,
   "metadata": {
    "collapsed": true
   },
   "outputs": [],
   "source": []
  },
  {
   "cell_type": "markdown",
   "metadata": {},
   "source": [
    "### Estimate of a posteriori detection rate based on threshold"
   ]
  },
  {
   "cell_type": "code",
   "execution_count": null,
   "metadata": {
    "collapsed": false
   },
   "outputs": [],
   "source": [
    "detect_threshold_array = [10, 15, 20, 25, 30, 35, 40, 50, 60, 70]\n",
    "for threshold_idx, detect_threshold in enumerate(detect_threshold_array):\n",
    "    df_all = df.copy()\n",
    "    df_all['detected'] = df[ULTRASOUND_DIST_AT_FIRST_TOUCH] < detect_threshold\n",
    "    df_detected = df_all[df_all['detected']]\n",
    "    group_true_detect = df_detected.groupby(['metadata.initial_condition','metadata.reflector','metadata.touch_event'])['_id'].count().fillna(0)\n",
    "    group_all_detect  = df_all.groupby(['metadata.initial_condition','metadata.reflector','metadata.touch_event'])['_id'].count().fillna(0)\n",
    "    group_fractional_detect = group_true_detect/group_all_detect\n",
    "    print \"Threshold: \" + str(detect_threshold) + \" mm\"\n",
    "    print group_fractional_detect"
   ]
  },
  {
   "cell_type": "code",
   "execution_count": null,
   "metadata": {
    "collapsed": false
   },
   "outputs": [],
   "source": [
    "this_df = df_pos_us_detect\n",
    "group_param = 'metadata.initial_condition'\n",
    "param_name = 'metadata.reflector'\n",
    "plt_grid = sns.FacetGrid(this_df, col=param_name, hue=group_param)\n",
    "plt_grid.map(sns.distplot, ULTRASOUND_DIST_AT_FIRST_TOUCH, bins=np.arange(0, 60, 5),hist_kws={'alpha':.2})\n",
    "plt_grid.set(xlabel='')\n",
    "plt_grid.set(xlim=[0,60])\n",
    "plt_grid.set(ylim=[0,0.2])\n",
    "#with sns.axes_style(\"white\"):\n",
    "#    sns.distplot(this_df[ULTRASOUND_DIST_AT_FIRST_TOUCH]);"
   ]
  },
  {
   "cell_type": "code",
   "execution_count": null,
   "metadata": {
    "collapsed": false
   },
   "outputs": [],
   "source": [
    "bp = df_pos_us_detect.boxplot(column=ULTRASOUND_DIST_AT_FIRST_TOUCH, by=['metadata.initial_condition','metadata.reflector'], vert=False)\n",
    "bp.set_xlim([0,60])"
   ]
  },
  {
   "cell_type": "markdown",
   "metadata": {},
   "source": [
    "###Count of all touch events in negative test set"
   ]
  },
  {
   "cell_type": "code",
   "execution_count": null,
   "metadata": {
    "collapsed": false
   },
   "outputs": [],
   "source": [
    "df_neg_touch.pivot_table(index=['metadata.polarity','metadata.reflector','metadata.touch_event','metadata.initial_condition','metadata.grip'],\n",
    "               values=COUNT_OF_TOUCH_EVENTS,\n",
    "               columns=['metadata.system.firmware.serialno'],\n",
    "               aggfunc=np.mean)"
   ]
  },
  {
   "cell_type": "markdown",
   "metadata": {},
   "source": [
    "###Count of all false positives in negative test set"
   ]
  },
  {
   "cell_type": "code",
   "execution_count": null,
   "metadata": {
    "collapsed": false
   },
   "outputs": [],
   "source": [
    "count_of_touch_events = df_neg_touch.pivot_table(values=['results.metrics.prox.at_touch.ir.all.lt_threshold','results.metrics.prox.at_touch.us.all.lt_threshold','results.metrics.prox.at_touch.us.all.detected'], \n",
    "                        index=['touch_row','touch_col','touch_angle'],\n",
    "                        aggfunc=agg_func_sum_of_length_of_arrays)\n",
    "count_of_touch_events.unstack('touch_col')"
   ]
  },
  {
   "cell_type": "code",
   "execution_count": null,
   "metadata": {
    "collapsed": false
   },
   "outputs": [],
   "source": [
    "count_of_false_positives = df_neg_touch.pivot_table(values=['results.metrics.prox.at_touch.ir.all.lt_threshold','results.metrics.prox.at_touch.us.all.lt_threshold','results.metrics.prox.at_touch.us.all.detected'], \n",
    "                        index=['touch_row','touch_col'],\n",
    "                        aggfunc=agg_func_sum_of_number_of_true_elements_in_arrays)\n",
    "count_of_false_positives"
   ]
  },
  {
   "cell_type": "code",
   "execution_count": null,
   "metadata": {
    "collapsed": false
   },
   "outputs": [],
   "source": [
    "FP_METRIC = ULTRASOUND_PROX_DATA_ALL_TOUCHES\n",
    "count_of_touch_events = df_neg_touch.groupby(by=['touch_row','touch_col','touch_angle'])[FP_METRIC].apply(agg_func_sum_of_length_of_arrays).unstack('touch_col')\n",
    "count_of_false_positives = df_neg_touch.groupby(by=['touch_row','touch_col','touch_angle'])[FP_METRIC].apply(agg_func_sum_of_number_of_true_elements_in_arrays).unstack('touch_col')\n",
    "fp_rate = count_of_false_positives / count_of_touch_events\n",
    "fp_rate"
   ]
  },
  {
   "cell_type": "code",
   "execution_count": null,
   "metadata": {
    "collapsed": false
   },
   "outputs": [],
   "source": [
    "#Table\n",
    "FP_METRIC = ULTRASOUND_PROX_NEAR_ALL_TOUCHES\n",
    "count_of_touch_events = df_neg_touch.groupby(by=['touch_row','touch_col','touch_angle'])[FP_METRIC].apply(agg_func_sum_of_length_of_arrays).unstack('touch_col')\n",
    "count_of_false_positives = df_neg_touch.groupby(by=['touch_row','touch_col','touch_angle'])[FP_METRIC].apply(agg_func_sum_of_number_of_true_elements_in_arrays).unstack('touch_col')\n",
    "fp_rate = count_of_false_positives / count_of_touch_events\n",
    "fp_rate"
   ]
  },
  {
   "cell_type": "code",
   "execution_count": null,
   "metadata": {
    "collapsed": false
   },
   "outputs": [],
   "source": [
    "this_df = df_neg_touch\n",
    "FP_METRIC = ULTRASOUND_PROX_NEAR_ALL_TOUCHES\n",
    "\n",
    "param_name = 'touch_angle'\n",
    "\n",
    "unique_params = this_df[param_name].unique()\n",
    "unique_params_cnt = len(unique_params)\n",
    "fig, all_axes = plt.subplots(unique_params_cnt, 1)\n",
    "# Matplotlib is ridiculous and returns a scalar instead of an array if the number of plots is one, hence:\n",
    "if type(all_axes) != type(np.array([])):\n",
    "    all_axes = np.asarray([all_axes])\n",
    "\n",
    "\n",
    "for idx, this_param in enumerate(unique_params):\n",
    "    subset_idx = (this_df[param_name] == this_param)\n",
    "\n",
    "    count_of_touch_events = df_neg_touch[subset_idx].groupby(by=['touch_row','touch_col'])[FP_METRIC].apply(agg_func_sum_of_length_of_arrays).unstack('touch_col')\n",
    "    count_of_false_positives = df_neg_touch[subset_idx].groupby(by=['touch_row','touch_col'])[FP_METRIC].apply(agg_func_sum_of_number_of_true_elements_in_arrays).unstack('touch_col')\n",
    "    fp_rate = count_of_false_positives / count_of_touch_events\n",
    "    hm = sns.heatmap(fp_rate*100,\n",
    "                     annot=True,\n",
    "                     fmt=\"0.1f\",\n",
    "                    ax=all_axes[idx],\n",
    "                     vmin=0,\n",
    "                    vmax=100,\n",
    "                    annot_kws={'fontsize':12})\n",
    "    \n",
    "    subplot_title = param_name + ': ' + this_param\n",
    "    if idx == 0:\n",
    "        subplot_title = 'False Positives:\\nProbability of '+FP_METRIC+'\\n'+subplot_title\n",
    "    hm.set_title(subplot_title)\n",
    "    \n",
    "plt.tight_layout() \n",
    "plt.savefig(results.PLOT_FOLDER+'Heatmap_of_ultrasound_false_positives.png',dpi=200)\n"
   ]
  },
  {
   "cell_type": "code",
   "execution_count": null,
   "metadata": {
    "collapsed": false
   },
   "outputs": [],
   "source": [
    "\n",
    "this_df = df_neg_touch\n",
    "FP_METRIC = INFRARED_PROX_NEAR_ALL_TOUCHES\n",
    "\n",
    "param_name = 'touch_angle'\n",
    "\n",
    "unique_params = this_df[param_name].unique()\n",
    "unique_params_cnt = len(unique_params)\n",
    "fig, all_axes = plt.subplots(unique_params_cnt, 1)\n",
    "# Matplotlib is ridiculous and returns a scalar instead of an array if the number of plots is one, hence:\n",
    "if type(all_axes) != type(np.array([])):\n",
    "    all_axes = np.asarray([all_axes])\n",
    "\n",
    "\n",
    "for idx, this_param in enumerate(unique_params):\n",
    "    subset_idx = (this_df[param_name] == this_param)\n",
    "\n",
    "    count_of_touch_events = df_neg_touch[subset_idx].groupby(by=['touch_row','touch_col'])[FP_METRIC].apply(agg_func_sum_of_length_of_arrays).unstack('touch_col')\n",
    "    count_of_false_positives = df_neg_touch[subset_idx].groupby(by=['touch_row','touch_col'])[FP_METRIC].apply(agg_func_sum_of_number_of_true_elements_in_arrays).unstack('touch_col')\n",
    "    fp_rate = count_of_false_positives / count_of_touch_events\n",
    "    hm = sns.heatmap(fp_rate*100,\n",
    "                     annot=True,\n",
    "                     fmt=\"0.1f\",\n",
    "                    ax=all_axes[idx],\n",
    "                     vmin=0,\n",
    "                    vmax=100,\n",
    "                    annot_kws={'fontsize':12})\n",
    "    \n",
    "    subplot_title = param_name + ': ' + this_param\n",
    "    if idx == 0:\n",
    "        subplot_title = 'False Positives:\\nProbability of '+FP_METRIC+'\\n'+subplot_title\n",
    "    hm.set_title(subplot_title)\n",
    "    \n",
    "plt.tight_layout() \n",
    "plt.savefig(results.PLOT_FOLDER+'Heatmap_of_infrared_false_positives.png',dpi=200)"
   ]
  },
  {
   "cell_type": "code",
   "execution_count": null,
   "metadata": {
    "collapsed": false
   },
   "outputs": [],
   "source": [
    "this_df = df_neg_touch\n",
    "FP_METRIC = ULTRASOUND_PROX_DATA_ALL_TOUCHES\n",
    "\n",
    "param_name = 'touch_angle'\n",
    "\n",
    "unique_params = this_df[param_name].unique()\n",
    "unique_params_cnt = len(unique_params)\n",
    "fig, all_axes = plt.subplots(unique_params_cnt, 1)\n",
    "# Matplotlib is ridiculous and returns a scalar instead of an array if the number of plots is one, hence:\n",
    "if type(all_axes) != type(np.array([])):\n",
    "    all_axes = np.asarray([all_axes])\n",
    "\n",
    "agg_func_sum_of_distance = lambda x: sum([sum(y[y>=0]) for y in x])\n",
    "\n",
    "for idx, this_param in enumerate(unique_params):\n",
    "    subset_idx = (this_df[param_name] == this_param)\n",
    "\n",
    "    sum_of_distances = df_neg_touch[subset_idx].groupby(by=['touch_row','touch_col'])['results.metrics.prox.at_touch.us.all.r'].apply(agg_func_sum_of_distance).unstack('touch_col')\n",
    "    count_of_touch_events = df_neg_touch[subset_idx].groupby(by=['touch_row','touch_col'])[FP_METRIC].apply(agg_func_sum_of_number_of_true_elements_in_arrays).unstack('touch_col')\n",
    "    average_distance = sum_of_distances / count_of_touch_events\n",
    "    hm = sns.heatmap(average_distance,\n",
    "                     annot=True,\n",
    "                     fmt=\"0.1f\",\n",
    "                    ax=all_axes[idx],\n",
    "                     vmin=0,\n",
    "                    vmax=160,\n",
    "                    annot_kws={'fontsize':12})\n",
    "    \n",
    "    subplot_title = param_name + ': ' + this_param\n",
    "    if idx == 0:\n",
    "        subplot_title = 'False Positives: Average of '+FP_METRIC+'\\n'+subplot_title\n",
    "    hm.set_title(subplot_title)\n",
    "    \n",
    "plt.tight_layout() \n",
    "plt.savefig(results.PLOT_FOLDER+'Heatmap_of_average_distance_detection_ultrasound',dpi=200)\n"
   ]
  },
  {
   "cell_type": "markdown",
   "metadata": {},
   "source": [
    "###Average distance measured at touch event"
   ]
  },
  {
   "cell_type": "code",
   "execution_count": null,
   "metadata": {
    "collapsed": false
   },
   "outputs": [],
   "source": [
    "FP_METRIC = ULTRASOUND_PROX_DATA_ALL_TOUCHES\n",
    "averate_distance = df_neg_touch.groupby(by=['touch_row','touch_col','touch_angle'])['results.metrics.prox.at_touch.us.all.r'].apply(agg_func_average_distance).unstack('touch_col')\n",
    "count_of_touch_events = df_neg_touch.groupby(by=['touch_row','touch_col','touch_angle'])[FP_METRIC].apply(agg_func_sum_of_number_of_true_elements_in_arrays).unstack('touch_col')\n",
    "averate_distance / count_of_touch_events\n"
   ]
  }
 ],
 "metadata": {
  "kernelspec": {
   "display_name": "Python 2",
   "language": "python",
   "name": "python2"
  },
  "language_info": {
   "codemirror_mode": {
    "name": "ipython",
    "version": 2
   },
   "file_extension": ".py",
   "mimetype": "text/x-python",
   "name": "python",
   "nbconvert_exporter": "python",
   "pygments_lexer": "ipython2",
   "version": "2.7.10"
  }
 },
 "nbformat": 4,
 "nbformat_minor": 0
}
