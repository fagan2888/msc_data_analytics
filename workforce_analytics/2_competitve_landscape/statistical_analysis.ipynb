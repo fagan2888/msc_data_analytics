{
 "cells": [
  {
   "cell_type": "code",
   "execution_count": 6,
   "metadata": {
    "collapsed": false
   },
   "outputs": [],
   "source": [
    "import pandas as pd\n",
    "import numpy as np\n",
    "\n",
    "output_df = pd.read_csv('Dictionaries.csv')"
   ]
  },
  {
   "cell_type": "code",
   "execution_count": 7,
   "metadata": {
    "collapsed": false
   },
   "outputs": [],
   "source": [
    "all_firm_nouns = pd.DataFrame(output_df.groupby('ticker')['firm_nouns'].sum())"
   ]
  },
  {
   "cell_type": "code",
   "execution_count": 8,
   "metadata": {
    "collapsed": false
   },
   "outputs": [
    {
     "name": "stdout",
     "output_type": "stream",
     "text": [
      "                                               firm_nouns\n",
      "ticker                                                   \n",
      "ADI     ['item', 'business', 'company', 'overview', 'a...\n",
      "AFOP    ['item', 'business', 'report', 'words', 'expre...\n",
      "ALTR    ['item', 'business', 'general', 'altera', 'cor...\n"
     ]
    }
   ],
   "source": [
    "print all_firm_nouns"
   ]
  },
  {
   "cell_type": "code",
   "execution_count": 9,
   "metadata": {
    "collapsed": false
   },
   "outputs": [
    {
     "data": {
      "text/html": [
       "<div style=\"max-height:1000px;max-width:1500px;overflow:auto;\">\n",
       "<table border=\"1\" class=\"dataframe\">\n",
       "  <thead>\n",
       "    <tr style=\"text-align: right;\">\n",
       "      <th></th>\n",
       "      <th>firm_nouns</th>\n",
       "      <th>ticker</th>\n",
       "      <th>years</th>\n",
       "    </tr>\n",
       "  </thead>\n",
       "  <tbody>\n",
       "    <tr>\n",
       "      <th>0</th>\n",
       "      <td>['item', 'business', 'company', 'overview', 'a...</td>\n",
       "      <td>ADI</td>\n",
       "      <td>2000</td>\n",
       "    </tr>\n",
       "    <tr>\n",
       "      <th>1</th>\n",
       "      <td>['item', 'business', 'company', 'overview', 'w...</td>\n",
       "      <td>ADI</td>\n",
       "      <td>2001</td>\n",
       "    </tr>\n",
       "    <tr>\n",
       "      <th>2</th>\n",
       "      <td>['item', 'business', 'company', 'overview', 'w...</td>\n",
       "      <td>ADI</td>\n",
       "      <td>2002</td>\n",
       "    </tr>\n",
       "    <tr>\n",
       "      <th>3</th>\n",
       "      <td>['item', 'business', 'company', 'overview', 'w...</td>\n",
       "      <td>ADI</td>\n",
       "      <td>2003</td>\n",
       "    </tr>\n",
       "    <tr>\n",
       "      <th>4</th>\n",
       "      <td>['item', 'business', 'company', 'overview', 'w...</td>\n",
       "      <td>ADI</td>\n",
       "      <td>2004</td>\n",
       "    </tr>\n",
       "    <tr>\n",
       "      <th>5</th>\n",
       "      <td>['item', 'business', 'report', 'words', 'expre...</td>\n",
       "      <td>AFOP</td>\n",
       "      <td>2001</td>\n",
       "    </tr>\n",
       "    <tr>\n",
       "      <th>6</th>\n",
       "      <td>['item', 'business', 'report', 'words', 'expre...</td>\n",
       "      <td>AFOP</td>\n",
       "      <td>2002</td>\n",
       "    </tr>\n",
       "    <tr>\n",
       "      <th>7</th>\n",
       "      <td>['item', 'business', 'report', 'words', 'expre...</td>\n",
       "      <td>AFOP</td>\n",
       "      <td>2003</td>\n",
       "    </tr>\n",
       "    <tr>\n",
       "      <th>8</th>\n",
       "      <td>['item', 'business', 'general', 'altera', 'cor...</td>\n",
       "      <td>ALTR</td>\n",
       "      <td>2000</td>\n",
       "    </tr>\n",
       "    <tr>\n",
       "      <th>9</th>\n",
       "      <td>['item', 'business', 'general', 'altera', 'cor...</td>\n",
       "      <td>ALTR</td>\n",
       "      <td>2001</td>\n",
       "    </tr>\n",
       "    <tr>\n",
       "      <th>10</th>\n",
       "      <td>['item', 'business', 'general', 'altera', 'cor...</td>\n",
       "      <td>ALTR</td>\n",
       "      <td>2002</td>\n",
       "    </tr>\n",
       "    <tr>\n",
       "      <th>11</th>\n",
       "      <td>['item', 'business', 'general', 'altera', 'cor...</td>\n",
       "      <td>ALTR</td>\n",
       "      <td>2003</td>\n",
       "    </tr>\n",
       "    <tr>\n",
       "      <th>12</th>\n",
       "      <td>['item', 'business', 'general', 'altera', 'cor...</td>\n",
       "      <td>ALTR</td>\n",
       "      <td>2004</td>\n",
       "    </tr>\n",
       "  </tbody>\n",
       "</table>\n",
       "</div>"
      ],
      "text/plain": [
       "                                           firm_nouns ticker  years\n",
       "0   ['item', 'business', 'company', 'overview', 'a...    ADI   2000\n",
       "1   ['item', 'business', 'company', 'overview', 'w...    ADI   2001\n",
       "2   ['item', 'business', 'company', 'overview', 'w...    ADI   2002\n",
       "3   ['item', 'business', 'company', 'overview', 'w...    ADI   2003\n",
       "4   ['item', 'business', 'company', 'overview', 'w...    ADI   2004\n",
       "5   ['item', 'business', 'report', 'words', 'expre...   AFOP   2001\n",
       "6   ['item', 'business', 'report', 'words', 'expre...   AFOP   2002\n",
       "7   ['item', 'business', 'report', 'words', 'expre...   AFOP   2003\n",
       "8   ['item', 'business', 'general', 'altera', 'cor...   ALTR   2000\n",
       "9   ['item', 'business', 'general', 'altera', 'cor...   ALTR   2001\n",
       "10  ['item', 'business', 'general', 'altera', 'cor...   ALTR   2002\n",
       "11  ['item', 'business', 'general', 'altera', 'cor...   ALTR   2003\n",
       "12  ['item', 'business', 'general', 'altera', 'cor...   ALTR   2004"
      ]
     },
     "execution_count": 9,
     "metadata": {},
     "output_type": "execute_result"
    }
   ],
   "source": [
    "output_df"
   ]
  },
  {
   "cell_type": "code",
   "execution_count": null,
   "metadata": {
    "collapsed": true
   },
   "outputs": [],
   "source": []
  }
 ],
 "metadata": {
  "kernelspec": {
   "display_name": "Python 2",
   "language": "python",
   "name": "python2"
  },
  "language_info": {
   "codemirror_mode": {
    "name": "ipython",
    "version": 2
   },
   "file_extension": ".py",
   "mimetype": "text/x-python",
   "name": "python",
   "nbconvert_exporter": "python",
   "pygments_lexer": "ipython2",
   "version": "2.7.10"
  }
 },
 "nbformat": 4,
 "nbformat_minor": 0
}
