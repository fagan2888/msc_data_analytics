{
 "cells": [
  {
   "cell_type": "code",
   "execution_count": 23,
   "metadata": {
    "collapsed": false
   },
   "outputs": [
    {
     "name": "stdout",
     "output_type": "stream",
     "text": [
      "69\n",
      "65\n"
     ]
    },
    {
     "data": {
      "text/plain": [
       "Index([u'firm', u'receiving_firm', u'herfindahl', u'nb_of_patents'], dtype='object')"
      ]
     },
     "execution_count": 23,
     "metadata": {},
     "output_type": "execute_result"
    }
   ],
   "source": [
    "import csv\n",
    "import numpy as np\n",
    "import pandas as pd\n",
    "import patsy \n",
    "\n",
    "%matplotlib inline\n",
    "\n",
    "# For running regressions and R-type formulas\n",
    "import statsmodels\n",
    "import statsmodels.api as sm\n",
    "# R type regression formulas\n",
    "import statsmodels.formula.api as smf\n",
    "\n",
    "df = pd.read_csv('parsed_data_1b.csv')\n",
    "\n",
    "print len(df)\n",
    "df = df.dropna()\n",
    "df = df[df.herfindahl > 0]\n",
    "print len(df)\n",
    "df.columns"
   ]
  },
  {
   "cell_type": "code",
   "execution_count": 24,
   "metadata": {
    "collapsed": false
   },
   "outputs": [
    {
     "data": {
      "text/html": [
       "<div style=\"max-height:1000px;max-width:1500px;overflow:auto;\">\n",
       "<table border=\"1\" class=\"dataframe\">\n",
       "  <thead>\n",
       "    <tr style=\"text-align: right;\">\n",
       "      <th></th>\n",
       "      <th>firm</th>\n",
       "      <th>receiving_firm</th>\n",
       "      <th>herfindahl</th>\n",
       "      <th>nb_of_patents</th>\n",
       "    </tr>\n",
       "  </thead>\n",
       "  <tbody>\n",
       "    <tr>\n",
       "      <th>0</th>\n",
       "      <td>AAOI</td>\n",
       "      <td>0</td>\n",
       "      <td>0.166667</td>\n",
       "      <td>28</td>\n",
       "    </tr>\n",
       "    <tr>\n",
       "      <th>1</th>\n",
       "      <td>ADI</td>\n",
       "      <td>13</td>\n",
       "      <td>0.111111</td>\n",
       "      <td>607</td>\n",
       "    </tr>\n",
       "    <tr>\n",
       "      <th>2</th>\n",
       "      <td>AFOP</td>\n",
       "      <td>2</td>\n",
       "      <td>0.142857</td>\n",
       "      <td>42</td>\n",
       "    </tr>\n",
       "  </tbody>\n",
       "</table>\n",
       "</div>"
      ],
      "text/plain": [
       "   firm  receiving_firm  herfindahl  nb_of_patents\n",
       "0  AAOI               0    0.166667             28\n",
       "1   ADI              13    0.111111            607\n",
       "2  AFOP               2    0.142857             42"
      ]
     },
     "execution_count": 24,
     "metadata": {},
     "output_type": "execute_result"
    }
   ],
   "source": [
    "df.head(3)"
   ]
  },
  {
   "cell_type": "code",
   "execution_count": 25,
   "metadata": {
    "collapsed": false
   },
   "outputs": [
    {
     "data": {
      "text/html": [
       "<div style=\"max-height:1000px;max-width:1500px;overflow:auto;\">\n",
       "<table border=\"1\" class=\"dataframe\">\n",
       "  <thead>\n",
       "    <tr style=\"text-align: right;\">\n",
       "      <th></th>\n",
       "      <th>count</th>\n",
       "      <th>mean</th>\n",
       "      <th>std</th>\n",
       "      <th>min</th>\n",
       "      <th>25%</th>\n",
       "      <th>50%</th>\n",
       "      <th>75%</th>\n",
       "      <th>max</th>\n",
       "    </tr>\n",
       "  </thead>\n",
       "  <tbody>\n",
       "    <tr>\n",
       "      <th>receiving_firm</th>\n",
       "      <td>65</td>\n",
       "      <td>6.753846</td>\n",
       "      <td>12.574815</td>\n",
       "      <td>0.000000</td>\n",
       "      <td>0.000000</td>\n",
       "      <td>2.000</td>\n",
       "      <td>7.0</td>\n",
       "      <td>70</td>\n",
       "    </tr>\n",
       "    <tr>\n",
       "      <th>herfindahl</th>\n",
       "      <td>65</td>\n",
       "      <td>0.196392</td>\n",
       "      <td>0.152001</td>\n",
       "      <td>0.111111</td>\n",
       "      <td>0.111111</td>\n",
       "      <td>0.125</td>\n",
       "      <td>0.2</td>\n",
       "      <td>1</td>\n",
       "    </tr>\n",
       "    <tr>\n",
       "      <th>nb_of_patents</th>\n",
       "      <td>65</td>\n",
       "      <td>536.061538</td>\n",
       "      <td>1541.417194</td>\n",
       "      <td>1.000000</td>\n",
       "      <td>19.000000</td>\n",
       "      <td>49.000</td>\n",
       "      <td>194.0</td>\n",
       "      <td>9763</td>\n",
       "    </tr>\n",
       "  </tbody>\n",
       "</table>\n",
       "</div>"
      ],
      "text/plain": [
       "                count        mean          std       min        25%     50%  \\\n",
       "receiving_firm     65    6.753846    12.574815  0.000000   0.000000   2.000   \n",
       "herfindahl         65    0.196392     0.152001  0.111111   0.111111   0.125   \n",
       "nb_of_patents      65  536.061538  1541.417194  1.000000  19.000000  49.000   \n",
       "\n",
       "                  75%   max  \n",
       "receiving_firm    7.0    70  \n",
       "herfindahl        0.2     1  \n",
       "nb_of_patents   194.0  9763  "
      ]
     },
     "execution_count": 25,
     "metadata": {},
     "output_type": "execute_result"
    }
   ],
   "source": [
    "df.describe().T"
   ]
  },
  {
   "cell_type": "code",
   "execution_count": 26,
   "metadata": {
    "collapsed": false
   },
   "outputs": [
    {
     "name": "stdout",
     "output_type": "stream",
     "text": [
      "Optimization terminated successfully.\n",
      "         Current function value: 5.755722\n",
      "         Iterations 13\n",
      "                          Poisson Regression Results                          \n",
      "==============================================================================\n",
      "Dep. Variable:         receiving_firm   No. Observations:                   65\n",
      "Model:                        Poisson   Df Residuals:                       62\n",
      "Method:                           MLE   Df Model:                            2\n",
      "Date:                Mon, 22 Feb 2016   Pseudo R-squ.:                  0.3303\n",
      "Time:                        15:37:13   Log-Likelihood:                -374.12\n",
      "converged:                       True   LL-Null:                       -558.68\n",
      "                                        LLR p-value:                 7.060e-81\n",
      "=========================================================================================\n",
      "                            coef    std err          z      P>|z|      [95.0% Conf. Int.]\n",
      "-----------------------------------------------------------------------------------------\n",
      "Intercept                 6.8053      0.440     15.483      0.000         5.944     7.667\n",
      "herfindahl              -42.3138      4.191    -10.096      0.000       -50.528   -34.099\n",
      "np.square(herfindahl)    35.0821      4.102      8.552      0.000        27.042    43.122\n",
      "=========================================================================================\n"
     ]
    }
   ],
   "source": [
    "# Design matrices (endog & exog)\n",
    "# http://statsmodels.sourceforge.net/devel/gettingstarted.html\n",
    "y, X = patsy.dmatrices('receiving_firm ~ herfindahl + np.square(herfindahl)', data=df, return_type='dataframe')\n",
    "\n",
    "#y[:3]\n",
    "#X[:3]\n",
    "\n",
    "mod = sm.Poisson(y, X)    # Describe model\n",
    "res = mod.fit()       # Fit model\n",
    "print res.summary()   # Summarize model"
   ]
  },
  {
   "cell_type": "code",
   "execution_count": null,
   "metadata": {
    "collapsed": false
   },
   "outputs": [],
   "source": [
    "# Logit Model\n",
    "y, X = patsy.dmatrices('receiving_firm ~ herfindahl + np.square(herfindahl)', data=df, return_type='dataframe')\n",
    "\n",
    "logit_mod = sm.Logit(y, X)    # Describe model\n",
    "logit_res = logit_mod.fit()       # Fit model\n",
    "print logit_res.summary()   # Summarize model"
   ]
  },
  {
   "cell_type": "code",
   "execution_count": null,
   "metadata": {
    "collapsed": false
   },
   "outputs": [],
   "source": [
    "#res.params"
   ]
  },
  {
   "cell_type": "code",
   "execution_count": null,
   "metadata": {
    "collapsed": false
   },
   "outputs": [],
   "source": [
    "#sm.stats.linear_rainbow(res)"
   ]
  },
  {
   "cell_type": "code",
   "execution_count": 27,
   "metadata": {
    "collapsed": false
   },
   "outputs": [
    {
     "data": {
      "image/png": "[encoded data removed]",
      "text/plain": [
       "<matplotlib.figure.Figure at 0x11360e450>"
      ]
     },
     "execution_count": 27,
     "metadata": {},
     "output_type": "execute_result"
    },
    {
     "data": {
      "image/png": "[encoded data removed]",
      "text/plain": [
       "<matplotlib.figure.Figure at 0x11360e450>"
      ]
     },
     "metadata": {},
     "output_type": "display_data"
    }
   ],
   "source": [
    "sm.graphics.plot_partregress('receiving_firm', 'herfindahl', [], data=df, obs_labels=False)"
   ]
  },
  {
   "cell_type": "code",
   "execution_count": null,
   "metadata": {
    "collapsed": true
   },
   "outputs": [],
   "source": [
    "test_df1 = pd.DataFrame({'A': [1, 2, 3], 'B': ['a', 'b', 'c'], 'C': ['@', '$', '&'] })\n",
    "test_df = pd.DataFrame({'A': [1, 2, 3], 'B': ['a', 'b', 'c'], 'C': [True, True, False] })"
   ]
  },
  {
   "cell_type": "code",
   "execution_count": null,
   "metadata": {
    "collapsed": false
   },
   "outputs": [],
   "source": [
    "type(test_df['C'][0])"
   ]
  },
  {
   "cell_type": "code",
   "execution_count": null,
   "metadata": {
    "collapsed": true
   },
   "outputs": [],
   "source": []
  }
 ],
 "metadata": {
  "kernelspec": {
   "display_name": "Python 2",
   "language": "python",
   "name": "python2"
  },
  "language_info": {
   "codemirror_mode": {
    "name": "ipython",
    "version": 2
   },
   "file_extension": ".py",
   "mimetype": "text/x-python",
   "name": "python",
   "nbconvert_exporter": "python",
   "pygments_lexer": "ipython2",
   "version": "2.7.10"
  }
 },
 "nbformat": 4,
 "nbformat_minor": 0
}
