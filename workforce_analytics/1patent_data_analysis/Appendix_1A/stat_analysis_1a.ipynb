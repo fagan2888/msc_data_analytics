{
 "cells": [
  {
   "cell_type": "code",
   "execution_count": 34,
   "metadata": {
    "collapsed": false
   },
   "outputs": [
    {
     "name": "stdout",
     "output_type": "stream",
     "text": [
      "22510\n",
      "4105\n"
     ]
    }
   ],
   "source": [
    "import csv\n",
    "import numpy as np\n",
    "import pandas as pd\n",
    "import patsy \n",
    "\n",
    "%matplotlib inline\n",
    "\n",
    "# For running regressions and R-type formulas\n",
    "import statsmodels\n",
    "import statsmodels.api as sm\n",
    "# R type regression formulas\n",
    "import statsmodels.formula.api as smf\n",
    "\n",
    "df = pd.read_csv('parsed_data_1a.csv')\n",
    "\n",
    "print len(df)\n",
    "df = df.dropna()\n",
    "#df = df[df['avg_similarity'] > 0.01]\n",
    "print len(df)"
   ]
  },
  {
   "cell_type": "code",
   "execution_count": 35,
   "metadata": {
    "collapsed": false
   },
   "outputs": [
    {
     "name": "stdout",
     "output_type": "stream",
     "text": [
      "3128\n"
     ]
    }
   ],
   "source": [
    "df.performance = df.performance.apply(lambda x: np.log(x))\n",
    "df = df[df['performance'] > 0]\n",
    "#df = df[df['avg_similarity'] > 0]\n",
    "#df = df.dropna()\n",
    "print len(df)\n",
    "#df.performance"
   ]
  },
  {
   "cell_type": "code",
   "execution_count": 17,
   "metadata": {
    "collapsed": false
   },
   "outputs": [
    {
     "data": {
      "text/html": [
       "<div style=\"max-height:1000px;max-width:1500px;overflow:auto;\">\n",
       "<table border=\"1\" class=\"dataframe\">\n",
       "  <thead>\n",
       "    <tr style=\"text-align: right;\">\n",
       "      <th></th>\n",
       "      <th>pnum</th>\n",
       "      <th>firm</th>\n",
       "      <th>performance</th>\n",
       "      <th>inv_num</th>\n",
       "      <th>avg_similarity</th>\n",
       "    </tr>\n",
       "  </thead>\n",
       "  <tbody>\n",
       "    <tr>\n",
       "      <th>0</th>\n",
       "      <td>6417100</td>\n",
       "      <td>AMD</td>\n",
       "      <td>0.693147</td>\n",
       "      <td>42</td>\n",
       "      <td>0</td>\n",
       "    </tr>\n",
       "    <tr>\n",
       "      <th>4</th>\n",
       "      <td>6399902</td>\n",
       "      <td>AMD</td>\n",
       "      <td>0.693147</td>\n",
       "      <td>28</td>\n",
       "      <td>0</td>\n",
       "    </tr>\n",
       "    <tr>\n",
       "      <th>5</th>\n",
       "      <td>6399493</td>\n",
       "      <td>AMD</td>\n",
       "      <td>1.098612</td>\n",
       "      <td>42</td>\n",
       "      <td>0</td>\n",
       "    </tr>\n",
       "  </tbody>\n",
       "</table>\n",
       "</div>"
      ],
      "text/plain": [
       "      pnum firm  performance  inv_num  avg_similarity\n",
       "0  6417100  AMD     0.693147       42               0\n",
       "4  6399902  AMD     0.693147       28               0\n",
       "5  6399493  AMD     1.098612       42               0"
      ]
     },
     "execution_count": 17,
     "metadata": {},
     "output_type": "execute_result"
    }
   ],
   "source": [
    "df.head(3)"
   ]
  },
  {
   "cell_type": "code",
   "execution_count": 36,
   "metadata": {
    "collapsed": false
   },
   "outputs": [
    {
     "data": {
      "text/html": [
       "<div style=\"max-height:1000px;max-width:1500px;overflow:auto;\">\n",
       "<table border=\"1\" class=\"dataframe\">\n",
       "  <thead>\n",
       "    <tr style=\"text-align: right;\">\n",
       "      <th></th>\n",
       "      <th>count</th>\n",
       "      <th>mean</th>\n",
       "      <th>std</th>\n",
       "      <th>min</th>\n",
       "      <th>25%</th>\n",
       "      <th>50%</th>\n",
       "      <th>75%</th>\n",
       "      <th>max</th>\n",
       "    </tr>\n",
       "  </thead>\n",
       "  <tbody>\n",
       "    <tr>\n",
       "      <th>pnum</th>\n",
       "      <td>3128</td>\n",
       "      <td>6417289.090473</td>\n",
       "      <td>257190.119127</td>\n",
       "      <td>6010957.000000</td>\n",
       "      <td>6196551.000000</td>\n",
       "      <td>6393516.50000</td>\n",
       "      <td>6617200.000000</td>\n",
       "      <td>6981119.000000</td>\n",
       "    </tr>\n",
       "    <tr>\n",
       "      <th>performance</th>\n",
       "      <td>3128</td>\n",
       "      <td>1.978434</td>\n",
       "      <td>0.895540</td>\n",
       "      <td>0.693147</td>\n",
       "      <td>1.386294</td>\n",
       "      <td>1.94591</td>\n",
       "      <td>2.564949</td>\n",
       "      <td>4.852030</td>\n",
       "    </tr>\n",
       "    <tr>\n",
       "      <th>avg_similarity</th>\n",
       "      <td>3128</td>\n",
       "      <td>0.000888</td>\n",
       "      <td>0.019523</td>\n",
       "      <td>0.000000</td>\n",
       "      <td>0.000000</td>\n",
       "      <td>0.00000</td>\n",
       "      <td>0.000000</td>\n",
       "      <td>0.666667</td>\n",
       "    </tr>\n",
       "  </tbody>\n",
       "</table>\n",
       "</div>"
      ],
      "text/plain": [
       "                count            mean            std             min  \\\n",
       "pnum             3128  6417289.090473  257190.119127  6010957.000000   \n",
       "performance      3128        1.978434       0.895540        0.693147   \n",
       "avg_similarity   3128        0.000888       0.019523        0.000000   \n",
       "\n",
       "                           25%            50%             75%             max  \n",
       "pnum            6196551.000000  6393516.50000  6617200.000000  6981119.000000  \n",
       "performance           1.386294        1.94591        2.564949        4.852030  \n",
       "avg_similarity        0.000000        0.00000        0.000000        0.666667  "
      ]
     },
     "execution_count": 36,
     "metadata": {},
     "output_type": "execute_result"
    }
   ],
   "source": [
    "df.describe().T"
   ]
  },
  {
   "cell_type": "code",
   "execution_count": 24,
   "metadata": {
    "collapsed": false
   },
   "outputs": [
    {
     "name": "stdout",
     "output_type": "stream",
     "text": [
      "                            OLS Regression Results                            \n",
      "==============================================================================\n",
      "Dep. Variable:            performance   R-squared:                       0.001\n",
      "Model:                            OLS   Adj. R-squared:                  0.001\n",
      "Method:                 Least Squares   F-statistic:                     1.940\n",
      "Date:                Mon, 22 Feb 2016   Prob (F-statistic):              0.144\n",
      "Time:                        15:23:42   Log-Likelihood:                -4090.9\n",
      "No. Observations:                3128   AIC:                             8188.\n",
      "Df Residuals:                    3125   BIC:                             8206.\n",
      "Df Model:                           2                                         \n",
      "Covariance Type:            nonrobust                                         \n",
      "=============================================================================================\n",
      "                                coef    std err          t      P>|t|      [95.0% Conf. Int.]\n",
      "---------------------------------------------------------------------------------------------\n",
      "Intercept                     1.9798      0.016    123.503      0.000         1.948     2.011\n",
      "avg_similarity               -1.2067      2.438     -0.495      0.621        -5.987     3.574\n",
      "np.square(avg_similarity)    -0.7287      4.161     -0.175      0.861        -8.887     7.430\n",
      "==============================================================================\n",
      "Omnibus:                      119.612   Durbin-Watson:                   1.765\n",
      "Prob(Omnibus):                  0.000   Jarque-Bera (JB):              111.757\n",
      "Skew:                           0.412   Prob(JB):                     5.40e-25\n",
      "Kurtosis:                       2.579   Cond. No.                         298.\n",
      "==============================================================================\n",
      "\n",
      "Warnings:\n",
      "[1] Standard Errors assume that the covariance matrix of the errors is correctly specified.\n"
     ]
    }
   ],
   "source": [
    "# Design matrices (endog & exog)\n",
    "# http://statsmodels.sourceforge.net/devel/gettingstarted.html\n",
    "y, X = patsy.dmatrices('performance ~ avg_similarity + np.square(avg_similarity)', data=df, return_type='dataframe')\n",
    "#y, X = patsy.dmatrices('performance ~ avg_similarity + np.square(avg_similarity)', data=df, return_type='dataframe')\n",
    "\n",
    "#y[:3]\n",
    "#X[:3]\n",
    "\n",
    "mod = sm.OLS(y, X)    # Describe model\n",
    "res = mod.fit()       # Fit model\n",
    "print res.summary()   # Summarize model"
   ]
  },
  {
   "cell_type": "code",
   "execution_count": 30,
   "metadata": {
    "collapsed": false
   },
   "outputs": [],
   "source": [
    "#res.params"
   ]
  },
  {
   "cell_type": "code",
   "execution_count": 31,
   "metadata": {
    "collapsed": false
   },
   "outputs": [
    {
     "data": {
      "text/plain": [
       "(0.90865514832327465, 0.97081288160738544)"
      ]
     },
     "execution_count": 31,
     "metadata": {},
     "output_type": "execute_result"
    }
   ],
   "source": [
    "sm.stats.linear_rainbow(res)"
   ]
  },
  {
   "cell_type": "code",
   "execution_count": 32,
   "metadata": {
    "collapsed": false
   },
   "outputs": [
    {
     "data": {
      "image/png": "[encoded data removed]",
      "text/plain": [
       "<matplotlib.figure.Figure at 0x107a42690>"
      ]
     },
     "execution_count": 32,
     "metadata": {},
     "output_type": "execute_result"
    },
    {
     "data": {
      "image/png": "[encoded data removed]",
      "text/plain": [
       "<matplotlib.figure.Figure at 0x107a42690>"
      ]
     },
     "metadata": {},
     "output_type": "display_data"
    }
   ],
   "source": [
    "sm.graphics.plot_partregress('np.log(performance)', 'avg_similarity', [], data=df, obs_labels=False)"
   ]
  },
  {
   "cell_type": "code",
   "execution_count": null,
   "metadata": {
    "collapsed": true
   },
   "outputs": [],
   "source": []
  }
 ],
 "metadata": {
  "kernelspec": {
   "display_name": "Python 2",
   "language": "python",
   "name": "python2"
  },
  "language_info": {
   "codemirror_mode": {
    "name": "ipython",
    "version": 2
   },
   "file_extension": ".py",
   "mimetype": "text/x-python",
   "name": "python",
   "nbconvert_exporter": "python",
   "pygments_lexer": "ipython2",
   "version": "2.7.10"
  }
 },
 "nbformat": 4,
 "nbformat_minor": 0
}
