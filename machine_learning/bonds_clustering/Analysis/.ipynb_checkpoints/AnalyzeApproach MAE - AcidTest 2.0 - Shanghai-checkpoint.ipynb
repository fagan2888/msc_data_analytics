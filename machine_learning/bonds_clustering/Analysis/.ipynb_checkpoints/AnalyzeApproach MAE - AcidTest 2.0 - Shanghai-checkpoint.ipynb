{
 "cells": [
  {
   "cell_type": "code",
   "execution_count": 70,
   "metadata": {
    "collapsed": false
   },
   "outputs": [],
   "source": [
    "import pandas as pd\n",
    "import matplotlib\n",
    "import numpy as np\n",
    "import matplotlib.pylab as pylab\n",
    "import matplotlib.pyplot as plt\n",
    "%matplotlib inline\n",
    "pylab.rcParams['figure.figsize'] = (16.0, 12.0)\n",
    "results = pd.read_csv('ApproachStats.csv')"
   ]
  },
  {
   "cell_type": "code",
   "execution_count": 76,
   "metadata": {
    "collapsed": false
   },
   "outputs": [
    {
     "data": {
      "text/html": [
       "<div style=\"max-height:1000px;max-width:1500px;overflow:auto;\">\n",
       "<table border=\"1\" class=\"dataframe\">\n",
       "  <thead>\n",
       "    <tr style=\"text-align: right;\">\n",
       "      <th>user_id</th>\n",
       "      <th>101</th>\n",
       "      <th>102</th>\n",
       "      <th>103</th>\n",
       "      <th>104</th>\n",
       "      <th>105</th>\n",
       "      <th>106</th>\n",
       "      <th>108</th>\n",
       "      <th>110</th>\n",
       "      <th>All</th>\n",
       "    </tr>\n",
       "    <tr>\n",
       "      <th>target_layer</th>\n",
       "      <th></th>\n",
       "      <th></th>\n",
       "      <th></th>\n",
       "      <th></th>\n",
       "      <th></th>\n",
       "      <th></th>\n",
       "      <th></th>\n",
       "      <th></th>\n",
       "      <th></th>\n",
       "    </tr>\n",
       "  </thead>\n",
       "  <tbody>\n",
       "    <tr>\n",
       "      <th>0</th>\n",
       "      <td>45</td>\n",
       "      <td>45</td>\n",
       "      <td>45</td>\n",
       "      <td>45</td>\n",
       "      <td>45</td>\n",
       "      <td>45</td>\n",
       "      <td>45</td>\n",
       "      <td>45</td>\n",
       "      <td>360</td>\n",
       "    </tr>\n",
       "    <tr>\n",
       "      <th>1</th>\n",
       "      <td>40</td>\n",
       "      <td>40</td>\n",
       "      <td>40</td>\n",
       "      <td>40</td>\n",
       "      <td>40</td>\n",
       "      <td>40</td>\n",
       "      <td>40</td>\n",
       "      <td>40</td>\n",
       "      <td>320</td>\n",
       "    </tr>\n",
       "    <tr>\n",
       "      <th>All</th>\n",
       "      <td>85</td>\n",
       "      <td>85</td>\n",
       "      <td>85</td>\n",
       "      <td>85</td>\n",
       "      <td>85</td>\n",
       "      <td>85</td>\n",
       "      <td>85</td>\n",
       "      <td>85</td>\n",
       "      <td>680</td>\n",
       "    </tr>\n",
       "  </tbody>\n",
       "</table>\n",
       "</div>"
      ],
      "text/plain": [
       "user_id       101  102  103  104  105  106  108  110  All\n",
       "target_layer                                             \n",
       "0              45   45   45   45   45   45   45   45  360\n",
       "1              40   40   40   40   40   40   40   40  320\n",
       "All            85   85   85   85   85   85   85   85  680"
      ]
     },
     "execution_count": 76,
     "metadata": {},
     "output_type": "execute_result"
    }
   ],
   "source": [
    "# Validating data from user test\n",
    "results.pivot_table(index=['target_layer'], values='total_transitions', columns='user_id', aggfunc='count', margins=True)"
   ]
  },
  {
   "cell_type": "code",
   "execution_count": 74,
   "metadata": {
    "collapsed": false
   },
   "outputs": [],
   "source": [
    "#Helper function for percentiles\n",
    "def p10(col):\n",
    "    return np.percentile(col, 10)\n",
    "def p50(col):\n",
    "    return np.percentile(col, 50)\n",
    "def p90(col):\n",
    "    return np.percentile(col, 90)\n",
    "def p1(col):\n",
    "    return np.percentile(col, 1)\n",
    "def p99(col):\n",
    "    return np.percentile(col, 99)\n",
    "my_agg_func = [np.min, p1, p10, p50, np.mean, p90, p99, np.max, len]"
   ]
  },
  {
   "cell_type": "markdown",
   "metadata": {},
   "source": [
    "# ACTION HYPOTHESIS A1"
   ]
  },
  {
   "cell_type": "markdown",
   "metadata": {},
   "source": [
    "#####Users are able to use a spatial indicator which settles in a discrete layer (vs staying in-between layers) when the hand is not moving (compared to a position indicator directly tied to the position of the hand)"
   ]
  },
  {
   "cell_type": "markdown",
   "metadata": {},
   "source": [
    "##Tested by comparing results from ROC and D with indicator Circle vs Fade"
   ]
  },
  {
   "cell_type": "code",
   "execution_count": 134,
   "metadata": {
    "collapsed": true
   },
   "outputs": [],
   "source": [
    "# The participants had a harder time controlling when the device was set to be controlled with ROC \n",
    "# compared to DTP, regardless of the indicator type."
   ]
  },
  {
   "cell_type": "code",
   "execution_count": 133,
   "metadata": {
    "collapsed": true
   },
   "outputs": [],
   "source": [
    "# Indicator: Circle\n",
    "#      - Participants made more errors with ROC than with DTP. \n",
    "#             * Nearly 60% more time was spent outside of the target layer.\n",
    "#      - Participants required more time to complete the tests with ROC.\n",
    "#             * Approx. 20% more time was needed."
   ]
  },
  {
   "cell_type": "code",
   "execution_count": 132,
   "metadata": {
    "collapsed": true
   },
   "outputs": [],
   "source": [
    "# Indicator: Fade\n",
    "#      - Participants made more errors with ROC than with DTP. \n",
    "#             * Nearly twice as much time was spent outside of the target layer.\n",
    "#      - Participants required more time to complete the tests with ROC.\n",
    "#             * Approx. 30% more time was needed.\n"
   ]
  },
  {
   "cell_type": "markdown",
   "metadata": {},
   "source": [
    "####Percentile distribution: total time to complete test"
   ]
  },
  {
   "cell_type": "code",
   "execution_count": 45,
   "metadata": {
    "collapsed": false
   },
   "outputs": [
    {
     "data": {
      "text/html": [
       "<div style=\"max-height:1000px;max-width:1500px;overflow:auto;\">\n",
       "<table border=\"1\" class=\"dataframe\">\n",
       "  <thead>\n",
       "    <tr style=\"text-align: right;\">\n",
       "      <th></th>\n",
       "      <th></th>\n",
       "      <th>amin</th>\n",
       "      <th>p1</th>\n",
       "      <th>p10</th>\n",
       "      <th>p50</th>\n",
       "      <th>mean</th>\n",
       "      <th>p90</th>\n",
       "      <th>p99</th>\n",
       "      <th>amax</th>\n",
       "      <th>len</th>\n",
       "    </tr>\n",
       "    <tr>\n",
       "      <th>indicator_type</th>\n",
       "      <th>test_type</th>\n",
       "      <th></th>\n",
       "      <th></th>\n",
       "      <th></th>\n",
       "      <th></th>\n",
       "      <th></th>\n",
       "      <th></th>\n",
       "      <th></th>\n",
       "      <th></th>\n",
       "      <th></th>\n",
       "    </tr>\n",
       "  </thead>\n",
       "  <tbody>\n",
       "    <tr>\n",
       "      <th rowspan=\"2\" valign=\"top\">Circle</th>\n",
       "      <th>DTP</th>\n",
       "      <td>2116</td>\n",
       "      <td>2164</td>\n",
       "      <td>2381</td>\n",
       "      <td>3111</td>\n",
       "      <td>3924</td>\n",
       "      <td>5885</td>\n",
       "      <td>13965</td>\n",
       "      <td>32432</td>\n",
       "      <td>136</td>\n",
       "    </tr>\n",
       "    <tr>\n",
       "      <th>ROC</th>\n",
       "      <td>2185</td>\n",
       "      <td>2330</td>\n",
       "      <td>2856</td>\n",
       "      <td>3793</td>\n",
       "      <td>6275</td>\n",
       "      <td>11781</td>\n",
       "      <td>27914</td>\n",
       "      <td>57585</td>\n",
       "      <td>136</td>\n",
       "    </tr>\n",
       "    <tr>\n",
       "      <th rowspan=\"2\" valign=\"top\">Fade</th>\n",
       "      <th>DTP</th>\n",
       "      <td>2049</td>\n",
       "      <td>2100</td>\n",
       "      <td>2374</td>\n",
       "      <td>2951</td>\n",
       "      <td>3863</td>\n",
       "      <td>5650</td>\n",
       "      <td>22041</td>\n",
       "      <td>29517</td>\n",
       "      <td>136</td>\n",
       "    </tr>\n",
       "    <tr>\n",
       "      <th>ROC</th>\n",
       "      <td>2320</td>\n",
       "      <td>2380</td>\n",
       "      <td>2783</td>\n",
       "      <td>3772</td>\n",
       "      <td>5972</td>\n",
       "      <td>10888</td>\n",
       "      <td>33392</td>\n",
       "      <td>51519</td>\n",
       "      <td>136</td>\n",
       "    </tr>\n",
       "    <tr>\n",
       "      <th>None</th>\n",
       "      <th>DTP</th>\n",
       "      <td>2033</td>\n",
       "      <td>2149</td>\n",
       "      <td>2499</td>\n",
       "      <td>2969</td>\n",
       "      <td>4187</td>\n",
       "      <td>6905</td>\n",
       "      <td>16993</td>\n",
       "      <td>17852</td>\n",
       "      <td>136</td>\n",
       "    </tr>\n",
       "    <tr>\n",
       "      <th>All</th>\n",
       "      <th></th>\n",
       "      <td>2033</td>\n",
       "      <td>2127</td>\n",
       "      <td>2498</td>\n",
       "      <td>3230</td>\n",
       "      <td>4844</td>\n",
       "      <td>7895</td>\n",
       "      <td>27512</td>\n",
       "      <td>57585</td>\n",
       "      <td>680</td>\n",
       "    </tr>\n",
       "  </tbody>\n",
       "</table>\n",
       "</div>"
      ],
      "text/plain": [
       "                          amin    p1   p10   p50  mean    p90    p99   amax  \\\n",
       "indicator_type test_type                                                      \n",
       "Circle         DTP        2116  2164  2381  3111  3924   5885  13965  32432   \n",
       "               ROC        2185  2330  2856  3793  6275  11781  27914  57585   \n",
       "Fade           DTP        2049  2100  2374  2951  3863   5650  22041  29517   \n",
       "               ROC        2320  2380  2783  3772  5972  10888  33392  51519   \n",
       "None           DTP        2033  2149  2499  2969  4187   6905  16993  17852   \n",
       "All                       2033  2127  2498  3230  4844   7895  27512  57585   \n",
       "\n",
       "                          len  \n",
       "indicator_type test_type       \n",
       "Circle         DTP        136  \n",
       "               ROC        136  \n",
       "Fade           DTP        136  \n",
       "               ROC        136  \n",
       "None           DTP        136  \n",
       "All                       680  "
      ]
     },
     "execution_count": 45,
     "metadata": {},
     "output_type": "execute_result"
    }
   ],
   "source": [
    "np.round(results.pivot_table(index=['indicator_type','test_type'],\n",
    "                    values='total_time',\n",
    "                    aggfunc=my_agg_func, \n",
    "                    margins=True))"
   ]
  },
  {
   "cell_type": "markdown",
   "metadata": {},
   "source": [
    "#### Percentile distribution: total time spent outside the target layer"
   ]
  },
  {
   "cell_type": "code",
   "execution_count": 29,
   "metadata": {
    "collapsed": false
   },
   "outputs": [
    {
     "data": {
      "text/html": [
       "<div style=\"max-height:1000px;max-width:1500px;overflow:auto;\">\n",
       "<table border=\"1\" class=\"dataframe\">\n",
       "  <thead>\n",
       "    <tr style=\"text-align: right;\">\n",
       "      <th></th>\n",
       "      <th></th>\n",
       "      <th>amin</th>\n",
       "      <th>p1</th>\n",
       "      <th>p10</th>\n",
       "      <th>p50</th>\n",
       "      <th>mean</th>\n",
       "      <th>p90</th>\n",
       "      <th>p99</th>\n",
       "      <th>amax</th>\n",
       "      <th>len</th>\n",
       "    </tr>\n",
       "    <tr>\n",
       "      <th>indicator_type</th>\n",
       "      <th>test_type</th>\n",
       "      <th></th>\n",
       "      <th></th>\n",
       "      <th></th>\n",
       "      <th></th>\n",
       "      <th></th>\n",
       "      <th></th>\n",
       "      <th></th>\n",
       "      <th></th>\n",
       "      <th></th>\n",
       "    </tr>\n",
       "  </thead>\n",
       "  <tbody>\n",
       "    <tr>\n",
       "      <th rowspan=\"2\" valign=\"top\">Circle</th>\n",
       "      <th>DTP</th>\n",
       "      <td>116</td>\n",
       "      <td>163</td>\n",
       "      <td>368</td>\n",
       "      <td>1098</td>\n",
       "      <td>1625</td>\n",
       "      <td>3050</td>\n",
       "      <td>8857</td>\n",
       "      <td>19146</td>\n",
       "      <td>136</td>\n",
       "    </tr>\n",
       "    <tr>\n",
       "      <th>ROC</th>\n",
       "      <td>181</td>\n",
       "      <td>316</td>\n",
       "      <td>852</td>\n",
       "      <td>1747</td>\n",
       "      <td>4106</td>\n",
       "      <td>8850</td>\n",
       "      <td>25787</td>\n",
       "      <td>55583</td>\n",
       "      <td>136</td>\n",
       "    </tr>\n",
       "    <tr>\n",
       "      <th rowspan=\"2\" valign=\"top\">Fade</th>\n",
       "      <th>DTP</th>\n",
       "      <td>49</td>\n",
       "      <td>88</td>\n",
       "      <td>372</td>\n",
       "      <td>932</td>\n",
       "      <td>1698</td>\n",
       "      <td>3087</td>\n",
       "      <td>18334</td>\n",
       "      <td>25900</td>\n",
       "      <td>136</td>\n",
       "    </tr>\n",
       "    <tr>\n",
       "      <th>ROC</th>\n",
       "      <td>316</td>\n",
       "      <td>370</td>\n",
       "      <td>782</td>\n",
       "      <td>1771</td>\n",
       "      <td>3956</td>\n",
       "      <td>8881</td>\n",
       "      <td>31381</td>\n",
       "      <td>49517</td>\n",
       "      <td>136</td>\n",
       "    </tr>\n",
       "    <tr>\n",
       "      <th>None</th>\n",
       "      <th>DTP</th>\n",
       "      <td>27</td>\n",
       "      <td>138</td>\n",
       "      <td>495</td>\n",
       "      <td>966</td>\n",
       "      <td>1908</td>\n",
       "      <td>3737</td>\n",
       "      <td>14099</td>\n",
       "      <td>15848</td>\n",
       "      <td>136</td>\n",
       "    </tr>\n",
       "    <tr>\n",
       "      <th>All</th>\n",
       "      <th></th>\n",
       "      <td>27</td>\n",
       "      <td>116</td>\n",
       "      <td>493</td>\n",
       "      <td>1217</td>\n",
       "      <td>2659</td>\n",
       "      <td>5468</td>\n",
       "      <td>23597</td>\n",
       "      <td>55583</td>\n",
       "      <td>680</td>\n",
       "    </tr>\n",
       "  </tbody>\n",
       "</table>\n",
       "</div>"
      ],
      "text/plain": [
       "                          amin   p1  p10   p50  mean   p90    p99   amax  len\n",
       "indicator_type test_type                                                     \n",
       "Circle         DTP         116  163  368  1098  1625  3050   8857  19146  136\n",
       "               ROC         181  316  852  1747  4106  8850  25787  55583  136\n",
       "Fade           DTP          49   88  372   932  1698  3087  18334  25900  136\n",
       "               ROC         316  370  782  1771  3956  8881  31381  49517  136\n",
       "None           DTP          27  138  495   966  1908  3737  14099  15848  136\n",
       "All                         27  116  493  1217  2659  5468  23597  55583  680"
      ]
     },
     "execution_count": 29,
     "metadata": {},
     "output_type": "execute_result"
    }
   ],
   "source": [
    "np.round(results.pivot_table(index=['indicator_type','test_type'],\n",
    "                    values='total_time_in_non_targets',\n",
    "                    aggfunc=my_agg_func, \n",
    "                    margins=True))"
   ]
  },
  {
   "cell_type": "markdown",
   "metadata": {},
   "source": [
    "#### Total time of ROC and DTP using Circle indicator"
   ]
  },
  {
   "cell_type": "code",
   "execution_count": 31,
   "metadata": {
    "collapsed": false
   },
   "outputs": [
    {
     "data": {
      "image/png": "[encoded data removed]",
      "text/plain": [
       "<matplotlib.figure.Figure at 0x1144d36d0>"
      ]
     },
     "metadata": {},
     "output_type": "display_data"
    }
   ],
   "source": [
    "bp = results[results['indicator_type'] == 'Circle'].boxplot(column=['total_time'], by=['test_type'], figsize=(8, 5), vert=False)"
   ]
  },
  {
   "cell_type": "markdown",
   "metadata": {},
   "source": [
    "####Total time of ROC and DTP using Fade indicator"
   ]
  },
  {
   "cell_type": "code",
   "execution_count": 58,
   "metadata": {
    "collapsed": false
   },
   "outputs": [
    {
     "data": {
      "image/png": "[encoded data removed]",
      "text/plain": [
       "<matplotlib.figure.Figure at 0x113d3b0d0>"
      ]
     },
     "metadata": {},
     "output_type": "display_data"
    }
   ],
   "source": [
    "bp = results[results['indicator_type'] == 'Fade'].boxplot(column=['total_time'], by=['test_type'], figsize=(8, 5), vert=False)"
   ]
  },
  {
   "cell_type": "markdown",
   "metadata": {},
   "source": [
    "# "
   ]
  },
  {
   "cell_type": "markdown",
   "metadata": {},
   "source": [
    "# ACTION HYPOTHESIS A2 (UNTESTED)"
   ]
  },
  {
   "cell_type": "markdown",
   "metadata": {},
   "source": [
    "#### Users prefer when the position indicator changes at a rate proportional to the distance to the layer they want to reach.\n",
    "#### (this is untested because we only provide one mechanism -- alternative would be a fixed-time transition)"
   ]
  },
  {
   "cell_type": "markdown",
   "metadata": {},
   "source": [
    "# "
   ]
  },
  {
   "cell_type": "markdown",
   "metadata": {},
   "source": [
    "# INFORMATION HYPOTHESIS"
   ]
  },
  {
   "cell_type": "markdown",
   "metadata": {},
   "source": [
    "##### (I1) An analogue spatial indicator of position helps users settle their hand in a discrete layer\n",
    "#### (I2) An analogue intensity indicator of position is almost as good (but not as good) as an analogue spatial indicator of position at helping users settle their hand in a discrete layer"
   ]
  },
  {
   "cell_type": "markdown",
   "metadata": {},
   "source": [
    "### (I1) Compare results from Circle and None using DTP\n",
    "### (I2) Compare results from Circle and Fade using DTP"
   ]
  },
  {
   "cell_type": "code",
   "execution_count": 131,
   "metadata": {
    "collapsed": true
   },
   "outputs": [],
   "source": [
    "# (I1) Unlike what was expected the absence of an indicator (None) gave very slight improved results \n",
    "#compared to the Circle indicator.\n",
    "#     - The median participant was 5% faster with None\n",
    "#     - The median participant spent 15% less time outside the target layer\n",
    "\n",
    "# (I2) The absence of an indicator (None) yielded approximately the same results as the Fade indicator for the \n",
    "# median participant."
   ]
  },
  {
   "cell_type": "markdown",
   "metadata": {},
   "source": [
    "#### Percentile distribution: total time to complete the test"
   ]
  },
  {
   "cell_type": "code",
   "execution_count": 118,
   "metadata": {
    "collapsed": false
   },
   "outputs": [
    {
     "data": {
      "text/html": [
       "<div style=\"max-height:1000px;max-width:1500px;overflow:auto;\">\n",
       "<table border=\"1\" class=\"dataframe\">\n",
       "  <thead>\n",
       "    <tr style=\"text-align: right;\">\n",
       "      <th></th>\n",
       "      <th></th>\n",
       "      <th>amin</th>\n",
       "      <th>p1</th>\n",
       "      <th>p10</th>\n",
       "      <th>p50</th>\n",
       "      <th>mean</th>\n",
       "      <th>p90</th>\n",
       "      <th>p99</th>\n",
       "      <th>amax</th>\n",
       "      <th>len</th>\n",
       "    </tr>\n",
       "    <tr>\n",
       "      <th>test_type</th>\n",
       "      <th>indicator_type</th>\n",
       "      <th></th>\n",
       "      <th></th>\n",
       "      <th></th>\n",
       "      <th></th>\n",
       "      <th></th>\n",
       "      <th></th>\n",
       "      <th></th>\n",
       "      <th></th>\n",
       "      <th></th>\n",
       "    </tr>\n",
       "  </thead>\n",
       "  <tbody>\n",
       "    <tr>\n",
       "      <th rowspan=\"3\" valign=\"top\">DTP</th>\n",
       "      <th>Circle</th>\n",
       "      <td>2116</td>\n",
       "      <td>2164</td>\n",
       "      <td>2381</td>\n",
       "      <td>3111</td>\n",
       "      <td>3924</td>\n",
       "      <td>5885</td>\n",
       "      <td>13965</td>\n",
       "      <td>32432</td>\n",
       "      <td>136</td>\n",
       "    </tr>\n",
       "    <tr>\n",
       "      <th>Fade</th>\n",
       "      <td>2049</td>\n",
       "      <td>2100</td>\n",
       "      <td>2374</td>\n",
       "      <td>2951</td>\n",
       "      <td>3863</td>\n",
       "      <td>5650</td>\n",
       "      <td>22041</td>\n",
       "      <td>29517</td>\n",
       "      <td>136</td>\n",
       "    </tr>\n",
       "    <tr>\n",
       "      <th>None</th>\n",
       "      <td>2033</td>\n",
       "      <td>2149</td>\n",
       "      <td>2499</td>\n",
       "      <td>2969</td>\n",
       "      <td>4187</td>\n",
       "      <td>6905</td>\n",
       "      <td>16993</td>\n",
       "      <td>17852</td>\n",
       "      <td>136</td>\n",
       "    </tr>\n",
       "    <tr>\n",
       "      <th>All</th>\n",
       "      <th></th>\n",
       "      <td>2033</td>\n",
       "      <td>2116</td>\n",
       "      <td>2420</td>\n",
       "      <td>2982</td>\n",
       "      <td>3991</td>\n",
       "      <td>6417</td>\n",
       "      <td>17852</td>\n",
       "      <td>32432</td>\n",
       "      <td>408</td>\n",
       "    </tr>\n",
       "  </tbody>\n",
       "</table>\n",
       "</div>"
      ],
      "text/plain": [
       "                          amin    p1   p10   p50  mean   p90    p99   amax  \\\n",
       "test_type indicator_type                                                     \n",
       "DTP       Circle          2116  2164  2381  3111  3924  5885  13965  32432   \n",
       "          Fade            2049  2100  2374  2951  3863  5650  22041  29517   \n",
       "          None            2033  2149  2499  2969  4187  6905  16993  17852   \n",
       "All                       2033  2116  2420  2982  3991  6417  17852  32432   \n",
       "\n",
       "                          len  \n",
       "test_type indicator_type       \n",
       "DTP       Circle          136  \n",
       "          Fade            136  \n",
       "          None            136  \n",
       "All                       408  "
      ]
     },
     "execution_count": 118,
     "metadata": {},
     "output_type": "execute_result"
    }
   ],
   "source": [
    "np.round(results[results['test_type'] == 'DTP'].pivot_table(index=['test_type','indicator_type'], \n",
    "                                                            values='total_time',  \n",
    "                                                            aggfunc=my_agg_func,\n",
    "                                                            margins=True))\n",
    "#[results['indicator_type'] in ('Circle', 'None')]"
   ]
  },
  {
   "cell_type": "markdown",
   "metadata": {},
   "source": [
    "#### Percentile distribution: total time spent outside the target layer"
   ]
  },
  {
   "cell_type": "code",
   "execution_count": 126,
   "metadata": {
    "collapsed": false
   },
   "outputs": [
    {
     "data": {
      "text/html": [
       "<div style=\"max-height:1000px;max-width:1500px;overflow:auto;\">\n",
       "<table border=\"1\" class=\"dataframe\">\n",
       "  <thead>\n",
       "    <tr style=\"text-align: right;\">\n",
       "      <th></th>\n",
       "      <th></th>\n",
       "      <th>amin</th>\n",
       "      <th>p1</th>\n",
       "      <th>p10</th>\n",
       "      <th>p50</th>\n",
       "      <th>mean</th>\n",
       "      <th>p90</th>\n",
       "      <th>p99</th>\n",
       "      <th>amax</th>\n",
       "      <th>len</th>\n",
       "    </tr>\n",
       "    <tr>\n",
       "      <th>test_type</th>\n",
       "      <th>indicator_type</th>\n",
       "      <th></th>\n",
       "      <th></th>\n",
       "      <th></th>\n",
       "      <th></th>\n",
       "      <th></th>\n",
       "      <th></th>\n",
       "      <th></th>\n",
       "      <th></th>\n",
       "      <th></th>\n",
       "    </tr>\n",
       "  </thead>\n",
       "  <tbody>\n",
       "    <tr>\n",
       "      <th rowspan=\"3\" valign=\"top\">DTP</th>\n",
       "      <th>Circle</th>\n",
       "      <td>116</td>\n",
       "      <td>163</td>\n",
       "      <td>368</td>\n",
       "      <td>1098</td>\n",
       "      <td>1625</td>\n",
       "      <td>3050</td>\n",
       "      <td>8857</td>\n",
       "      <td>19146</td>\n",
       "      <td>136</td>\n",
       "    </tr>\n",
       "    <tr>\n",
       "      <th>Fade</th>\n",
       "      <td>49</td>\n",
       "      <td>88</td>\n",
       "      <td>372</td>\n",
       "      <td>932</td>\n",
       "      <td>1698</td>\n",
       "      <td>3087</td>\n",
       "      <td>18334</td>\n",
       "      <td>25900</td>\n",
       "      <td>136</td>\n",
       "    </tr>\n",
       "    <tr>\n",
       "      <th>None</th>\n",
       "      <td>27</td>\n",
       "      <td>138</td>\n",
       "      <td>495</td>\n",
       "      <td>966</td>\n",
       "      <td>1908</td>\n",
       "      <td>3737</td>\n",
       "      <td>14099</td>\n",
       "      <td>15848</td>\n",
       "      <td>136</td>\n",
       "    </tr>\n",
       "    <tr>\n",
       "      <th>All</th>\n",
       "      <th></th>\n",
       "      <td>27</td>\n",
       "      <td>116</td>\n",
       "      <td>401</td>\n",
       "      <td>966</td>\n",
       "      <td>1744</td>\n",
       "      <td>3459</td>\n",
       "      <td>15693</td>\n",
       "      <td>25900</td>\n",
       "      <td>408</td>\n",
       "    </tr>\n",
       "  </tbody>\n",
       "</table>\n",
       "</div>"
      ],
      "text/plain": [
       "                          amin   p1  p10   p50  mean   p90    p99   amax  len\n",
       "test_type indicator_type                                                     \n",
       "DTP       Circle           116  163  368  1098  1625  3050   8857  19146  136\n",
       "          Fade              49   88  372   932  1698  3087  18334  25900  136\n",
       "          None              27  138  495   966  1908  3737  14099  15848  136\n",
       "All                         27  116  401   966  1744  3459  15693  25900  408"
      ]
     },
     "execution_count": 126,
     "metadata": {},
     "output_type": "execute_result"
    }
   ],
   "source": [
    "np.round(results[results['test_type'] == 'DTP'].pivot_table(index=['test_type','indicator_type'], \n",
    "                                                            values='total_time_in_non_targets',  \n",
    "                                                            aggfunc=my_agg_func,\n",
    "                                                           margins=True))\n",
    "#[results['indicator_type'] in ('Circle', 'None')]"
   ]
  },
  {
   "cell_type": "code",
   "execution_count": 124,
   "metadata": {
    "collapsed": false
   },
   "outputs": [
    {
     "data": {
      "image/png": "[encoded data removed]",
      "text/plain": [
       "<matplotlib.figure.Figure at 0x114eecf50>"
      ]
     },
     "metadata": {},
     "output_type": "display_data"
    }
   ],
   "source": [
    "bp = results[results['test_type'] == 'DTP'].boxplot(column=['total_time'], by=['indicator_type'], figsize=(8, 5), vert=False)"
   ]
  },
  {
   "cell_type": "markdown",
   "metadata": {},
   "source": [
    "\n",
    "#  "
   ]
  },
  {
   "cell_type": "markdown",
   "metadata": {
    "collapsed": true
   },
   "source": [
    "# "
   ]
  },
  {
   "cell_type": "markdown",
   "metadata": {
    "collapsed": false
   },
   "source": [
    "# "
   ]
  },
  {
   "cell_type": "markdown",
   "metadata": {
    "collapsed": false
   },
   "source": [
    "# "
   ]
  },
  {
   "cell_type": "code",
   "execution_count": null,
   "metadata": {
    "collapsed": true
   },
   "outputs": [],
   "source": [
    "this_df = df_pos_us_detect\n",
    "\n",
    "group_param = 'metadata.initial_condition'\n",
    "param_name = 'metadata.reflector'\n",
    "\n",
    "unique_params = this_df[param_name].unique()\n",
    "unique_params_cnt = len(unique_params)\n",
    "fig, all_axes = plt.subplots(unique_params_cnt, 1)\n",
    "# Matplotlib is ridiculous and returns a scalar instead of an array if the number of plots is one, hence:\n",
    "if type(all_axes) != type(np.array([])):\n",
    "    all_axes = np.asarray([all_axes])\n",
    "\n",
    "for idx, this_param in enumerate(unique_params):\n",
    "    subset_idx = (this_df[param_name] == this_param)\n",
    "    vp = sns.violinplot(vals=this_df[ULTRASOUND_DIST_AT_FIRST_TOUCH][subset_idx],\n",
    "                       groupby=this_df[group_param][subset_idx],\n",
    "                       inner=\"stick\",\n",
    "                       vert=False,\n",
    "                       cut=1,\n",
    "                       bw=.1,\n",
    "                       ax=all_axes[idx])\n",
    "    vp.set_xlim([0,130])\n",
    "    vp.legend()\n",
    "    subplot_title = param_name + ': ' + this_param\n",
    "    if idx == 0:\n",
    "        subplot_title = 'Distribution of '+ULTRASOUND_DIST_AT_FIRST_TOUCH+'\\n'+subplot_title\n",
    "    vp.set_title(subplot_title)\n",
    "    vp.set_xlabel('Distance [mm]')\n",
    "    vp.set_ylabel(group_param)\n",
    "plt.tight_layout()"
   ]
  },
  {
   "cell_type": "code",
   "execution_count": 135,
   "metadata": {
    "collapsed": false
   },
   "outputs": [
    {
     "data": {
      "text/plain": [
       "<matplotlib.axes._subplots.AxesSubplot at 0x114e09dd0>"
      ]
     },
     "execution_count": 135,
     "metadata": {},
     "output_type": "execute_result"
    },
    {
     "data": {
      "image/png": "[encoded data removed]",
      "text/plain": [
       "<matplotlib.figure.Figure at 0x11504b210>"
      ]
     },
     "metadata": {},
     "output_type": "display_data"
    }
   ],
   "source": [
    "# Overview of results by participant IDs\n",
    "results.boxplot(column=['total_time'], by=['user_id'], vert=False)"
   ]
  },
  {
   "cell_type": "code",
   "execution_count": 65,
   "metadata": {
    "collapsed": false
   },
   "outputs": [],
   "source": [
    "#bp = results[results['indicator_type'] == 'Circle'].boxplot(column=['total_time_in_non_targets'], by=['test_type'], figsize=(8, 5), vert=False)\n",
    "#bp.axes(xlim=3000)"
   ]
  },
  {
   "cell_type": "code",
   "execution_count": 59,
   "metadata": {
    "collapsed": false
   },
   "outputs": [],
   "source": [
    "# results[results['indicator_type'] == 'Fade'].boxplot(column=['total_time'],by=['test_type'], figsize=(8, 5), vert=False)"
   ]
  },
  {
   "cell_type": "code",
   "execution_count": 60,
   "metadata": {
    "collapsed": false
   },
   "outputs": [],
   "source": [
    "# results[results['indicator_type'] == 'Fade'].boxplot(column=['total_time_in_non_targets'],by=['test_type'], figsize=(8, 5), vert=False)"
   ]
  },
  {
   "cell_type": "code",
   "execution_count": 62,
   "metadata": {
    "collapsed": false
   },
   "outputs": [],
   "source": [
    "#df = pd.DataFrame(data ='ApproachStats.csv', columns=['test_type', 'indicator_type'])\n",
    "#df_noDTP = df[df['test_type'] != 'DTP']\n",
    "#np.round(results[results['test_type'] == 'ROC'].pivot_table(index='indicator_type', values='max_time_in_non_target', columns='user_id', aggfunc='median'), 0)"
   ]
  },
  {
   "cell_type": "code",
   "execution_count": 63,
   "metadata": {
    "collapsed": false
   },
   "outputs": [],
   "source": [
    "#[results['test_type'] == 'ROC']\n",
    "#results[results['test_type'] == 'ROC'].cov('indicator_type')"
   ]
  },
  {
   "cell_type": "code",
   "execution_count": 61,
   "metadata": {
    "collapsed": false
   },
   "outputs": [
    {
     "data": {
      "text/plain": [
       "'\\nbp = results[results[\\'indicator_type\\'] == \\'Circle\\'].boxplot(column=[\\'total_time_in_non_targets\\'],by=[\\'test_type\\'], figsize=(8, 5), vert=False)\\n#bp.xlim = 3000\\nfor i in [results.total_time_in_non_targets]:\\n    y = results.indicator_type[results.total_time_in_non_targets == i].dropna()\\n    # Add some random \"jitter\" to the x-axis\\n    x = np.random.normal(i, 0.04, size=len(y))\\n    x = results.test_type[results.total_time_in_non_targets == i]\\n'"
      ]
     },
     "execution_count": 61,
     "metadata": {},
     "output_type": "execute_result"
    }
   ],
   "source": [
    "\"\"\"\n",
    "bp = results[results['indicator_type'] == 'Circle'].boxplot(column=['total_time_in_non_targets'],by=['test_type'], figsize=(8, 5), vert=False)\n",
    "#bp.xlim = 3000\n",
    "for i in [results.total_time_in_non_targets]:\n",
    "    y = results.indicator_type[results.total_time_in_non_targets == i].dropna()\n",
    "    # Add some random \"jitter\" to the x-axis\n",
    "    x = np.random.normal(i, 0.04, size=len(y))\n",
    "    x = results.test_type[results.total_time_in_non_targets == i]\n",
    "\"\"\""
   ]
  },
  {
   "cell_type": "code",
   "execution_count": 25,
   "metadata": {
    "collapsed": false
   },
   "outputs": [
    {
     "name": "stdout",
     "output_type": "stream",
     "text": [
      "Help on function cov in module numpy.lib.function_base:\n",
      "\n",
      "cov(m, y=None, rowvar=1, bias=0, ddof=None)\n",
      "    Estimate a covariance matrix, given data.\n",
      "    \n",
      "    Covariance indicates the level to which two variables vary together.\n",
      "    If we examine N-dimensional samples, :math:`X = [x_1, x_2, ... x_N]^T`,\n",
      "    then the covariance matrix element :math:`C_{ij}` is the covariance of\n",
      "    :math:`x_i` and :math:`x_j`. The element :math:`C_{ii}` is the variance\n",
      "    of :math:`x_i`.\n",
      "    \n",
      "    Parameters\n",
      "    ----------\n",
      "    m : array_like\n",
      "        A 1-D or 2-D array containing multiple variables and observations.\n",
      "        Each row of `m` represents a variable, and each column a single\n",
      "        observation of all those variables. Also see `rowvar` below.\n",
      "    y : array_like, optional\n",
      "        An additional set of variables and observations. `y` has the same\n",
      "        form as that of `m`.\n",
      "    rowvar : int, optional\n",
      "        If `rowvar` is non-zero (default), then each row represents a\n",
      "        variable, with observations in the columns. Otherwise, the relationship\n",
      "        is transposed: each column represents a variable, while the rows\n",
      "        contain observations.\n",
      "    bias : int, optional\n",
      "        Default normalization is by ``(N - 1)``, where ``N`` is the number of\n",
      "        observations given (unbiased estimate). If `bias` is 1, then\n",
      "        normalization is by ``N``. These values can be overridden by using\n",
      "        the keyword ``ddof`` in numpy versions >= 1.5.\n",
      "    ddof : int, optional\n",
      "        .. versionadded:: 1.5\n",
      "        If not ``None`` normalization is by ``(N - ddof)``, where ``N`` is\n",
      "        the number of observations; this overrides the value implied by\n",
      "        ``bias``. The default value is ``None``.\n",
      "    \n",
      "    Returns\n",
      "    -------\n",
      "    out : ndarray\n",
      "        The covariance matrix of the variables.\n",
      "    \n",
      "    See Also\n",
      "    --------\n",
      "    corrcoef : Normalized covariance matrix\n",
      "    \n",
      "    Examples\n",
      "    --------\n",
      "    Consider two variables, :math:`x_0` and :math:`x_1`, which\n",
      "    correlate perfectly, but in opposite directions:\n",
      "    \n",
      "    >>> x = np.array([[0, 2], [1, 1], [2, 0]]).T\n",
      "    >>> x\n",
      "    array([[0, 1, 2],\n",
      "           [2, 1, 0]])\n",
      "    \n",
      "    Note how :math:`x_0` increases while :math:`x_1` decreases. The covariance\n",
      "    matrix shows this clearly:\n",
      "    \n",
      "    >>> np.cov(x)\n",
      "    array([[ 1., -1.],\n",
      "           [-1.,  1.]])\n",
      "    \n",
      "    Note that element :math:`C_{0,1}`, which shows the correlation between\n",
      "    :math:`x_0` and :math:`x_1`, is negative.\n",
      "    \n",
      "    Further, note how `x` and `y` are combined:\n",
      "    \n",
      "    >>> x = [-2.1, -1,  4.3]\n",
      "    >>> y = [3,  1.1,  0.12]\n",
      "    >>> X = np.vstack((x,y))\n",
      "    >>> print np.cov(X)\n",
      "    [[ 11.71        -4.286     ]\n",
      "     [ -4.286        2.14413333]]\n",
      "    >>> print np.cov(x, y)\n",
      "    [[ 11.71        -4.286     ]\n",
      "     [ -4.286        2.14413333]]\n",
      "    >>> print np.cov(x)\n",
      "    11.71\n",
      "\n"
     ]
    }
   ],
   "source": [
    "help(np.cov)"
   ]
  }
 ],
 "metadata": {
  "kernelspec": {
   "display_name": "Python 2",
   "language": "python",
   "name": "python2"
  },
  "language_info": {
   "codemirror_mode": {
    "name": "ipython",
    "version": 2
   },
   "file_extension": ".py",
   "mimetype": "text/x-python",
   "name": "python",
   "nbconvert_exporter": "python",
   "pygments_lexer": "ipython2",
   "version": "2.7.10"
  }
 },
 "nbformat": 4,
 "nbformat_minor": 0
}
