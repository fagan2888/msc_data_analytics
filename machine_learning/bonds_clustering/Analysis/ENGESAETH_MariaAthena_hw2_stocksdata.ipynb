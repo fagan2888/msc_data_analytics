{
 "cells": [
  {
   "cell_type": "markdown",
   "metadata": {},
   "source": [
    "## Contents of iPython Notebook\n",
    "\n",
    "Assignment 2 for Advanced Analytics and Machine Learning: Unsupervised Learning of Stock Returns\n",
    "\n",
    "by Maria Athena B Engesaeth"
   ]
  },
  {
   "cell_type": "code",
   "execution_count": 1,
   "metadata": {
    "collapsed": false
   },
   "outputs": [
    {
     "data": {
      "application/javascript": [
       "IPython.OutputArea.auto_scroll_threshold = 9999;"
      ],
      "text/plain": [
       "<IPython.core.display.Javascript object>"
      ]
     },
     "metadata": {},
     "output_type": "display_data"
    }
   ],
   "source": [
    "%%javascript\n",
    "IPython.OutputArea.auto_scroll_threshold = 9999;"
   ]
  },
  {
   "cell_type": "code",
   "execution_count": 2,
   "metadata": {
    "collapsed": false
   },
   "outputs": [
    {
     "name": "stderr",
     "output_type": "stream",
     "text": [
      "/Library/Python/2.7/site-packages/matplotlib/font_manager.py:273: UserWarning: Matplotlib is building the font cache using fc-list. This may take a moment.\n",
      "  warnings.warn('Matplotlib is building the font cache using fc-list. This may take a moment.')\n"
     ]
    },
    {
     "name": "stdout",
     "output_type": "stream",
     "text": [
      "Populating the interactive namespace from numpy and matplotlib\n"
     ]
    }
   ],
   "source": [
    "# Setting up the environment\n",
    "%pylab inline\n",
    "%matplotlib inline\n",
    "\n",
    "import pandas as pd\n",
    "\n",
    "import sklearn\n",
    "from sklearn import cluster\n",
    "from sklearn.decomposition import PCA\n",
    "\n",
    "import scipy\n",
    "from scipy.stats import moment\n",
    "from scipy.stats import ttest_ind\n",
    "\n",
    "# For running regressions and R-type formulas\n",
    "import statsmodels\n",
    "import statsmodels.api as sm\n",
    "# R type regression formulas\n",
    "import statsmodels.formula.api as smf\n",
    "\n",
    "import patsy "
   ]
  },
  {
   "cell_type": "code",
   "execution_count": 3,
   "metadata": {
    "collapsed": false
   },
   "outputs": [],
   "source": [
    "# Filepaths\n",
    "stockreturn2 = '/Users/mariaathena/Dropbox (Personal)/00 Imperial College/1601 Machine Learning/Assignment 2/Data (csv)/stockreturn2.csv'\n",
    "\n",
    "# Load data into dataframe without overriding header and index column of csv\n",
    "stock_df = pd.DataFrame.from_csv(stockreturn2, header=None, index_col=False)"
   ]
  },
  {
   "cell_type": "markdown",
   "metadata": {},
   "source": [
    "### Q1: Descriptive Statistics, Skewness, Kurtosis and % log Returns"
   ]
  },
  {
   "cell_type": "code",
   "execution_count": 4,
   "metadata": {
    "collapsed": false
   },
   "outputs": [
    {
     "data": {
      "text/html": [
       "<div>\n",
       "<table border=\"1\" class=\"dataframe\">\n",
       "  <thead>\n",
       "    <tr style=\"text-align: right;\">\n",
       "      <th></th>\n",
       "      <th>count</th>\n",
       "      <th>mean</th>\n",
       "      <th>std</th>\n",
       "      <th>min</th>\n",
       "      <th>25%</th>\n",
       "      <th>50%</th>\n",
       "      <th>75%</th>\n",
       "      <th>max</th>\n",
       "    </tr>\n",
       "  </thead>\n",
       "  <tbody>\n",
       "    <tr>\n",
       "      <th>0</th>\n",
       "      <td>228.0</td>\n",
       "      <td>0.700432</td>\n",
       "      <td>8.639322</td>\n",
       "      <td>-30.36827</td>\n",
       "      <td>-4.604500</td>\n",
       "      <td>1.007143</td>\n",
       "      <td>5.690602</td>\n",
       "      <td>30.29147</td>\n",
       "    </tr>\n",
       "    <tr>\n",
       "      <th>1</th>\n",
       "      <td>228.0</td>\n",
       "      <td>0.985980</td>\n",
       "      <td>10.593342</td>\n",
       "      <td>-38.55037</td>\n",
       "      <td>-4.796437</td>\n",
       "      <td>1.256301</td>\n",
       "      <td>6.942344</td>\n",
       "      <td>30.29886</td>\n",
       "    </tr>\n",
       "    <tr>\n",
       "      <th>2</th>\n",
       "      <td>228.0</td>\n",
       "      <td>1.195732</td>\n",
       "      <td>12.103589</td>\n",
       "      <td>-58.86214</td>\n",
       "      <td>-5.041132</td>\n",
       "      <td>1.715627</td>\n",
       "      <td>9.596882</td>\n",
       "      <td>29.13605</td>\n",
       "    </tr>\n",
       "    <tr>\n",
       "      <th>3</th>\n",
       "      <td>228.0</td>\n",
       "      <td>0.823606</td>\n",
       "      <td>10.297422</td>\n",
       "      <td>-42.58321</td>\n",
       "      <td>-3.527040</td>\n",
       "      <td>0.987606</td>\n",
       "      <td>6.587528</td>\n",
       "      <td>28.19700</td>\n",
       "    </tr>\n",
       "    <tr>\n",
       "      <th>4</th>\n",
       "      <td>228.0</td>\n",
       "      <td>0.410459</td>\n",
       "      <td>9.582594</td>\n",
       "      <td>-42.28575</td>\n",
       "      <td>-3.476719</td>\n",
       "      <td>0.644807</td>\n",
       "      <td>5.826744</td>\n",
       "      <td>33.02414</td>\n",
       "    </tr>\n",
       "  </tbody>\n",
       "</table>\n",
       "</div>"
      ],
      "text/plain": [
       "   count      mean        std       min       25%       50%       75%  \\\n",
       "0  228.0  0.700432   8.639322 -30.36827 -4.604500  1.007143  5.690602   \n",
       "1  228.0  0.985980  10.593342 -38.55037 -4.796437  1.256301  6.942344   \n",
       "2  228.0  1.195732  12.103589 -58.86214 -5.041132  1.715627  9.596882   \n",
       "3  228.0  0.823606  10.297422 -42.58321 -3.527040  0.987606  6.587528   \n",
       "4  228.0  0.410459   9.582594 -42.28575 -3.476719  0.644807  5.826744   \n",
       "\n",
       "        max  \n",
       "0  30.29147  \n",
       "1  30.29886  \n",
       "2  29.13605  \n",
       "3  28.19700  \n",
       "4  33.02414  "
      ]
     },
     "execution_count": 4,
     "metadata": {},
     "output_type": "execute_result"
    }
   ],
   "source": [
    "# Display table of descriptive statistics of the stock dataframe\n",
    "stock_df.describe().T"
   ]
  },
  {
   "cell_type": "code",
   "execution_count": 5,
   "metadata": {
    "collapsed": false
   },
   "outputs": [
    {
     "data": {
      "text/plain": [
       "0     -85.040306\n",
       "1    -421.296550\n",
       "2   -1512.910299\n",
       "3    -787.910935\n",
       "4    -895.794816\n",
       "dtype: float64"
      ]
     },
     "execution_count": 5,
     "metadata": {},
     "output_type": "execute_result"
    }
   ],
   "source": [
    "# Compute Skewness i.e. 3rd Moment\n",
    "stock_skewness = stock_df.apply(lambda x: moment(x, moment=3))\n",
    "stock_skewness"
   ]
  },
  {
   "cell_type": "code",
   "execution_count": 6,
   "metadata": {
    "collapsed": false
   },
   "outputs": [
    {
     "data": {
      "text/plain": [
       "0     23606.425004\n",
       "1     51902.193000\n",
       "2    116253.809928\n",
       "3     60592.462484\n",
       "4     64200.105225\n",
       "dtype: float64"
      ]
     },
     "execution_count": 6,
     "metadata": {},
     "output_type": "execute_result"
    }
   ],
   "source": [
    "# Compute Kurtosis i.e. 4th Moment\n",
    "stock_kurtosis = stock_df.apply(lambda x: moment(x, moment=4))\n",
    "stock_kurtosis"
   ]
  },
  {
   "cell_type": "code",
   "execution_count": 7,
   "metadata": {
    "collapsed": false
   },
   "outputs": [
    {
     "data": {
      "text/html": [
       "<div>\n",
       "<table border=\"1\" class=\"dataframe\">\n",
       "  <thead>\n",
       "    <tr style=\"text-align: right;\">\n",
       "      <th></th>\n",
       "      <th>count</th>\n",
       "      <th>mean</th>\n",
       "      <th>std</th>\n",
       "      <th>min</th>\n",
       "      <th>25%</th>\n",
       "      <th>50%</th>\n",
       "      <th>75%</th>\n",
       "      <th>max</th>\n",
       "    </tr>\n",
       "  </thead>\n",
       "  <tbody>\n",
       "    <tr>\n",
       "      <th>0</th>\n",
       "      <td>62.0</td>\n",
       "      <td>0.281155</td>\n",
       "      <td>1.484382</td>\n",
       "      <td>-3.640349</td>\n",
       "      <td>-0.533926</td>\n",
       "      <td>0.339213</td>\n",
       "      <td>1.453937</td>\n",
       "      <td>2.753408</td>\n",
       "    </tr>\n",
       "    <tr>\n",
       "      <th>1</th>\n",
       "      <td>60.0</td>\n",
       "      <td>0.594596</td>\n",
       "      <td>1.759347</td>\n",
       "      <td>-4.302973</td>\n",
       "      <td>-0.327799</td>\n",
       "      <td>0.466436</td>\n",
       "      <td>1.769038</td>\n",
       "      <td>5.631788</td>\n",
       "    </tr>\n",
       "    <tr>\n",
       "      <th>2</th>\n",
       "      <td>55.0</td>\n",
       "      <td>0.154151</td>\n",
       "      <td>1.804746</td>\n",
       "      <td>-4.882452</td>\n",
       "      <td>-0.717225</td>\n",
       "      <td>0.344449</td>\n",
       "      <td>1.644494</td>\n",
       "      <td>2.912282</td>\n",
       "    </tr>\n",
       "    <tr>\n",
       "      <th>3</th>\n",
       "      <td>54.0</td>\n",
       "      <td>inf</td>\n",
       "      <td>NaN</td>\n",
       "      <td>-3.859132</td>\n",
       "      <td>-0.779503</td>\n",
       "      <td>0.337790</td>\n",
       "      <td>1.400983</td>\n",
       "      <td>inf</td>\n",
       "    </tr>\n",
       "    <tr>\n",
       "      <th>4</th>\n",
       "      <td>60.0</td>\n",
       "      <td>0.041246</td>\n",
       "      <td>1.721708</td>\n",
       "      <td>-5.576869</td>\n",
       "      <td>-0.742988</td>\n",
       "      <td>0.106840</td>\n",
       "      <td>1.097747</td>\n",
       "      <td>3.530580</td>\n",
       "    </tr>\n",
       "  </tbody>\n",
       "</table>\n",
       "</div>"
      ],
      "text/plain": [
       "   count      mean       std       min       25%       50%       75%       max\n",
       "0   62.0  0.281155  1.484382 -3.640349 -0.533926  0.339213  1.453937  2.753408\n",
       "1   60.0  0.594596  1.759347 -4.302973 -0.327799  0.466436  1.769038  5.631788\n",
       "2   55.0  0.154151  1.804746 -4.882452 -0.717225  0.344449  1.644494  2.912282\n",
       "3   54.0       inf       NaN -3.859132 -0.779503  0.337790  1.400983       inf\n",
       "4   60.0  0.041246  1.721708 -5.576869 -0.742988  0.106840  1.097747  3.530580"
      ]
     },
     "execution_count": 7,
     "metadata": {},
     "output_type": "execute_result"
    }
   ],
   "source": [
    "# Compute % log Returns\n",
    "\n",
    "# Firstly we compute the simple returns and store it in a variable\n",
    "simple_ret = stock_df.pct_change()\n",
    "\n",
    "# Then we use this to compute the log returns\n",
    "log_ret = simple_ret.apply(lambda x: np.log(x))\n",
    "\n",
    "# Display table of descriptive statistics of the log returns of the stock dataframe including min and max\n",
    "log_ret.describe().T"
   ]
  },
  {
   "cell_type": "markdown",
   "metadata": {},
   "source": [
    "### Q2: Statistical Significance of log Returns"
   ]
  },
  {
   "cell_type": "markdown",
   "metadata": {},
   "source": [
    "From the below regression results we note that all p-values are below 0.05, generally considered the cut-off point for when a variable is statistically insignificant. In other words we fail reject the null hypothesis that mean returns of the stocks are null."
   ]
  },
  {
   "cell_type": "code",
   "execution_count": 8,
   "metadata": {
    "collapsed": false
   },
   "outputs": [
    {
     "name": "stdout",
     "output_type": "stream",
     "text": [
      "                            OLS Regression Results                            \n",
      "==============================================================================\n",
      "Dep. Variable:            stock_df[0]   R-squared:                       0.290\n",
      "Model:                            OLS   Adj. R-squared:                  0.281\n",
      "Method:                 Least Squares   F-statistic:                     30.56\n",
      "Date:                Wed, 30 Mar 2016   Prob (F-statistic):           1.34e-16\n",
      "Time:                        14:56:17   Log-Likelihood:                -775.55\n",
      "No. Observations:                 228   AIC:                             1559.\n",
      "Df Residuals:                     224   BIC:                             1573.\n",
      "Df Model:                           3                                         \n",
      "Covariance Type:            nonrobust                                         \n",
      "===============================================================================\n",
      "                  coef    std err          t      P>|t|      [95.0% Conf. Int.]\n",
      "-------------------------------------------------------------------------------\n",
      "Intercept       0.1661      0.488      0.340      0.734        -0.796     1.129\n",
      "stock_df[1]     0.2130      0.057      3.757      0.000         0.101     0.325\n",
      "stock_df[2]     0.1891      0.049      3.864      0.000         0.093     0.286\n",
      "stock_df[3]     0.1191      0.052      2.283      0.023         0.016     0.222\n",
      "==============================================================================\n",
      "Omnibus:                       30.137   Durbin-Watson:                   1.916\n",
      "Prob(Omnibus):                  0.000   Jarque-Bera (JB):               70.001\n",
      "Skew:                          -0.608   Prob(JB):                     6.30e-16\n",
      "Kurtosis:                       5.427   Cond. No.                         15.4\n",
      "==============================================================================\n",
      "\n",
      "Warnings:\n",
      "[1] Standard Errors assume that the covariance matrix of the errors is correctly specified.\n"
     ]
    }
   ],
   "source": [
    "# Design matrices (endog & exog)\n",
    "y, X = patsy.dmatrices('stock_df[0] ~ stock_df[1] + stock_df[2] + stock_df[3]', data=stock_df, return_type='dataframe')\n",
    "\n",
    "#y[:3]\n",
    "#X[:3]\n",
    "\n",
    "mod = sm.OLS(y, X)    # Describe model\n",
    "res = mod.fit()       # Fit model\n",
    "print res.summary()   # Summarize model"
   ]
  },
  {
   "cell_type": "markdown",
   "metadata": {},
   "source": [
    "### Q3: Covariance and Correlation Matrix"
   ]
  },
  {
   "cell_type": "code",
   "execution_count": 9,
   "metadata": {
    "collapsed": false
   },
   "outputs": [
    {
     "data": {
      "text/html": [
       "<div>\n",
       "<table border=\"1\" class=\"dataframe\">\n",
       "  <thead>\n",
       "    <tr style=\"text-align: right;\">\n",
       "      <th></th>\n",
       "      <th>0</th>\n",
       "      <th>1</th>\n",
       "      <th>2</th>\n",
       "      <th>3</th>\n",
       "      <th>4</th>\n",
       "    </tr>\n",
       "  </thead>\n",
       "  <tbody>\n",
       "    <tr>\n",
       "      <th>0</th>\n",
       "      <td>74.637889</td>\n",
       "      <td>42.281185</td>\n",
       "      <td>48.026917</td>\n",
       "      <td>30.103004</td>\n",
       "      <td>21.069532</td>\n",
       "    </tr>\n",
       "    <tr>\n",
       "      <th>1</th>\n",
       "      <td>42.281185</td>\n",
       "      <td>112.218893</td>\n",
       "      <td>70.451876</td>\n",
       "      <td>42.423721</td>\n",
       "      <td>26.299668</td>\n",
       "    </tr>\n",
       "    <tr>\n",
       "      <th>2</th>\n",
       "      <td>48.026917</td>\n",
       "      <td>70.451876</td>\n",
       "      <td>146.496870</td>\n",
       "      <td>44.594203</td>\n",
       "      <td>29.242793</td>\n",
       "    </tr>\n",
       "    <tr>\n",
       "      <th>3</th>\n",
       "      <td>30.103004</td>\n",
       "      <td>42.423721</td>\n",
       "      <td>44.594203</td>\n",
       "      <td>106.036892</td>\n",
       "      <td>67.452895</td>\n",
       "    </tr>\n",
       "    <tr>\n",
       "      <th>4</th>\n",
       "      <td>21.069532</td>\n",
       "      <td>26.299668</td>\n",
       "      <td>29.242793</td>\n",
       "      <td>67.452895</td>\n",
       "      <td>91.826100</td>\n",
       "    </tr>\n",
       "  </tbody>\n",
       "</table>\n",
       "</div>"
      ],
      "text/plain": [
       "           0           1           2           3          4\n",
       "0  74.637889   42.281185   48.026917   30.103004  21.069532\n",
       "1  42.281185  112.218893   70.451876   42.423721  26.299668\n",
       "2  48.026917   70.451876  146.496870   44.594203  29.242793\n",
       "3  30.103004   42.423721   44.594203  106.036892  67.452895\n",
       "4  21.069532   26.299668   29.242793   67.452895  91.826100"
      ]
     },
     "execution_count": 9,
     "metadata": {},
     "output_type": "execute_result"
    }
   ],
   "source": [
    "# Compute Covariance Matrix\n",
    "stock_cov = stock_df.cov()\n",
    "stock_cov"
   ]
  },
  {
   "cell_type": "code",
   "execution_count": 10,
   "metadata": {
    "collapsed": false
   },
   "outputs": [
    {
     "data": {
      "text/html": [
       "<div>\n",
       "<table border=\"1\" class=\"dataframe\">\n",
       "  <thead>\n",
       "    <tr style=\"text-align: right;\">\n",
       "      <th></th>\n",
       "      <th>0</th>\n",
       "      <th>1</th>\n",
       "      <th>2</th>\n",
       "      <th>3</th>\n",
       "      <th>4</th>\n",
       "    </tr>\n",
       "  </thead>\n",
       "  <tbody>\n",
       "    <tr>\n",
       "      <th>0</th>\n",
       "      <td>1.000000</td>\n",
       "      <td>0.461992</td>\n",
       "      <td>0.459294</td>\n",
       "      <td>0.338378</td>\n",
       "      <td>0.254503</td>\n",
       "    </tr>\n",
       "    <tr>\n",
       "      <th>1</th>\n",
       "      <td>0.461992</td>\n",
       "      <td>1.000000</td>\n",
       "      <td>0.549472</td>\n",
       "      <td>0.388908</td>\n",
       "      <td>0.259080</td>\n",
       "    </tr>\n",
       "    <tr>\n",
       "      <th>2</th>\n",
       "      <td>0.459294</td>\n",
       "      <td>0.549472</td>\n",
       "      <td>1.000000</td>\n",
       "      <td>0.357796</td>\n",
       "      <td>0.252128</td>\n",
       "    </tr>\n",
       "    <tr>\n",
       "      <th>3</th>\n",
       "      <td>0.338378</td>\n",
       "      <td>0.388908</td>\n",
       "      <td>0.357796</td>\n",
       "      <td>1.000000</td>\n",
       "      <td>0.683579</td>\n",
       "    </tr>\n",
       "    <tr>\n",
       "      <th>4</th>\n",
       "      <td>0.254503</td>\n",
       "      <td>0.259080</td>\n",
       "      <td>0.252128</td>\n",
       "      <td>0.683579</td>\n",
       "      <td>1.000000</td>\n",
       "    </tr>\n",
       "  </tbody>\n",
       "</table>\n",
       "</div>"
      ],
      "text/plain": [
       "          0         1         2         3         4\n",
       "0  1.000000  0.461992  0.459294  0.338378  0.254503\n",
       "1  0.461992  1.000000  0.549472  0.388908  0.259080\n",
       "2  0.459294  0.549472  1.000000  0.357796  0.252128\n",
       "3  0.338378  0.388908  0.357796  1.000000  0.683579\n",
       "4  0.254503  0.259080  0.252128  0.683579  1.000000"
      ]
     },
     "execution_count": 10,
     "metadata": {},
     "output_type": "execute_result"
    }
   ],
   "source": [
    "# Compute Correlation Matrix\n",
    "stock_corr = stock_df.corr()\n",
    "stock_corr"
   ]
  },
  {
   "cell_type": "markdown",
   "metadata": {},
   "source": [
    "### Q4: Principal Component Analysis"
   ]
  },
  {
   "cell_type": "markdown",
   "metadata": {},
   "source": [
    "A Summary of the PCA Approach\n",
    "\n",
    "1. Standardise the data\n",
    "2. Obtain the Eigenvectors and Eigenvalues from the covariance matrix or correlation matrix, or perform Singular Vector Decomposition\n",
    "3. Sort eigenvalues in descending order and choose the k eigenvectors that correspond to the k largest eigenvalues where k is the number of dimensions of the new feature subspace (k≤d)\n",
    "4. Compute projection matrix (W) from selected k eigenvectors.\n",
    "5. Transform the original dataset X via W to obtain a k-dimensional feature subspace Y"
   ]
  },
  {
   "cell_type": "code",
   "execution_count": 11,
   "metadata": {
    "collapsed": false
   },
   "outputs": [],
   "source": [
    "# Step 1 - Standardise the data\n",
    "from sklearn.preprocessing import StandardScaler\n",
    "stock_std_df = StandardScaler().fit_transform(stock_df)\n",
    "#stock_std_df.shape"
   ]
  },
  {
   "cell_type": "code",
   "execution_count": 12,
   "metadata": {
    "collapsed": false
   },
   "outputs": [
    {
     "name": "stdout",
     "output_type": "stream",
     "text": [
      "[[-0.42763297 -0.34111318  0.83707913  0.00820318  0.0017559 ]\n",
      " [-0.45989335 -0.35645829 -0.38014075  0.14462186 -0.70428199]\n",
      " [-0.4511153  -0.38546354 -0.38922685  0.02177744  0.70423082]\n",
      " [-0.47856705  0.46946714 -0.04582365 -0.73875733 -0.05207668]\n",
      " [-0.41604893  0.62257349  0.0345571   0.6578606   0.07301211]]\n",
      "eigenvalues:  [ 2.61913608  1.07630477  0.57112107  0.30216155  0.45330297]\n"
     ]
    }
   ],
   "source": [
    "# Step 2 - Obtain the Eigenvectors and Eigenvalues from the covariance matrix or correlation matrix\n",
    "\n",
    "# Covariance matrix of standardised data\n",
    "stock_std_cov = np.cov(stock_std_df.T)\n",
    "\n",
    "# Eigendecomposition on the covariance matrix\n",
    "eig_vals, eig_vecs = np.linalg.eig(stock_std_cov)\n",
    "\n",
    "print eig_vecs\n",
    "print \"eigenvalues: \", eig_vals"
   ]
  },
  {
   "cell_type": "code",
   "execution_count": 13,
   "metadata": {
    "collapsed": false
   },
   "outputs": [
    {
     "name": "stdout",
     "output_type": "stream",
     "text": [
      "[[ 0.42763297  0.34111318 -0.83707913  0.00820318  0.0017559 ]\n",
      " [ 0.45989335  0.35645829  0.38014075  0.14462186 -0.70428199]\n",
      " [ 0.4511153   0.38546354  0.38922685  0.02177744  0.70423082]\n",
      " [ 0.47856705 -0.46946714  0.04582365 -0.73875733 -0.05207668]\n",
      " [ 0.41604893 -0.62257349 -0.0345571   0.6578606   0.07301211]]\n",
      "eigenvalues:  [ 2.60764864  1.07158414  0.56861615  0.30083628  0.4513148 ]\n"
     ]
    }
   ],
   "source": [
    "# Note: particularly in finance: the correlation matrix is typically used instead of the covariance matrix.\n",
    "# However, the eigendecomposition of the covariance matrix yields the same results as a eigendecomposition \n",
    "# on the correlation matrix, since the correlation matrix can be understood as the normalized covariance matrix.\n",
    "\n",
    "stock_std_corr = np.corrcoef(stock_std_df.T)\n",
    "# Eigendecomposition on the correlation matrix\n",
    "eig_vals, eig_vecs = np.linalg.eig(stock_std_corr)\n",
    "\n",
    "print eig_vecs\n",
    "print \"eigenvalues: \", eig_vals"
   ]
  },
  {
   "cell_type": "code",
   "execution_count": 14,
   "metadata": {
    "collapsed": false
   },
   "outputs": [
    {
     "name": "stdout",
     "output_type": "stream",
     "text": [
      "2.60764864283\n",
      "1.07158413686\n",
      "0.568616149904\n",
      "0.451314795061\n",
      "0.300836275345\n"
     ]
    }
   ],
   "source": [
    "# Step 3 - Sorting Eigenvector, Eigenvalue pairs\n",
    "# We look for which eigenvector(s) to drop without losing too much information: The eigenvectors with \n",
    "# the lowest eigenvalues bear the least information about the distribution of the data.\n",
    "\n",
    "# Make a list of (eigenvalue, eigenvector) tuples\n",
    "eig_pairs = [(np.abs(eig_vals[i]), eig_vecs[:,i]) for i in range(len(eig_vals))]\n",
    "\n",
    "# Sort the (eigenvalue, eigenvector) tuples from high to low\n",
    "eig_pairs.sort()\n",
    "eig_pairs.reverse()\n",
    "\n",
    "for i in eig_pairs:\n",
    "    print(i[0])"
   ]
  },
  {
   "cell_type": "code",
   "execution_count": 28,
   "metadata": {
    "collapsed": false
   },
   "outputs": [
    {
     "name": "stdout",
     "output_type": "stream",
     "text": [
      "[ 52.15297286  21.43168274  11.372323     9.0262959    6.01672551]\n"
     ]
    }
   ],
   "source": [
    "# Compute explained variance to find how much information (variance) can be attributed to each of \n",
    "# the principal components in our new feature subspace.\n",
    "tot = sum(eig_vals)\n",
    "var_exp = [(i / tot)*100 for i in sorted(eig_vals, reverse=True)]\n",
    "var_exp = np.array(var_exp)\n",
    "cum_var_exp = np.cumsum(var_exp)\n",
    "print var_exp"
   ]
  },
  {
   "cell_type": "code",
   "execution_count": 30,
   "metadata": {
    "collapsed": false
   },
   "outputs": [
    {
     "name": "stdout",
     "output_type": "stream",
     "text": [
      "[[ 0.42763297  0.34111318]\n",
      " [ 0.45989335  0.35645829]\n",
      " [ 0.4511153   0.38546354]\n",
      " [ 0.47856705 -0.46946714]\n",
      " [ 0.41604893 -0.62257349]]\n"
     ]
    }
   ],
   "source": [
    "# Step 4 - Projection Matrix\n",
    "# The projection matrix is used to transform the dataset to the new feature subspace\n",
    "matrix_w = np.hstack((eig_pairs[0][1].reshape(5,1),\n",
    "                      eig_pairs[1][1].reshape(5,1)))\n",
    "\n",
    "print matrix_w"
   ]
  },
  {
   "cell_type": "code",
   "execution_count": 31,
   "metadata": {
    "collapsed": false
   },
   "outputs": [
    {
     "data": {
      "text/plain": [
       "array([[ 1.12002894,  0.36714174],\n",
       "       [ 1.20452326,  0.38365776],\n",
       "       [ 1.18153237,  0.41487625],\n",
       "       [ 1.25343223, -0.50528972],\n",
       "       [ 1.08968876, -0.67007882]])"
      ]
     },
     "execution_count": 31,
     "metadata": {},
     "output_type": "execute_result"
    }
   ],
   "source": [
    "# Step 5 - Project the dataset onto the new feature subspace\n",
    "Y = stock_std_cov.dot(matrix_w)\n",
    "Y"
   ]
  },
  {
   "cell_type": "markdown",
   "metadata": {},
   "source": [
    "### Q5: Interpretation and Analysis\n",
    "##### incl. Bonus Question\n",
    "\n",
    "To answer the question of how many components explain the data it can be helpful to look at a visualisation of the cumulative variance of each added principal component. As seen in the below plot, the first three (3) prinicpal components explain over 80% of the variation in the data and it may be reasonable to conclude that these three principal components would suffice in explaining the data.\n",
    "\n",
    "To answer the same questions qualitatively, that is, given the nature of our data we might want to remind ourselves that this is financial data. Each component relates to a stock, companies within the same industry (or perfectly complimentary industries) tend to experience the similar variance. It seems reaonable to assume that a minimum of two (2), and possibly more, of these stocks are from companies in the same industry."
   ]
  },
  {
   "cell_type": "code",
   "execution_count": 27,
   "metadata": {
    "collapsed": false
   },
   "outputs": [
    {
     "data": {
      "image/png": "[encoded data removed]",
      "text/plain": [
       "<matplotlib.figure.Figure at 0x10dc19690>"
      ]
     },
     "metadata": {},
     "output_type": "display_data"
    }
   ],
   "source": [
    "with plt.style.context('seaborn-whitegrid'):\n",
    "    plt.figure(figsize=(6, 4))\n",
    "\n",
    "    plt.bar(range(5), var_exp, alpha=0.5, align='center',\n",
    "            label='individual explained variance')\n",
    "    plt.step(range(5), cum_var_exp, where='mid',\n",
    "             label='cumulative explained variance')\n",
    "    plt.ylabel('Explained variance ratio')\n",
    "    plt.xlabel('Principal components')\n",
    "    plt.legend(loc='best')\n",
    "    plt.tight_layout()"
   ]
  }
 ],
 "metadata": {
  "kernelspec": {
   "display_name": "Python 2",
   "language": "python",
   "name": "python2"
  },
  "language_info": {
   "codemirror_mode": {
    "name": "ipython",
    "version": 2
   },
   "file_extension": ".py",
   "mimetype": "text/x-python",
   "name": "python",
   "nbconvert_exporter": "python",
   "pygments_lexer": "ipython2",
   "version": "2.7.10"
  }
 },
 "nbformat": 4,
 "nbformat_minor": 0
}
