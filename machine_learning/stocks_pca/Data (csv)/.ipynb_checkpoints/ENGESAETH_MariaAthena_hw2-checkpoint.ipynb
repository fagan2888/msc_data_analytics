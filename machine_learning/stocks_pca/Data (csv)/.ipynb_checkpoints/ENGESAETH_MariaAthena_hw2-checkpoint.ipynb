{
 "cells": [
  {
   "cell_type": "code",
   "execution_count": 8,
   "metadata": {
    "collapsed": false
   },
   "outputs": [
    {
     "name": "stdout",
     "output_type": "stream",
     "text": [
      "Populating the interactive namespace from numpy and matplotlib\n"
     ]
    }
   ],
   "source": [
    "%pylab inline\n",
    "#import numpy as np\n",
    "#import matplotlib.pyplot as plt\n",
    "\n",
    "import pandas as pd\n",
    "import sklearn\n",
    "\n",
    "corp_df = pd.DataFrame.from_csv('CorporateBond.csv')\n",
    "muni_df = pd.DataFrame.from_csv('MunicipalBond.csv')\n",
    "stock_df = pd.DataFrame.from_csv('stockreturn2.csv')"
   ]
  },
  {
   "cell_type": "code",
   "execution_count": 13,
   "metadata": {
    "collapsed": false
   },
   "outputs": [
    {
     "data": {
      "text/plain": [
       "Index([u'Price', u'Coupon', u'Maturity', u'YTM', u'CurrentYield', u'Rating'], dtype='object')"
      ]
     },
     "execution_count": 13,
     "metadata": {},
     "output_type": "execute_result"
    }
   ],
   "source": [
    "muni_df.columns"
   ]
  },
  {
   "cell_type": "code",
   "execution_count": 20,
   "metadata": {
    "collapsed": false
   },
   "outputs": [
    {
     "data": {
      "text/html": [
       "<div>\n",
       "<table border=\"1\" class=\"dataframe\">\n",
       "  <thead>\n",
       "    <tr style=\"text-align: right;\">\n",
       "      <th></th>\n",
       "      <th>count</th>\n",
       "      <th>mean</th>\n",
       "      <th>std</th>\n",
       "      <th>min</th>\n",
       "      <th>25%</th>\n",
       "      <th>50%</th>\n",
       "      <th>75%</th>\n",
       "      <th>max</th>\n",
       "    </tr>\n",
       "  </thead>\n",
       "  <tbody>\n",
       "    <tr>\n",
       "      <th>Price</th>\n",
       "      <td>351.0</td>\n",
       "      <td>108.414387</td>\n",
       "      <td>14.353734</td>\n",
       "      <td>40.510000</td>\n",
       "      <td>102.070000</td>\n",
       "      <td>107.430000</td>\n",
       "      <td>115.165000</td>\n",
       "      <td>155.840000</td>\n",
       "    </tr>\n",
       "    <tr>\n",
       "      <th>Coupon</th>\n",
       "      <td>351.0</td>\n",
       "      <td>5.563419</td>\n",
       "      <td>2.038691</td>\n",
       "      <td>0.880000</td>\n",
       "      <td>4.475000</td>\n",
       "      <td>5.710000</td>\n",
       "      <td>6.840000</td>\n",
       "      <td>12.400000</td>\n",
       "    </tr>\n",
       "    <tr>\n",
       "      <th>YTM</th>\n",
       "      <td>351.0</td>\n",
       "      <td>4.067635</td>\n",
       "      <td>1.478447</td>\n",
       "      <td>0.728000</td>\n",
       "      <td>3.289000</td>\n",
       "      <td>4.047000</td>\n",
       "      <td>4.835000</td>\n",
       "      <td>10.193000</td>\n",
       "    </tr>\n",
       "    <tr>\n",
       "      <th>CurrentYield</th>\n",
       "      <td>351.0</td>\n",
       "      <td>5.262730</td>\n",
       "      <td>2.483850</td>\n",
       "      <td>0.862322</td>\n",
       "      <td>4.006796</td>\n",
       "      <td>5.157513</td>\n",
       "      <td>6.383107</td>\n",
       "      <td>25.351765</td>\n",
       "    </tr>\n",
       "  </tbody>\n",
       "</table>\n",
       "</div>"
      ],
      "text/plain": [
       "              count        mean        std        min         25%         50%  \\\n",
       "Price         351.0  108.414387  14.353734  40.510000  102.070000  107.430000   \n",
       "Coupon        351.0    5.563419   2.038691   0.880000    4.475000    5.710000   \n",
       "YTM           351.0    4.067635   1.478447   0.728000    3.289000    4.047000   \n",
       "CurrentYield  351.0    5.262730   2.483850   0.862322    4.006796    5.157513   \n",
       "\n",
       "                     75%         max  \n",
       "Price         115.165000  155.840000  \n",
       "Coupon          6.840000   12.400000  \n",
       "YTM             4.835000   10.193000  \n",
       "CurrentYield    6.383107   25.351765  "
      ]
     },
     "execution_count": 20,
     "metadata": {},
     "output_type": "execute_result"
    }
   ],
   "source": [
    "corp_df.describe().T"
   ]
  },
  {
   "cell_type": "code",
   "execution_count": 21,
   "metadata": {
    "collapsed": false
   },
   "outputs": [
    {
     "data": {
      "text/html": [
       "<div>\n",
       "<table border=\"1\" class=\"dataframe\">\n",
       "  <thead>\n",
       "    <tr style=\"text-align: right;\">\n",
       "      <th></th>\n",
       "      <th>count</th>\n",
       "      <th>mean</th>\n",
       "      <th>std</th>\n",
       "      <th>min</th>\n",
       "      <th>25%</th>\n",
       "      <th>50%</th>\n",
       "      <th>75%</th>\n",
       "      <th>max</th>\n",
       "    </tr>\n",
       "  </thead>\n",
       "  <tbody>\n",
       "    <tr>\n",
       "      <th>Price</th>\n",
       "      <td>32.0</td>\n",
       "      <td>110.621250</td>\n",
       "      <td>15.375905</td>\n",
       "      <td>36.6300</td>\n",
       "      <td>108.817500</td>\n",
       "      <td>111.900000</td>\n",
       "      <td>116.985000</td>\n",
       "      <td>136.090000</td>\n",
       "    </tr>\n",
       "    <tr>\n",
       "      <th>Coupon</th>\n",
       "      <td>32.0</td>\n",
       "      <td>4.716250</td>\n",
       "      <td>1.152856</td>\n",
       "      <td>0.0300</td>\n",
       "      <td>4.280000</td>\n",
       "      <td>4.975000</td>\n",
       "      <td>5.137500</td>\n",
       "      <td>6.650000</td>\n",
       "    </tr>\n",
       "    <tr>\n",
       "      <th>YTM</th>\n",
       "      <td>32.0</td>\n",
       "      <td>3.477719</td>\n",
       "      <td>0.869377</td>\n",
       "      <td>0.1130</td>\n",
       "      <td>3.268500</td>\n",
       "      <td>3.718500</td>\n",
       "      <td>3.997750</td>\n",
       "      <td>4.563000</td>\n",
       "    </tr>\n",
       "    <tr>\n",
       "      <th>CurrentYield</th>\n",
       "      <td>32.0</td>\n",
       "      <td>4.175070</td>\n",
       "      <td>0.977203</td>\n",
       "      <td>0.0819</td>\n",
       "      <td>3.961095</td>\n",
       "      <td>4.343747</td>\n",
       "      <td>4.595256</td>\n",
       "      <td>5.777898</td>\n",
       "    </tr>\n",
       "  </tbody>\n",
       "</table>\n",
       "</div>"
      ],
      "text/plain": [
       "              count        mean        std      min         25%         50%  \\\n",
       "Price          32.0  110.621250  15.375905  36.6300  108.817500  111.900000   \n",
       "Coupon         32.0    4.716250   1.152856   0.0300    4.280000    4.975000   \n",
       "YTM            32.0    3.477719   0.869377   0.1130    3.268500    3.718500   \n",
       "CurrentYield   32.0    4.175070   0.977203   0.0819    3.961095    4.343747   \n",
       "\n",
       "                     75%         max  \n",
       "Price         116.985000  136.090000  \n",
       "Coupon          5.137500    6.650000  \n",
       "YTM             3.997750    4.563000  \n",
       "CurrentYield    4.595256    5.777898  "
      ]
     },
     "execution_count": 21,
     "metadata": {},
     "output_type": "execute_result"
    }
   ],
   "source": [
    "muni_df.describe().T"
   ]
  },
  {
   "cell_type": "code",
   "execution_count": null,
   "metadata": {
    "collapsed": true
   },
   "outputs": [],
   "source": []
  }
 ],
 "metadata": {
  "kernelspec": {
   "display_name": "Python 2",
   "language": "python",
   "name": "python2"
  },
  "language_info": {
   "codemirror_mode": {
    "name": "ipython",
    "version": 2
   },
   "file_extension": ".py",
   "mimetype": "text/x-python",
   "name": "python",
   "nbconvert_exporter": "python",
   "pygments_lexer": "ipython2",
   "version": "2.7.10"
  }
 },
 "nbformat": 4,
 "nbformat_minor": 0
}
